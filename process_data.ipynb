{
  "nbformat": 4,
  "nbformat_minor": 0,
  "metadata": {
    "kernelspec": {
      "display_name": "Python 3",
      "language": "python",
      "name": "python3"
    },
    "language_info": {
      "codemirror_mode": {
        "name": "ipython",
        "version": 3
      },
      "file_extension": ".py",
      "mimetype": "text/x-python",
      "name": "python",
      "nbconvert_exporter": "python",
      "pygments_lexer": "ipython3",
      "version": "3.6.8"
    },
    "colab": {
      "name": "process_data.ipynb",
      "provenance": [],
      "collapsed_sections": []
    }
  },
  "cells": [
    {
      "cell_type": "markdown",
      "metadata": {
        "id": "90td81dGuoFU",
        "colab_type": "text"
      },
      "source": [
        "# Import modules"
      ]
    },
    {
      "cell_type": "code",
      "metadata": {
        "id": "YRdBbzbJuoFY",
        "colab_type": "code",
        "colab": {}
      },
      "source": [
        "import os\n",
        "\n",
        "# make only specific GPU to be utilized\n",
        "os.environ[\"CUDA_DEVICE_ORDER\"] = \"PCI_BUS_ID\"\n",
        "\n",
        "# select GPU to run on\n",
        "GPU = \"0\"\n",
        "os.environ[\"CUDA_VISIBLE_DEVICES\"] = GPU\n",
        "\n",
        "# stop GPU\n",
        "# os.environ[\"CUDA_VISIBLE_DEVICES\"] =\"-1\"\n",
        "\n",
        "# set GPU to be deterministic \n",
        "os.environ[\"PYTHONHASHSEED\"] = \"0\" # set hash environment\n",
        "os.environ[\"TF_CUDNN_USE_AUTOTUNE\"] = \"0\" # use cuDNN function to retrieve the best algorithm\n",
        "os.environ[\"TF_CUDNN_CONVOLUTION_BWD_FILTER_ALGO_DETERMINISTIC\"]='1' # use cuDNN deterministic algorithms\n",
        "os.environ['TF_DETERMINISTIC_OPS'] = '1' # deterministic setting\n",
        "\n",
        "# set numpy, python, tensorflow random seed\n",
        "from numpy.random import seed\n",
        "import random\n",
        "random.seed(10)\n",
        "seed(10)\n",
        "from tensorflow import set_random_seed\n",
        "set_random_seed(20)\n",
        "\n",
        "# GPU memory control\n",
        "import tensorflow as tf\n",
        "config = tf.compat.v1.ConfigProto()\n",
        "# config.gpu_options.allow_growth = True\n",
        "config.gpu_options.per_process_gpu_memory_fraction = 0.25\n",
        "sess = tf.Session(config=config)"
      ],
      "execution_count": 0,
      "outputs": []
    },
    {
      "cell_type": "code",
      "metadata": {
        "id": "JF0g_1UNuoFc",
        "colab_type": "code",
        "outputId": "348d3288-5b7a-4290-e997-c30994efdbfd",
        "colab": {
          "base_uri": "https://localhost:8080/",
          "height": 17
        }
      },
      "source": [
        "import os\n",
        "import json\n",
        "import numpy as np\n",
        "import matplotlib.pyplot as plt\n",
        "import pandas as pd\n",
        "import tensorflow as tf\n",
        "import seaborn as sns\n",
        "from sklearn.model_selection import train_test_split\n",
        "from sklearn.preprocessing import scale, StandardScaler, MinMaxScaler\n",
        "from nltk import tokenize\n",
        "\n",
        "from IPython.core.display import display, HTML\n",
        "display(HTML(\"<style>.container { width:100% !important; }</style>\"))"
      ],
      "execution_count": 380,
      "outputs": [
        {
          "output_type": "display_data",
          "data": {
            "text/html": [
              "<style>.container { width:100% !important; }</style>"
            ],
            "text/plain": [
              "<IPython.core.display.HTML object>"
            ]
          },
          "metadata": {
            "tags": []
          }
        }
      ]
    },
    {
      "cell_type": "markdown",
      "metadata": {
        "id": "U8WiVLTOuoFh",
        "colab_type": "text"
      },
      "source": [
        "# Set up parameters"
      ]
    },
    {
      "cell_type": "code",
      "metadata": {
        "id": "QNKnRJT2uoFi",
        "colab_type": "code",
        "colab": {}
      },
      "source": [
        "start_date = \"2016-01-01\"# \"2015-01-01\" # \"2016-01-01\"\n",
        "end_date = \"2017-12-31\"# \"2016-12-31\" # \"2017-12-31\"\n",
        "pad_maxlen = 50\n",
        "encoding_mode = \"tokenize\" ## \"tokenize\", \"bpe\"\n",
        "calculation_mode = \"surprise\" ## \"surprise\", \"category\"\n",
        "surprise_level = 0 # 0, 5\n",
        "category_list = [\"CRIME\", \"BUSINESS\", \"IMPACT\"]  #[\"CRIME\", \"BUSINESS\", \"IMPACT\", \"POLITICS\", \"MONEY\"] # [\"CRIME\", \"BUSINESS\", \"IMPACT\"] # \"All\", [\"CRIME\", \"MONEY\", \"BUSINESS\", \"IMPACT\"]"
      ],
      "execution_count": 0,
      "outputs": []
    },
    {
      "cell_type": "markdown",
      "metadata": {
        "id": "dkTmZL58uoFl",
        "colab_type": "text"
      },
      "source": [
        "# Get News-category-dataset"
      ]
    },
    {
      "cell_type": "code",
      "metadata": {
        "id": "cCPIDqaauoFm",
        "colab_type": "code",
        "colab": {}
      },
      "source": [
        "# https://www.kaggle.com/rmisra/news-category-dataset\n",
        "# https://www.kaggle.com/hengzheng/news-category-classifier-val-acc-0-65\n",
        "# https://www.kaggle.com/hsankesara/news-classification-using-han"
      ],
      "execution_count": 0,
      "outputs": []
    },
    {
      "cell_type": "code",
      "metadata": {
        "id": "y2ekI3yfuoFq",
        "colab_type": "code",
        "outputId": "f2605b06-673b-4256-ce88-d57fc9c2c996",
        "colab": {
          "base_uri": "https://localhost:8080/",
          "height": 34
        }
      },
      "source": [
        "ls data"
      ],
      "execution_count": 383,
      "outputs": [
        {
          "output_type": "stream",
          "text": [
            "merge_data.csv  News_Category_Dataset_v2.json  USDJPY.txt  word_index.npy\n"
          ],
          "name": "stdout"
        }
      ]
    },
    {
      "cell_type": "code",
      "metadata": {
        "id": "9wWyVQV9uoFu",
        "colab_type": "code",
        "outputId": "d5c41828-b8ee-41ed-e681-05e8d6714b8f",
        "colab": {
          "base_uri": "https://localhost:8080/",
          "height": 429
        }
      },
      "source": [
        "# load data\n",
        "df = pd.read_json('data/News_Category_Dataset_v2.json', lines=True)\n",
        "df.head(2)"
      ],
      "execution_count": 384,
      "outputs": [
        {
          "output_type": "execute_result",
          "data": {
            "text/html": [
              "<div>\n",
              "<style scoped>\n",
              "    .dataframe tbody tr th:only-of-type {\n",
              "        vertical-align: middle;\n",
              "    }\n",
              "\n",
              "    .dataframe tbody tr th {\n",
              "        vertical-align: top;\n",
              "    }\n",
              "\n",
              "    .dataframe thead th {\n",
              "        text-align: right;\n",
              "    }\n",
              "</style>\n",
              "<table border=\"1\" class=\"dataframe\">\n",
              "  <thead>\n",
              "    <tr style=\"text-align: right;\">\n",
              "      <th></th>\n",
              "      <th>category</th>\n",
              "      <th>headline</th>\n",
              "      <th>authors</th>\n",
              "      <th>link</th>\n",
              "      <th>short_description</th>\n",
              "      <th>date</th>\n",
              "    </tr>\n",
              "  </thead>\n",
              "  <tbody>\n",
              "    <tr>\n",
              "      <th>0</th>\n",
              "      <td>CRIME</td>\n",
              "      <td>There Were 2 Mass Shootings In Texas Last Week, But Only 1 On TV</td>\n",
              "      <td>Melissa Jeltsen</td>\n",
              "      <td>https://www.huffingtonpost.com/entry/texas-amanda-painter-mass-shooting_us_5b081ab4e4b0802d69caad89</td>\n",
              "      <td>She left her husband. He killed their children. Just another day in America.</td>\n",
              "      <td>2018-05-26</td>\n",
              "    </tr>\n",
              "    <tr>\n",
              "      <th>1</th>\n",
              "      <td>ENTERTAINMENT</td>\n",
              "      <td>Will Smith Joins Diplo And Nicky Jam For The 2018 World Cup's Official Song</td>\n",
              "      <td>Andy McDonald</td>\n",
              "      <td>https://www.huffingtonpost.com/entry/will-smith-joins-diplo-and-nicky-jam-for-the-official-2018-world-cup-song_us_5b09726fe4b0fdb2aa541201</td>\n",
              "      <td>Of course it has a song.</td>\n",
              "      <td>2018-05-26</td>\n",
              "    </tr>\n",
              "  </tbody>\n",
              "</table>\n",
              "</div>"
            ],
            "text/plain": [
              "        category  ...       date\n",
              "0  CRIME          ... 2018-05-26\n",
              "1  ENTERTAINMENT  ... 2018-05-26\n",
              "\n",
              "[2 rows x 6 columns]"
            ]
          },
          "metadata": {
            "tags": []
          },
          "execution_count": 384
        }
      ]
    },
    {
      "cell_type": "code",
      "metadata": {
        "id": "3ZSz3v0xuoFx",
        "colab_type": "code",
        "colab": {
          "base_uri": "https://localhost:8080/",
          "height": 294
        },
        "outputId": "454b0e1a-ff1e-4c76-85cf-1cffc08c97af"
      },
      "source": [
        "df.tail(2)"
      ],
      "execution_count": 385,
      "outputs": [
        {
          "output_type": "execute_result",
          "data": {
            "text/html": [
              "<div>\n",
              "<style scoped>\n",
              "    .dataframe tbody tr th:only-of-type {\n",
              "        vertical-align: middle;\n",
              "    }\n",
              "\n",
              "    .dataframe tbody tr th {\n",
              "        vertical-align: top;\n",
              "    }\n",
              "\n",
              "    .dataframe thead th {\n",
              "        text-align: right;\n",
              "    }\n",
              "</style>\n",
              "<table border=\"1\" class=\"dataframe\">\n",
              "  <thead>\n",
              "    <tr style=\"text-align: right;\">\n",
              "      <th></th>\n",
              "      <th>category</th>\n",
              "      <th>headline</th>\n",
              "      <th>authors</th>\n",
              "      <th>link</th>\n",
              "      <th>short_description</th>\n",
              "      <th>date</th>\n",
              "    </tr>\n",
              "  </thead>\n",
              "  <tbody>\n",
              "    <tr>\n",
              "      <th>25869</th>\n",
              "      <td>ENTERTAINMENT</td>\n",
              "      <td>Reese Witherspoon Surprises Students Living In Her Old Dorm Room</td>\n",
              "      <td>David Moye</td>\n",
              "      <td>https://www.huffingtonpost.com/entry/reese-witherspoon-dorm-room_us_5924941ce4b00c8df29f87f5</td>\n",
              "      <td>One Stanford student got an unexpected visitor last weekend.</td>\n",
              "      <td>2017-05-23</td>\n",
              "    </tr>\n",
              "    <tr>\n",
              "      <th>25870</th>\n",
              "      <td>PARENTS</td>\n",
              "      <td>Mom Does Hilariously Accurate Impression Of Toddlers</td>\n",
              "      <td>Caroline Bologna</td>\n",
              "      <td>https://www.huffingtonpost.com/entry/mom-does-hilariously-accurate-impression-of-toddlers_us_59235677e4b03b485cb42ec2</td>\n",
              "      <td>This is hilarious!</td>\n",
              "      <td>2017-05-23</td>\n",
              "    </tr>\n",
              "  </tbody>\n",
              "</table>\n",
              "</div>"
            ],
            "text/plain": [
              "            category  ...       date\n",
              "25869  ENTERTAINMENT  ... 2017-05-23\n",
              "25870  PARENTS        ... 2017-05-23\n",
              "\n",
              "[2 rows x 6 columns]"
            ]
          },
          "metadata": {
            "tags": []
          },
          "execution_count": 385
        }
      ]
    },
    {
      "cell_type": "code",
      "metadata": {
        "id": "2cNs9rQ-uoF1",
        "colab_type": "code",
        "colab": {
          "base_uri": "https://localhost:8080/",
          "height": 774
        },
        "outputId": "245fc6a7-ef1d-4a17-9ac4-c09fd7b9707f"
      },
      "source": [
        "cates = df.groupby('category')\n",
        "print (df[\"category\"].unique())\n",
        "print (df.count())\n",
        "print(\"total categories:\", cates.ngroups)\n",
        "print(cates.size())"
      ],
      "execution_count": 386,
      "outputs": [
        {
          "output_type": "stream",
          "text": [
            "['CRIME' 'ENTERTAINMENT' 'WORLD NEWS' 'IMPACT' 'POLITICS' 'WEIRD NEWS'\n",
            " 'BLACK VOICES' 'WOMEN' 'COMEDY' 'QUEER VOICES' 'SPORTS' 'BUSINESS'\n",
            " 'TRAVEL' 'MEDIA' 'TECH' 'RELIGION' 'SCIENCE' 'LATINO VOICES' 'EDUCATION'\n",
            " 'COLLEGE' 'PARENTS' 'ARTS & CULTURE' 'STYLE' 'GREEN' 'TASTE'\n",
            " 'HEALTHY LIVING' 'THE WORLDPOST' 'GOOD NEWS']\n",
            "category             25871\n",
            "headline             25871\n",
            "authors              25871\n",
            "link                 25871\n",
            "short_description    25871\n",
            "date                 25871\n",
            "dtype: int64\n",
            "total categories: 28\n",
            "category\n",
            "ARTS & CULTURE    186 \n",
            "BLACK VOICES      958 \n",
            "BUSINESS          332 \n",
            "COLLEGE           38  \n",
            "COMEDY            999 \n",
            "CRIME             391 \n",
            "EDUCATION         184 \n",
            "ENTERTAINMENT     3544\n",
            "GOOD NEWS         9   \n",
            "GREEN             399 \n",
            "HEALTHY LIVING    901 \n",
            "IMPACT            313 \n",
            "LATINO VOICES     270 \n",
            "MEDIA             700 \n",
            "PARENTS           744 \n",
            "POLITICS          9134\n",
            "QUEER VOICES      1365\n",
            "RELIGION          274 \n",
            "SCIENCE           94  \n",
            "SPORTS            580 \n",
            "STYLE             364 \n",
            "TASTE             337 \n",
            "TECH              128 \n",
            "THE WORLDPOST     77  \n",
            "TRAVEL            210 \n",
            "WEIRD NEWS        432 \n",
            "WOMEN             749 \n",
            "WORLD NEWS        2159\n",
            "dtype: int64\n"
          ],
          "name": "stdout"
        }
      ]
    },
    {
      "cell_type": "code",
      "metadata": {
        "id": "PCJp_sb7uoF4",
        "colab_type": "code",
        "colab": {}
      },
      "source": [
        "# Merge THE WORLDPOST and WORLDPOST should be the same category\n",
        "\n",
        "df.category = df.category.map(lambda x: \"WORLDPOST\" if x == \"THE WORLDPOST\" else x)\n",
        "# cates = df.groupby('category')\n",
        "# print(\"total categories:\", cates.ngroups)\n",
        "# print(cates.size())"
      ],
      "execution_count": 0,
      "outputs": []
    },
    {
      "cell_type": "code",
      "metadata": {
        "id": "L5WLOIcvuoF8",
        "colab_type": "code",
        "colab": {
          "base_uri": "https://localhost:8080/",
          "height": 34
        },
        "outputId": "5497db04-9b0f-434b-d79a-f5e4b869b4a5"
      },
      "source": [
        "# Select category\n",
        "if category_list == \"All\":\n",
        "    df = df\n",
        "else:\n",
        "    select_category_list = category_list\n",
        "    df = df[df['category'].isin(select_category_list)]\n",
        "df[\"category\"].unique()"
      ],
      "execution_count": 388,
      "outputs": [
        {
          "output_type": "execute_result",
          "data": {
            "text/plain": [
              "array(['CRIME', 'IMPACT', 'BUSINESS'], dtype=object)"
            ]
          },
          "metadata": {
            "tags": []
          },
          "execution_count": 388
        }
      ]
    },
    {
      "cell_type": "code",
      "metadata": {
        "id": "Mmzx7RJTuoF_",
        "colab_type": "code",
        "colab": {
          "base_uri": "https://localhost:8080/",
          "height": 47
        },
        "outputId": "305f6e2e-a69d-4fcf-9760-4d3c81c3bd34"
      },
      "source": [
        "df[df.isnull().any(axis=1)]"
      ],
      "execution_count": 389,
      "outputs": [
        {
          "output_type": "execute_result",
          "data": {
            "text/html": [
              "<div>\n",
              "<style scoped>\n",
              "    .dataframe tbody tr th:only-of-type {\n",
              "        vertical-align: middle;\n",
              "    }\n",
              "\n",
              "    .dataframe tbody tr th {\n",
              "        vertical-align: top;\n",
              "    }\n",
              "\n",
              "    .dataframe thead th {\n",
              "        text-align: right;\n",
              "    }\n",
              "</style>\n",
              "<table border=\"1\" class=\"dataframe\">\n",
              "  <thead>\n",
              "    <tr style=\"text-align: right;\">\n",
              "      <th></th>\n",
              "      <th>category</th>\n",
              "      <th>headline</th>\n",
              "      <th>authors</th>\n",
              "      <th>link</th>\n",
              "      <th>short_description</th>\n",
              "      <th>date</th>\n",
              "    </tr>\n",
              "  </thead>\n",
              "  <tbody>\n",
              "  </tbody>\n",
              "</table>\n",
              "</div>"
            ],
            "text/plain": [
              "Empty DataFrame\n",
              "Columns: [category, headline, authors, link, short_description, date]\n",
              "Index: []"
            ]
          },
          "metadata": {
            "tags": []
          },
          "execution_count": 389
        }
      ]
    },
    {
      "cell_type": "markdown",
      "metadata": {
        "id": "It_z6BMxuoGE",
        "colab_type": "text"
      },
      "source": [
        "# Process data"
      ]
    },
    {
      "cell_type": "code",
      "metadata": {
        "id": "FDDfxIHUuoGF",
        "colab_type": "code",
        "colab": {}
      },
      "source": [
        "from keras.preprocessing import sequence\n",
        "from keras.preprocessing.text import Tokenizer, text_to_word_sequence\n",
        "from keras.utils import np_utils"
      ],
      "execution_count": 0,
      "outputs": []
    },
    {
      "cell_type": "code",
      "metadata": {
        "id": "Gm_Bl0__uoGJ",
        "colab_type": "code",
        "colab": {
          "base_uri": "https://localhost:8080/",
          "height": 770
        },
        "outputId": "5865fecf-dc21-4ff9-d089-932a07d8ebc0"
      },
      "source": [
        "# using headlines and short_description as input X\n",
        "\n",
        "df['text'] = df['headline'] + \" \" + df['short_description']\n",
        "# df['text'] = df['headline']\n",
        "df.head(2)"
      ],
      "execution_count": 391,
      "outputs": [
        {
          "output_type": "stream",
          "text": [
            "/usr/local/lib/python3.6/dist-packages/ipykernel_launcher.py:2: SettingWithCopyWarning: \n",
            "A value is trying to be set on a copy of a slice from a DataFrame.\n",
            "Try using .loc[row_indexer,col_indexer] = value instead\n",
            "\n",
            "See the caveats in the documentation: http://pandas.pydata.org/pandas-docs/stable/user_guide/indexing.html#returning-a-view-versus-a-copy\n",
            "  \n"
          ],
          "name": "stderr"
        },
        {
          "output_type": "execute_result",
          "data": {
            "text/html": [
              "<div>\n",
              "<style scoped>\n",
              "    .dataframe tbody tr th:only-of-type {\n",
              "        vertical-align: middle;\n",
              "    }\n",
              "\n",
              "    .dataframe tbody tr th {\n",
              "        vertical-align: top;\n",
              "    }\n",
              "\n",
              "    .dataframe thead th {\n",
              "        text-align: right;\n",
              "    }\n",
              "</style>\n",
              "<table border=\"1\" class=\"dataframe\">\n",
              "  <thead>\n",
              "    <tr style=\"text-align: right;\">\n",
              "      <th></th>\n",
              "      <th>category</th>\n",
              "      <th>headline</th>\n",
              "      <th>authors</th>\n",
              "      <th>link</th>\n",
              "      <th>short_description</th>\n",
              "      <th>date</th>\n",
              "      <th>text</th>\n",
              "    </tr>\n",
              "  </thead>\n",
              "  <tbody>\n",
              "    <tr>\n",
              "      <th>0</th>\n",
              "      <td>CRIME</td>\n",
              "      <td>There Were 2 Mass Shootings In Texas Last Week, But Only 1 On TV</td>\n",
              "      <td>Melissa Jeltsen</td>\n",
              "      <td>https://www.huffingtonpost.com/entry/texas-amanda-painter-mass-shooting_us_5b081ab4e4b0802d69caad89</td>\n",
              "      <td>She left her husband. He killed their children. Just another day in America.</td>\n",
              "      <td>2018-05-26</td>\n",
              "      <td>There Were 2 Mass Shootings In Texas Last Week, But Only 1 On TV She left her husband. He killed their children. Just another day in America.</td>\n",
              "    </tr>\n",
              "    <tr>\n",
              "      <th>12</th>\n",
              "      <td>IMPACT</td>\n",
              "      <td>With Its Way Of Life At Risk, This Remote Oyster-Growing Region Called In Robots</td>\n",
              "      <td>Karen Pinchin</td>\n",
              "      <td>https://www.huffingtonpost.com/entry/remote-oyster-growing-region-called-in-robots_us_5b083658e4b0fdb2aa53415d</td>\n",
              "      <td>The revolution is coming to rural New Brunswick.</td>\n",
              "      <td>2018-05-26</td>\n",
              "      <td>With Its Way Of Life At Risk, This Remote Oyster-Growing Region Called In Robots The revolution is coming to rural New Brunswick.</td>\n",
              "    </tr>\n",
              "  </tbody>\n",
              "</table>\n",
              "</div>"
            ],
            "text/plain": [
              "   category  ...                                                                                                                                           text\n",
              "0   CRIME    ...  There Were 2 Mass Shootings In Texas Last Week, But Only 1 On TV She left her husband. He killed their children. Just another day in America.\n",
              "12  IMPACT   ...  With Its Way Of Life At Risk, This Remote Oyster-Growing Region Called In Robots The revolution is coming to rural New Brunswick.            \n",
              "\n",
              "[2 rows x 7 columns]"
            ]
          },
          "metadata": {
            "tags": []
          },
          "execution_count": 391
        }
      ]
    },
    {
      "cell_type": "code",
      "metadata": {
        "id": "0gwHoMNouoGM",
        "colab_type": "code",
        "colab": {
          "base_uri": "https://localhost:8080/",
          "height": 158
        },
        "outputId": "6cbf1ae2-fd1d-41e7-a283-5b96cb0b7098"
      },
      "source": [
        "df = df[['date','text','category']]\n",
        "df.info()"
      ],
      "execution_count": 392,
      "outputs": [
        {
          "output_type": "stream",
          "text": [
            "<class 'pandas.core.frame.DataFrame'>\n",
            "Int64Index: 1036 entries, 0 to 25818\n",
            "Data columns (total 3 columns):\n",
            "date        1036 non-null datetime64[ns]\n",
            "text        1036 non-null object\n",
            "category    1036 non-null object\n",
            "dtypes: datetime64[ns](1), object(2)\n",
            "memory usage: 32.4+ KB\n"
          ],
          "name": "stdout"
        }
      ]
    },
    {
      "cell_type": "code",
      "metadata": {
        "id": "rrvgc5AeuoGR",
        "colab_type": "code",
        "colab": {
          "base_uri": "https://localhost:8080/",
          "height": 330
        },
        "outputId": "48e725e2-ad32-49f3-cd05-30ab29382e1c"
      },
      "source": [
        "df = df.reset_index()\n",
        "del df['index']\n",
        "df.head()"
      ],
      "execution_count": 393,
      "outputs": [
        {
          "output_type": "execute_result",
          "data": {
            "text/html": [
              "<div>\n",
              "<style scoped>\n",
              "    .dataframe tbody tr th:only-of-type {\n",
              "        vertical-align: middle;\n",
              "    }\n",
              "\n",
              "    .dataframe tbody tr th {\n",
              "        vertical-align: top;\n",
              "    }\n",
              "\n",
              "    .dataframe thead th {\n",
              "        text-align: right;\n",
              "    }\n",
              "</style>\n",
              "<table border=\"1\" class=\"dataframe\">\n",
              "  <thead>\n",
              "    <tr style=\"text-align: right;\">\n",
              "      <th></th>\n",
              "      <th>date</th>\n",
              "      <th>text</th>\n",
              "      <th>category</th>\n",
              "    </tr>\n",
              "  </thead>\n",
              "  <tbody>\n",
              "    <tr>\n",
              "      <th>0</th>\n",
              "      <td>2018-05-26</td>\n",
              "      <td>There Were 2 Mass Shootings In Texas Last Week, But Only 1 On TV She left her husband. He killed their children. Just another day in America.</td>\n",
              "      <td>CRIME</td>\n",
              "    </tr>\n",
              "    <tr>\n",
              "      <th>1</th>\n",
              "      <td>2018-05-26</td>\n",
              "      <td>With Its Way Of Life At Risk, This Remote Oyster-Growing Region Called In Robots The revolution is coming to rural New Brunswick.</td>\n",
              "      <td>IMPACT</td>\n",
              "    </tr>\n",
              "    <tr>\n",
              "      <th>2</th>\n",
              "      <td>2018-05-25</td>\n",
              "      <td>Rachel Dolezal Faces Felony Charges For Welfare Fraud State prosecutors say almost $84,000 had been deposited into her bank account while she was receiving public assistance.</td>\n",
              "      <td>CRIME</td>\n",
              "    </tr>\n",
              "    <tr>\n",
              "      <th>3</th>\n",
              "      <td>2018-05-25</td>\n",
              "      <td>Man Faces Charges After Pulling Knife, Stun Gun On Muslim Students At McDonald's “We thought we were going to die,\" one of the students said.</td>\n",
              "      <td>CRIME</td>\n",
              "    </tr>\n",
              "    <tr>\n",
              "      <th>4</th>\n",
              "      <td>2018-05-25</td>\n",
              "      <td>2 People Injured In Indiana School Shooting A male student, believed to be the suspect, has been detained, according to police.</td>\n",
              "      <td>CRIME</td>\n",
              "    </tr>\n",
              "  </tbody>\n",
              "</table>\n",
              "</div>"
            ],
            "text/plain": [
              "        date  ... category\n",
              "0 2018-05-26  ...  CRIME  \n",
              "1 2018-05-26  ...  IMPACT \n",
              "2 2018-05-25  ...  CRIME  \n",
              "3 2018-05-25  ...  CRIME  \n",
              "4 2018-05-25  ...  CRIME  \n",
              "\n",
              "[5 rows x 3 columns]"
            ]
          },
          "metadata": {
            "tags": []
          },
          "execution_count": 393
        }
      ]
    },
    {
      "cell_type": "markdown",
      "metadata": {
        "id": "eZUGoS7suoGV",
        "colab_type": "text"
      },
      "source": [
        "## clean string"
      ]
    },
    {
      "cell_type": "code",
      "metadata": {
        "id": "SyfwaiPHuoGX",
        "colab_type": "code",
        "colab": {}
      },
      "source": [
        "# https://machinelearningmastery.com/clean-text-machine-learning-python/"
      ],
      "execution_count": 0,
      "outputs": []
    },
    {
      "cell_type": "code",
      "metadata": {
        "id": "NvGprMTVuoGZ",
        "colab_type": "code",
        "colab": {}
      },
      "source": [
        "# df[\"text\"][0]"
      ],
      "execution_count": 0,
      "outputs": []
    },
    {
      "cell_type": "code",
      "metadata": {
        "id": "u2SNHPOUuoGc",
        "colab_type": "code",
        "colab": {}
      },
      "source": [
        "from nltk.tokenize import word_tokenize\n",
        "import string\n",
        "from nltk.corpus import stopwords\n",
        "from nltk.stem.porter import PorterStemmer\n",
        "def clean_text(text):\n",
        "    tokens = word_tokenize(text)\n",
        "    # convert to lower case\n",
        "    tokens = [w.lower() for w in tokens]\n",
        "    #print (\"tokens\", tokens)\n",
        "    \n",
        "    # remove punctuation from each word\n",
        "    table = str.maketrans('', '', string.punctuation)\n",
        "    stripped = [w.translate(table) for w in tokens]\n",
        "    \n",
        "    # remove remaining tokens that are not alphabetic\n",
        "    words = [word for word in stripped if word.isalpha()]\n",
        "\n",
        "    # filter out stop words\n",
        "    stop_words = set(stopwords.words('english'))\n",
        "    words = [w for w in words if not w in stop_words]\n",
        "    #print(\"words\", words[:100])\n",
        "    \n",
        "#     # stemming of words\n",
        "#     porter = PorterStemmer()\n",
        "#     stemmed = [porter.stem(word) for word in words]\n",
        "#     print(\"stem\",stemmed[:100])\n",
        "\n",
        "    sentence = ' '.join(words)\n",
        "    return sentence"
      ],
      "execution_count": 0,
      "outputs": []
    },
    {
      "cell_type": "code",
      "metadata": {
        "id": "8IKI9bs-QU51",
        "colab_type": "code",
        "colab": {}
      },
      "source": [
        "# ! pip install -U nltk\n",
        "# ! python -m nltk.downloader all"
      ],
      "execution_count": 0,
      "outputs": []
    },
    {
      "cell_type": "code",
      "metadata": {
        "id": "gMuQ_dBVuoGf",
        "colab_type": "code",
        "colab": {}
      },
      "source": [
        "texts = []\n",
        "for idx in range(df.text.shape[0]):\n",
        "    #print (idx, df.text[idx])\n",
        "    text = clean_text(df.text[idx])\n",
        "    #print (text)\n",
        "    texts.append(text)\n",
        "df[\"text\"] = pd.Series(texts)"
      ],
      "execution_count": 0,
      "outputs": []
    },
    {
      "cell_type": "code",
      "metadata": {
        "id": "TR5lMXqbuoGl",
        "colab_type": "code",
        "colab": {}
      },
      "source": [
        "# df[\"text\"]"
      ],
      "execution_count": 0,
      "outputs": []
    },
    {
      "cell_type": "code",
      "metadata": {
        "id": "jr1iaAASuoGo",
        "colab_type": "code",
        "colab": {
          "base_uri": "https://localhost:8080/",
          "height": 140
        },
        "outputId": "30c380b7-235d-4502-9120-4a0c9b8c7083"
      },
      "source": [
        "df.head(2)"
      ],
      "execution_count": 400,
      "outputs": [
        {
          "output_type": "execute_result",
          "data": {
            "text/html": [
              "<div>\n",
              "<style scoped>\n",
              "    .dataframe tbody tr th:only-of-type {\n",
              "        vertical-align: middle;\n",
              "    }\n",
              "\n",
              "    .dataframe tbody tr th {\n",
              "        vertical-align: top;\n",
              "    }\n",
              "\n",
              "    .dataframe thead th {\n",
              "        text-align: right;\n",
              "    }\n",
              "</style>\n",
              "<table border=\"1\" class=\"dataframe\">\n",
              "  <thead>\n",
              "    <tr style=\"text-align: right;\">\n",
              "      <th></th>\n",
              "      <th>date</th>\n",
              "      <th>text</th>\n",
              "      <th>category</th>\n",
              "    </tr>\n",
              "  </thead>\n",
              "  <tbody>\n",
              "    <tr>\n",
              "      <th>0</th>\n",
              "      <td>2018-05-26</td>\n",
              "      <td>mass shootings texas last week tv left husband killed children another day america</td>\n",
              "      <td>CRIME</td>\n",
              "    </tr>\n",
              "    <tr>\n",
              "      <th>1</th>\n",
              "      <td>2018-05-26</td>\n",
              "      <td>way life risk remote oystergrowing region called robots revolution coming rural new brunswick</td>\n",
              "      <td>IMPACT</td>\n",
              "    </tr>\n",
              "  </tbody>\n",
              "</table>\n",
              "</div>"
            ],
            "text/plain": [
              "        date  ... category\n",
              "0 2018-05-26  ...  CRIME  \n",
              "1 2018-05-26  ...  IMPACT \n",
              "\n",
              "[2 rows x 3 columns]"
            ]
          },
          "metadata": {
            "tags": []
          },
          "execution_count": 400
        }
      ]
    },
    {
      "cell_type": "markdown",
      "metadata": {
        "id": "0stN77BPuoGs",
        "colab_type": "text"
      },
      "source": [
        "## byte pair encoding"
      ]
    },
    {
      "cell_type": "code",
      "metadata": {
        "id": "MS0NR8bBCZen",
        "colab_type": "code",
        "colab": {}
      },
      "source": [
        "# !pip install keras_gpt_2"
      ],
      "execution_count": 0,
      "outputs": []
    },
    {
      "cell_type": "code",
      "metadata": {
        "id": "XEhzE2amuoGs",
        "colab_type": "code",
        "colab": {}
      },
      "source": [
        "# import keras_gpt_2 \n",
        "# from keras_gpt_2 import load_trained_model_from_checkpoint, get_bpe_from_files, generate\n",
        "# model_folder = 'gpt-2/models/117M' # 117M, 345M, 774M, 1558M\n",
        "# model_folder=os.path.abspath(model_folder)\n",
        "# config_path = os.path.join(model_folder, 'hparams.json')\n",
        "# checkpoint_path = os.path.join(model_folder, 'model.ckpt')\n",
        "# encoder_path = os.path.join(model_folder, 'encoder.json')\n",
        "# vocab_path = os.path.join(model_folder, 'vocab.bpe')\n",
        "\n",
        "# bpe = get_bpe_from_files(encoder_path, vocab_path)"
      ],
      "execution_count": 0,
      "outputs": []
    },
    {
      "cell_type": "code",
      "metadata": {
        "id": "e-RWt0G5uoGv",
        "colab_type": "code",
        "colab": {}
      },
      "source": [
        "# df[\"bpe\"] = [bpe.encode(text) for text in df[\"text\"]]\n",
        "# df.head()"
      ],
      "execution_count": 0,
      "outputs": []
    },
    {
      "cell_type": "markdown",
      "metadata": {
        "id": "33OVhJwyuoGy",
        "colab_type": "text"
      },
      "source": [
        "## tokenizing"
      ]
    },
    {
      "cell_type": "code",
      "metadata": {
        "id": "ju_fMm00uoGz",
        "colab_type": "code",
        "colab": {}
      },
      "source": [
        "# df.text"
      ],
      "execution_count": 0,
      "outputs": []
    },
    {
      "cell_type": "code",
      "metadata": {
        "id": "v3-iP-HSuoG2",
        "colab_type": "code",
        "colab": {
          "base_uri": "https://localhost:8080/",
          "height": 531
        },
        "outputId": "c1327cff-afed-4aaa-d049-a7d84b8eb1b2"
      },
      "source": [
        "tokenizer = Tokenizer()\n",
        "tokenizer.fit_on_texts(df.text)\n",
        "X = tokenizer.texts_to_sequences(df.text)\n",
        "df['words'] = X\n",
        "\n",
        "# delete some empty and short data\n",
        "\n",
        "df['word_length'] = df.words.apply(lambda i: len(i))\n",
        "df = df[df.word_length >= 5]\n",
        "\n",
        "df.head()"
      ],
      "execution_count": 405,
      "outputs": [
        {
          "output_type": "execute_result",
          "data": {
            "text/html": [
              "<div>\n",
              "<style scoped>\n",
              "    .dataframe tbody tr th:only-of-type {\n",
              "        vertical-align: middle;\n",
              "    }\n",
              "\n",
              "    .dataframe tbody tr th {\n",
              "        vertical-align: top;\n",
              "    }\n",
              "\n",
              "    .dataframe thead th {\n",
              "        text-align: right;\n",
              "    }\n",
              "</style>\n",
              "<table border=\"1\" class=\"dataframe\">\n",
              "  <thead>\n",
              "    <tr style=\"text-align: right;\">\n",
              "      <th></th>\n",
              "      <th>date</th>\n",
              "      <th>text</th>\n",
              "      <th>category</th>\n",
              "      <th>words</th>\n",
              "      <th>word_length</th>\n",
              "    </tr>\n",
              "  </thead>\n",
              "  <tbody>\n",
              "    <tr>\n",
              "      <th>0</th>\n",
              "      <td>2018-05-26</td>\n",
              "      <td>mass shootings texas last week tv left husband killed children another day america</td>\n",
              "      <td>CRIME</td>\n",
              "      <td>[81, 186, 28, 37, 98, 794, 90, 187, 34, 47, 150, 19, 60]</td>\n",
              "      <td>13</td>\n",
              "    </tr>\n",
              "    <tr>\n",
              "      <th>1</th>\n",
              "      <td>2018-05-26</td>\n",
              "      <td>way life risk remote oystergrowing region called robots revolution coming rural new brunswick</td>\n",
              "      <td>IMPACT</td>\n",
              "      <td>[151, 76, 289, 2459, 2460, 2461, 152, 597, 1514, 170, 1077, 2, 2462]</td>\n",
              "      <td>13</td>\n",
              "    </tr>\n",
              "    <tr>\n",
              "      <th>2</th>\n",
              "      <td>2018-05-25</td>\n",
              "      <td>rachel dolezal faces felony charges welfare fraud state prosecutors say almost deposited bank account receiving public assistance</td>\n",
              "      <td>CRIME</td>\n",
              "      <td>[1515, 2463, 128, 1516, 109, 1078, 249, 55, 598, 14, 481, 2464, 188, 1079, 1080, 110, 795]</td>\n",
              "      <td>17</td>\n",
              "    </tr>\n",
              "    <tr>\n",
              "      <th>3</th>\n",
              "      <td>2018-05-25</td>\n",
              "      <td>man faces charges pulling knife stun gun muslim students mcdonald thought going die one students said</td>\n",
              "      <td>CRIME</td>\n",
              "      <td>[5, 128, 109, 2465, 1081, 2466, 61, 796, 338, 2467, 1082, 153, 290, 7, 338, 4]</td>\n",
              "      <td>16</td>\n",
              "    </tr>\n",
              "    <tr>\n",
              "      <th>4</th>\n",
              "      <td>2018-05-25</td>\n",
              "      <td>people injured indiana school shooting male student believed suspect detained according police</td>\n",
              "      <td>CRIME</td>\n",
              "      <td>[3, 291, 1083, 25, 9, 797, 171, 599, 21, 2468, 189, 1]</td>\n",
              "      <td>12</td>\n",
              "    </tr>\n",
              "  </tbody>\n",
              "</table>\n",
              "</div>"
            ],
            "text/plain": [
              "        date  ... word_length\n",
              "0 2018-05-26  ...  13        \n",
              "1 2018-05-26  ...  13        \n",
              "2 2018-05-25  ...  17        \n",
              "3 2018-05-25  ...  16        \n",
              "4 2018-05-25  ...  12        \n",
              "\n",
              "[5 rows x 5 columns]"
            ]
          },
          "metadata": {
            "tags": []
          },
          "execution_count": 405
        }
      ]
    },
    {
      "cell_type": "code",
      "metadata": {
        "id": "F4pJwN92uoG5",
        "colab_type": "code",
        "colab": {}
      },
      "source": [
        "# tokenizer.word_index.items()"
      ],
      "execution_count": 0,
      "outputs": []
    },
    {
      "cell_type": "code",
      "metadata": {
        "id": "pEtlgy5fuoG8",
        "colab_type": "code",
        "colab": {
          "base_uri": "https://localhost:8080/",
          "height": 175
        },
        "outputId": "9e02800a-94fc-4f0e-8333-30cc5d9b0abf"
      },
      "source": [
        "df.word_length.describe()"
      ],
      "execution_count": 407,
      "outputs": [
        {
          "output_type": "execute_result",
          "data": {
            "text/plain": [
              "count    1036.000000\n",
              "mean     15.883205  \n",
              "std      3.812878   \n",
              "min      6.000000   \n",
              "25%      14.000000  \n",
              "50%      16.000000  \n",
              "75%      18.000000  \n",
              "max      29.000000  \n",
              "Name: word_length, dtype: float64"
            ]
          },
          "metadata": {
            "tags": []
          },
          "execution_count": 407
        }
      ]
    },
    {
      "cell_type": "code",
      "metadata": {
        "id": "CVLkrdC4uoHA",
        "colab_type": "code",
        "colab": {}
      },
      "source": [
        "# padding length\n",
        "X = list(sequence.pad_sequences(df.words, maxlen=pad_maxlen))"
      ],
      "execution_count": 0,
      "outputs": []
    },
    {
      "cell_type": "code",
      "metadata": {
        "id": "pPHcfE9zuoHD",
        "colab_type": "code",
        "colab": {
          "base_uri": "https://localhost:8080/",
          "height": 34
        },
        "outputId": "0364a4f4-93e3-468a-fd67-973e1d31eb82"
      },
      "source": [
        "# category to id\n",
        "\n",
        "categories = df.groupby('category').size().index.tolist()\n",
        "category_int = {}\n",
        "int_category = {}\n",
        "for i, k in enumerate(categories):\n",
        "    category_int.update({k:i})\n",
        "    int_category.update({i:k})\n",
        "\n",
        "df['c2id'] = df['category'].apply(lambda x: category_int[x])\n",
        "print (df['c2id'].unique())"
      ],
      "execution_count": 409,
      "outputs": [
        {
          "output_type": "stream",
          "text": [
            "[1 2 0]\n"
          ],
          "name": "stdout"
        }
      ]
    },
    {
      "cell_type": "markdown",
      "metadata": {
        "id": "Ng8iagHnuoHH",
        "colab_type": "text"
      },
      "source": [
        "## glove embedding"
      ]
    },
    {
      "cell_type": "code",
      "metadata": {
        "id": "i9JHwSEZuoHH",
        "colab_type": "code",
        "colab": {}
      },
      "source": [
        "# download glove pre-trained word vectors\n",
        "# https://github.com/stanfordnlp/GloVe"
      ],
      "execution_count": 0,
      "outputs": []
    },
    {
      "cell_type": "code",
      "metadata": {
        "id": "STNZ0TFxuoHM",
        "colab_type": "code",
        "colab": {}
      },
      "source": [
        "# word_index = tokenizer.word_index\n",
        "\n",
        "# EMBEDDING_DIM = 100\n",
        "\n",
        "# embeddings_index = {}\n",
        "# f = open('../input/glove-global-vectors-for-word-representation/glove.6B.100d.txt')\n",
        "# for line in f:\n",
        "#     values = line.split()\n",
        "#     word = values[0]\n",
        "#     coefs = np.asarray(values[1:], dtype='float32')\n",
        "#     embeddings_index[word] = coefs\n",
        "# f.close()\n",
        "\n",
        "# print('Found %s unique tokens.' % len(word_index))\n",
        "# print('Total %s word vectors.' % len(embeddings_index))"
      ],
      "execution_count": 0,
      "outputs": []
    },
    {
      "cell_type": "code",
      "metadata": {
        "id": "6KnwwWGDuoHO",
        "colab_type": "code",
        "colab": {}
      },
      "source": [
        "# embedding_matrix = np.zeros((len(word_index) + 1, EMBEDDING_DIM))\n",
        "# for word, i in word_index.items():\n",
        "#     embedding_vector = embeddings_index.get(word)\n",
        "#     if embedding_vector is not None:\n",
        "#         embedding_matrix[i] = embedding_vector\n",
        "\n",
        "# embedding_layer = Embedding(len(word_index)+1,\n",
        "#                             EMBEDDING_DIM,\n",
        "#                             embeddings_initializer=Constant(embedding_matrix),\n",
        "#                             input_length=maxlen,\n",
        "#                             trainable=False)"
      ],
      "execution_count": 0,
      "outputs": []
    },
    {
      "cell_type": "markdown",
      "metadata": {
        "id": "XVL7HjCMuoHR",
        "colab_type": "text"
      },
      "source": [
        "## select data"
      ]
    },
    {
      "cell_type": "code",
      "metadata": {
        "scrolled": true,
        "id": "BHhXlwmauoHS",
        "colab_type": "code",
        "colab": {
          "base_uri": "https://localhost:8080/",
          "height": 194
        },
        "outputId": "4df252da-f12d-44d3-c260-50ca9859d2f2"
      },
      "source": [
        "df_news = df[(df[\"date\"] >= start_date) & (df[\"date\"] <= end_date)]\n",
        "df_news.head(1)"
      ],
      "execution_count": 413,
      "outputs": [
        {
          "output_type": "execute_result",
          "data": {
            "text/html": [
              "<div>\n",
              "<style scoped>\n",
              "    .dataframe tbody tr th:only-of-type {\n",
              "        vertical-align: middle;\n",
              "    }\n",
              "\n",
              "    .dataframe tbody tr th {\n",
              "        vertical-align: top;\n",
              "    }\n",
              "\n",
              "    .dataframe thead th {\n",
              "        text-align: right;\n",
              "    }\n",
              "</style>\n",
              "<table border=\"1\" class=\"dataframe\">\n",
              "  <thead>\n",
              "    <tr style=\"text-align: right;\">\n",
              "      <th></th>\n",
              "      <th>date</th>\n",
              "      <th>text</th>\n",
              "      <th>category</th>\n",
              "      <th>words</th>\n",
              "      <th>word_length</th>\n",
              "      <th>c2id</th>\n",
              "    </tr>\n",
              "  </thead>\n",
              "  <tbody>\n",
              "    <tr>\n",
              "      <th>337</th>\n",
              "      <td>2017-12-31</td>\n",
              "      <td>minimum wage raises coming states new year day hikes less quarter hour making minimum wage every penny counts</td>\n",
              "      <td>BUSINESS</td>\n",
              "      <td>[1968, 1334, 855, 170, 284, 2, 38, 19, 3497, 298, 982, 953, 245, 1968, 1334, 107, 3498, 819]</td>\n",
              "      <td>18</td>\n",
              "      <td>0</td>\n",
              "    </tr>\n",
              "  </tbody>\n",
              "</table>\n",
              "</div>"
            ],
            "text/plain": [
              "          date  ... c2id\n",
              "337 2017-12-31  ...  0  \n",
              "\n",
              "[1 rows x 6 columns]"
            ]
          },
          "metadata": {
            "tags": []
          },
          "execution_count": 413
        }
      ]
    },
    {
      "cell_type": "code",
      "metadata": {
        "id": "p9DZavF5uoHV",
        "colab_type": "code",
        "colab": {
          "base_uri": "https://localhost:8080/",
          "height": 211
        },
        "outputId": "c374fa1c-a91a-49b2-dccb-53ab302930b0"
      },
      "source": [
        "df_news.tail(1)"
      ],
      "execution_count": 414,
      "outputs": [
        {
          "output_type": "execute_result",
          "data": {
            "text/html": [
              "<div>\n",
              "<style scoped>\n",
              "    .dataframe tbody tr th:only-of-type {\n",
              "        vertical-align: middle;\n",
              "    }\n",
              "\n",
              "    .dataframe tbody tr th {\n",
              "        vertical-align: top;\n",
              "    }\n",
              "\n",
              "    .dataframe thead th {\n",
              "        text-align: right;\n",
              "    }\n",
              "</style>\n",
              "<table border=\"1\" class=\"dataframe\">\n",
              "  <thead>\n",
              "    <tr style=\"text-align: right;\">\n",
              "      <th></th>\n",
              "      <th>date</th>\n",
              "      <th>text</th>\n",
              "      <th>category</th>\n",
              "      <th>words</th>\n",
              "      <th>word_length</th>\n",
              "      <th>c2id</th>\n",
              "    </tr>\n",
              "  </thead>\n",
              "  <tbody>\n",
              "    <tr>\n",
              "      <th>1035</th>\n",
              "      <td>2017-05-24</td>\n",
              "      <td>behaviors highlight leadership ability based years experience new business advisor always find leadership important business success</td>\n",
              "      <td>BUSINESS</td>\n",
              "      <td>[5799, 5800, 433, 771, 1433, 13, 2126, 2, 46, 2445, 193, 139, 433, 1021, 46, 749]</td>\n",
              "      <td>16</td>\n",
              "      <td>0</td>\n",
              "    </tr>\n",
              "  </tbody>\n",
              "</table>\n",
              "</div>"
            ],
            "text/plain": [
              "           date  ... c2id\n",
              "1035 2017-05-24  ...  0  \n",
              "\n",
              "[1 rows x 6 columns]"
            ]
          },
          "metadata": {
            "tags": []
          },
          "execution_count": 414
        }
      ]
    },
    {
      "cell_type": "code",
      "metadata": {
        "id": "qpc7-7ITuoHY",
        "colab_type": "code",
        "colab": {
          "base_uri": "https://localhost:8080/",
          "height": 312
        },
        "outputId": "7c3645c4-24de-4f67-88e0-3110c03af783"
      },
      "source": [
        "# df_news = df_news[[\"date\",\"words\", \"category\", \"c2id\", \"word_length\",\"text\",\"bpe\"]]\n",
        "df_news = df_news[[\"date\",\"words\", \"category\", \"c2id\", \"word_length\",\"text\"]]\n",
        "df_news.head(1)"
      ],
      "execution_count": 415,
      "outputs": [
        {
          "output_type": "execute_result",
          "data": {
            "text/html": [
              "<div>\n",
              "<style scoped>\n",
              "    .dataframe tbody tr th:only-of-type {\n",
              "        vertical-align: middle;\n",
              "    }\n",
              "\n",
              "    .dataframe tbody tr th {\n",
              "        vertical-align: top;\n",
              "    }\n",
              "\n",
              "    .dataframe thead th {\n",
              "        text-align: right;\n",
              "    }\n",
              "</style>\n",
              "<table border=\"1\" class=\"dataframe\">\n",
              "  <thead>\n",
              "    <tr style=\"text-align: right;\">\n",
              "      <th></th>\n",
              "      <th>date</th>\n",
              "      <th>words</th>\n",
              "      <th>category</th>\n",
              "      <th>c2id</th>\n",
              "      <th>word_length</th>\n",
              "      <th>text</th>\n",
              "    </tr>\n",
              "  </thead>\n",
              "  <tbody>\n",
              "    <tr>\n",
              "      <th>337</th>\n",
              "      <td>2017-12-31</td>\n",
              "      <td>[1968, 1334, 855, 170, 284, 2, 38, 19, 3497, 298, 982, 953, 245, 1968, 1334, 107, 3498, 819]</td>\n",
              "      <td>BUSINESS</td>\n",
              "      <td>0</td>\n",
              "      <td>18</td>\n",
              "      <td>minimum wage raises coming states new year day hikes less quarter hour making minimum wage every penny counts</td>\n",
              "    </tr>\n",
              "  </tbody>\n",
              "</table>\n",
              "</div>"
            ],
            "text/plain": [
              "          date  ...                                                                                                           text\n",
              "337 2017-12-31  ...  minimum wage raises coming states new year day hikes less quarter hour making minimum wage every penny counts\n",
              "\n",
              "[1 rows x 6 columns]"
            ]
          },
          "metadata": {
            "tags": []
          },
          "execution_count": 415
        }
      ]
    },
    {
      "cell_type": "code",
      "metadata": {
        "id": "Qx2EUfWxuoHb",
        "colab_type": "code",
        "colab": {
          "base_uri": "https://localhost:8080/",
          "height": 34
        },
        "outputId": "0a31d5d4-b55e-4a92-8658-a402afc05c56"
      },
      "source": [
        "df_news[\"c2id\"].unique()"
      ],
      "execution_count": 416,
      "outputs": [
        {
          "output_type": "execute_result",
          "data": {
            "text/plain": [
              "array([0, 1, 2])"
            ]
          },
          "metadata": {
            "tags": []
          },
          "execution_count": 416
        }
      ]
    },
    {
      "cell_type": "markdown",
      "metadata": {
        "id": "OcLtEfS7uoHe",
        "colab_type": "text"
      },
      "source": [
        "## save word index"
      ]
    },
    {
      "cell_type": "code",
      "metadata": {
        "id": "oZ1yIrZDuoHe",
        "colab_type": "code",
        "colab": {}
      },
      "source": [
        "word_index = tokenizer.word_index\n",
        "# print (word_index)"
      ],
      "execution_count": 0,
      "outputs": []
    },
    {
      "cell_type": "code",
      "metadata": {
        "id": "hFDPlkQ3uoHh",
        "colab_type": "code",
        "colab": {
          "base_uri": "https://localhost:8080/",
          "height": 54
        },
        "outputId": "4e1686f7-b6b6-4a8b-9ab1-82302abe2d59"
      },
      "source": [
        "np.save('data/word_index.npy', word_index) \n",
        "\n",
        "read_dictionary = np.load('data/word_index.npy',allow_pickle='TRUE').item()\n",
        "print(read_dictionary) # displays \"world\""
      ],
      "execution_count": 418,
      "outputs": [
        {
          "output_type": "stream",
          "text": [
            "{'police': 1, 'new': 2, 'people': 3, 'said': 4, 'man': 5, 'us': 6, 'one': 7, 'nt': 8, 'shooting': 9, 'company': 10, 'women': 11, 'found': 12, 'years': 13, 'say': 14, 'world': 15, 'says': 16, 'trump': 17, 'uber': 18, 'day': 19, 'like': 20, 'suspect': 21, 'could': 22, 'home': 23, 'accused': 24, 'school': 25, 'sexual': 26, 'woman': 27, 'texas': 28, 'time': 29, 'may': 30, 'dead': 31, 'california': 32, 'help': 33, 'killed': 34, 'change': 35, 'hurricane': 36, 'last': 37, 'year': 38, 'death': 39, 'still': 40, 'ceo': 41, 'million': 42, 'florida': 43, 'get': 44, 'harvey': 45, 'business': 46, 'children': 47, 'victims': 48, 'city': 49, 'two': 50, 'arrested': 51, 'make': 52, 'climate': 53, 'many': 54, 'state': 55, 'video': 56, 'shot': 57, 'first': 58, 'workers': 59, 'america': 60, 'gun': 61, 'amazon': 62, 'health': 63, 'need': 64, 'shooter': 65, 'vegas': 66, 'victim': 67, 'charged': 68, 'take': 69, 'report': 70, 'former': 71, 'york': 72, 'family': 73, 'officer': 74, 'much': 75, 'life': 76, 'american': 77, 'money': 78, 'know': 79, 'things': 80, 'mass': 81, 'work': 82, 'case': 83, 'made': 84, 'guilty': 85, 'las': 86, 'would': 87, 'teen': 88, 'since': 89, 'left': 90, 'harassment': 91, 'killer': 92, 'face': 93, 'attack': 94, 'allegedly': 95, 'facebook': 96, 'back': 97, 'week': 98, 'gunman': 99, 'girl': 100, 'arrest': 101, 'black': 102, 'crisis': 103, 'everyone': 104, 'white': 105, 'think': 106, 'every': 107, 'good': 108, 'charges': 109, 'public': 110, 'never': 111, 'social': 112, 'president': 113, 'assault': 114, 'data': 115, 'away': 116, 'murder': 117, 'young': 118, 'days': 119, 'cosby': 120, 'billion': 121, 'car': 122, 'told': 123, 'reportedly': 124, 'times': 125, 'let': 126, 'want': 127, 'faces': 128, 'men': 129, 'pay': 130, 'employees': 131, 'attorney': 132, 'shows': 133, 'water': 134, 'fighting': 135, 'cops': 136, 'father': 137, 'getting': 138, 'find': 139, 'national': 140, 'group': 141, 'child': 142, 'parents': 143, 'food': 144, 'today': 145, 'small': 146, 'news': 147, 'law': 148, 'irma': 149, 'another': 150, 'way': 151, 'called': 152, 'going': 153, 'tech': 154, 'ways': 155, 'companies': 156, 'go': 157, 'breach': 158, 'suspected': 159, 'see': 160, 'country': 161, 'fight': 162, 'several': 163, 'bill': 164, 'legal': 165, 'body': 166, 'three': 167, 'university': 168, 'kalanick': 169, 'coming': 170, 'student': 171, 'jobs': 172, 'next': 173, 'high': 174, 'working': 175, 'stop': 176, 'following': 177, 'hit': 178, 'rights': 179, 'officials': 180, 'already': 181, 'wife': 182, 'charlottesville': 183, 'judge': 184, 'houston': 185, 'shootings': 186, 'husband': 187, 'bank': 188, 'according': 189, 'care': 190, 'use': 191, 'abuse': 192, 'always': 193, 'without': 194, 'authorities': 195, 'deaths': 196, 'took': 197, 'executive': 198, 'outside': 199, 'released': 200, 'court': 201, 'wants': 202, 'four': 203, 'month': 204, 'fbi': 205, 'killing': 206, 'used': 207, 'parkland': 208, 'lives': 209, 'claims': 210, 'community': 211, 'violence': 212, 'crime': 213, 'fatally': 214, 'international': 215, 'donald': 216, 'kids': 217, 'end': 218, 'air': 219, 'human': 220, 'must': 221, 'fire': 222, 'even': 223, 'trying': 224, 'tax': 225, 'died': 226, 'prison': 227, 'alleged': 228, 'inside': 229, 'convicted': 230, 'helping': 231, 'house': 232, 'daughter': 233, 'little': 234, 'mother': 235, 'months': 236, 'plan': 237, 'friday': 238, 'gets': 239, 'street': 240, 'stay': 241, 'great': 242, 'local': 243, 'buy': 244, 'making': 245, 'hate': 246, 'americans': 247, 'refugees': 248, 'fraud': 249, 'seen': 250, 'leaders': 251, 'girls': 252, 'price': 253, 'federal': 254, 'others': 255, 'cases': 256, 'system': 257, 'free': 258, 'show': 259, 'custody': 260, 'serial': 261, 'massacre': 262, 'line': 263, 'inequality': 264, 'person': 265, 'efforts': 266, 'giving': 267, 'feel': 268, 'couple': 269, 'son': 270, 'missing': 271, 'sex': 272, 'amid': 273, 'needs': 274, 'reported': 275, 'might': 276, 'media': 277, 'stock': 278, 'energy': 279, 'global': 280, 'old': 281, 'least': 282, 'around': 283, 'states': 284, 'long': 285, 'holiday': 286, 'best': 287, 'financial': 288, 'risk': 289, 'die': 290, 'injured': 291, 'whether': 292, 'give': 293, 'boss': 294, 'driver': 295, 'really': 296, 'justice': 297, 'less': 298, 'protect': 299, 'cop': 300, 'put': 301, 'hotel': 302, 'deadly': 303, 'jail': 304, 'call': 305, 'sexually': 306, 'nearly': 307, 'travis': 308, 'power': 309, 'someone': 310, 'plastic': 311, 'pollution': 312, 'often': 313, 'officers': 314, 'drug': 315, 'online': 316, 'boy': 317, 'disease': 318, 'right': 319, 'gender': 320, 'happen': 321, 'comes': 322, 'cities': 323, 'veterans': 324, 'enough': 325, 'living': 326, 'sheriff': 327, 'tragedy': 328, 'study': 329, 'industry': 330, 'rich': 331, 'united': 332, 'corporate': 333, 'fear': 334, 'dad': 335, 'open': 336, 'consumer': 337, 'students': 338, 'charge': 339, 'past': 340, 'site': 341, 'save': 342, 'jr': 343, 'biggest': 344, 'forced': 345, 'card': 346, 'homeless': 347, 'something': 348, 'martin': 349, 'likely': 350, 'move': 351, 'domestic': 352, 'near': 353, 'huffpost': 354, 'female': 355, 'become': 356, 'reports': 357, 'lot': 358, 'problem': 359, 'message': 360, 'nonprofit': 361, 'control': 362, 'pregnant': 363, 'trial': 364, 'look': 365, 'austin': 366, 'internet': 367, 'remember': 368, 'war': 369, 'action': 370, 'security': 371, 'sister': 372, 'dozens': 373, 'store': 374, 'early': 375, 'society': 376, 'plans': 377, 'future': 378, 'poor': 379, 'hard': 380, 'workplace': 381, 'watch': 382, 'moving': 383, 'center': 384, 'nation': 385, 'talk': 386, 'summer': 387, 'equifax': 388, 'poverty': 389, 'post': 390, 'set': 391, 'lead': 392, 'tariffs': 393, 'safe': 394, 'mission': 395, 'nassar': 396, 'housing': 397, 'board': 398, 'photos': 399, 'nurse': 400, 'head': 401, 'indicted': 402, 'sell': 403, 'hope': 404, 'finally': 405, 'attacks': 406, 'cruz': 407, 'hero': 408, 'armed': 409, 'force': 410, 'experts': 411, 'footage': 412, 'calls': 413, 'scandal': 414, 'millennials': 415, 'sentence': 416, 'wo': 417, 'economy': 418, 'got': 419, 'wednesday': 420, 'came': 421, 'afford': 422, 'worth': 423, 'leader': 424, 'movement': 425, 'lawyer': 426, 'weapons': 427, 'stores': 428, 'communities': 429, 'second': 430, 'matter': 431, 'secret': 432, 'leadership': 433, 'building': 434, 'john': 435, 'refugee': 436, 'numbers': 437, 'hack': 438, 'reasons': 439, 'top': 440, 'washington': 441, 'area': 442, 'also': 443, 'bankruptcy': 444, 'criminal': 445, 'bomber': 446, 'taking': 447, 'consumers': 448, 'growing': 449, 'behind': 450, 'baltimore': 451, 'alabama': 452, 'billionaire': 453, 'drivers': 454, 'probably': 455, 'five': 456, 'county': 457, 'worse': 458, 'percent': 459, 'steps': 460, 'insurance': 461, 'rape': 462, 'instead': 463, 'dog': 464, 'job': 465, 'needed': 466, 'older': 467, 'keep': 468, 'major': 469, 'thanksgiving': 470, 'shopping': 471, 'come': 472, 'heard': 473, 'culture': 474, 'discrimination': 475, 'lessons': 476, 'issue': 477, 'storm': 478, 'department': 479, 'portland': 480, 'almost': 481, 'probe': 482, 'investigation': 483, 'church': 484, 'strong': 485, 'starbucks': 486, 'cut': 487, 'capitalism': 488, 'yet': 489, 'abused': 490, 'using': 491, 'information': 492, 'april': 493, 'hostage': 494, 'corporations': 495, 'jeff': 496, 'worst': 497, 'horrific': 498, 'michigan': 499, 'wanted': 500, 'detective': 501, 'vulnerable': 502, 'record': 503, 'nikolas': 504, 'immigrant': 505, 'hundreds': 506, 'verdict': 507, 'room': 508, 'reached': 509, 'involved': 510, 'relief': 511, 'market': 512, 'expected': 513, 'private': 514, 'tuesday': 515, 'arizona': 516, 'support': 517, 'struggle': 518, 'hospital': 519, 'club': 520, 'ties': 521, 'restaurant': 522, 'gunfire': 523, 'ever': 524, 'fossil': 525, 'weekend': 526, 'members': 527, 'political': 528, 'history': 529, 'wrong': 530, 'accounts': 531, 'trade': 532, 'mark': 533, 'crash': 534, 'sent': 535, 'source': 536, 'possible': 537, 'founder': 538, 'worker': 539, 'incident': 540, 'act': 541, 'chain': 542, 'facility': 543, 'latest': 544, 'kenya': 545, 'dirty': 546, 'clean': 547, 'enter': 548, 'thousands': 549, 'signs': 550, 'terrorism': 551, 'shkreli': 552, 'employee': 553, 'scene': 554, 'known': 555, 'held': 556, 'whole': 557, 'recent': 558, 'richard': 559, 'seems': 560, 'reason': 561, 'inmate': 562, 'disaster': 563, 'truth': 564, 'stabbing': 565, 'impact': 566, 'cars': 567, 'economic': 568, 'exposed': 569, 'terrible': 570, 'means': 571, 'lawsuit': 572, 'clear': 573, 'paddock': 574, 'cause': 575, 'education': 576, 'witnesses': 577, 'email': 578, 'big': 579, 'struck': 580, 'season': 581, 'shoots': 582, 'cost': 583, 'across': 584, 'deal': 585, 'dogs': 586, 'south': 587, 'lost': 588, 'timeline': 589, 'aid': 590, 'google': 591, 'questions': 592, 'sometimes': 593, 'advice': 594, 'value': 595, 'successful': 596, 'robots': 597, 'prosecutors': 598, 'believed': 599, 'together': 600, 'china': 601, 'steel': 602, 'live': 603, 'apartment': 604, 'anyone': 605, 'weeks': 606, 'anxiety': 607, 'attention': 608, 'camp': 609, 'finding': 610, 'land': 611, 'equal': 612, 'videos': 613, 'yes': 614, 'vice': 615, 'project': 616, 'remain': 617, 'credit': 618, 'app': 619, 'golden': 620, 'joseph': 621, 'james': 622, 'kill': 623, 'supremacists': 624, 'jury': 625, 'addiction': 626, 'film': 627, 'rifle': 628, 'number': 629, 'annual': 630, 'began': 631, 'tracking': 632, 'friend': 633, 'trip': 634, 'role': 635, 'night': 636, 'became': 637, 'actually': 638, 'milk': 639, 'driving': 640, 'close': 641, 'schools': 642, 'supremacist': 643, 'verizon': 644, 'bad': 645, 'running': 646, 'labor': 647, 'suspects': 648, 'benefit': 649, 'fix': 650, 'broken': 651, 'investigators': 652, 'connection': 653, 'dangerous': 654, 'retrial': 655, 'prosecutor': 656, 'point': 657, 'monday': 658, 'standing': 659, 'firm': 660, 'given': 661, 'chicago': 662, 'create': 663, 'ago': 664, 'posted': 665, 'asked': 666, 'taken': 667, 'youtube': 668, 'linked': 669, 'late': 670, 'apple': 671, 'steve': 672, 'government': 673, 'send': 674, 'walmart': 675, 'talking': 676, 'airport': 677, 'users': 678, 'pulse': 679, 'noor': 680, 'fired': 681, 'target': 682, 'toward': 683, 'sure': 684, 'continue': 685, 'mosque': 686, 'oil': 687, 'offered': 688, 'musk': 689, 'married': 690, 'dow': 691, 'wall': 692, 'learn': 693, 'weinstein': 694, 'groups': 695, 'lose': 696, 'giant': 697, 'robber': 698, 'happiness': 699, 'headlines': 700, 'chief': 701, 'ahead': 702, 'owner': 703, 'different': 704, 'finds': 705, 'ca': 706, 'fox': 707, 'identity': 708, 'targeted': 709, 'foods': 710, 'policies': 711, 'north': 712, 'nra': 713, 'neonazi': 714, 'pull': 715, 'response': 716, 'mental': 717, 'laws': 718, 'immigrants': 719, 'seven': 720, 'starting': 721, 'ohio': 722, 'reach': 723, 'points': 724, 'wynn': 725, 'decades': 726, 'fell': 727, 'emergency': 728, 'environmental': 729, 'proposed': 730, 'eliminate': 731, 'caught': 732, 'pennsylvania': 733, 'access': 734, 'forum': 735, 'letter': 736, 'waste': 737, 'customers': 738, 'businesses': 739, 'story': 740, 'beyond': 741, 'devastating': 742, 'leaves': 743, 'mathews': 744, 'offers': 745, 'emotional': 746, 'interview': 747, 'undocumented': 748, 'success': 749, 'saw': 750, 'stephen': 751, 'start': 752, 'details': 753, 'later': 754, 'christmas': 755, 'truck': 756, 'takes': 757, 'mean': 758, 'mexico': 759, 'recently': 760, 'opioid': 761, 'thing': 762, 'essential': 763, 'peace': 764, 'avoid': 765, 'failed': 766, 'daily': 767, 'walk': 768, 'streets': 769, 'animals': 770, 'ability': 771, 'advocate': 772, 'model': 773, 'st': 774, 'puerto': 775, 'rico': 776, 'wake': 777, 'break': 778, 'maria': 779, 'team': 780, 'despite': 781, 'deals': 782, 'threat': 783, 'morning': 784, 'learned': 785, 'drinking': 786, 'mistakes': 787, 'moment': 788, 'employment': 789, 'recover': 790, 'travel': 791, 'correctional': 792, 'meetings': 793, 'tv': 794, 'assistance': 795, 'muslim': 796, 'male': 797, 'vows': 798, 'program': 799, 'teens': 800, 'place': 801, 'started': 802, 'suicide': 803, 'age': 804, 'seriously': 805, 'racist': 806, 'road': 807, 'buying': 808, 'anything': 809, 'policy': 810, 'battle': 811, 'manhattan': 812, 'office': 813, 'larry': 814, 'newly': 815, 'seattle': 816, 'vote': 817, 'bezos': 818, 'counts': 819, 'situation': 820, 'search': 821, 'ground': 822, 'murdering': 823, 'six': 824, 'classmate': 825, 'trapped': 826, 'hire': 827, 'meet': 828, 'appeared': 829, 'firearms': 830, 'answers': 831, 'georgia': 832, 'wrote': 833, 'towns': 834, 'struggling': 835, 'indian': 836, 'sentenced': 837, 'beer': 838, 'democracy': 839, 'gang': 840, 'official': 841, 'explosion': 842, 'nevada': 843, 'ordered': 844, 'rampant': 845, 'launched': 846, 'crashes': 847, 'startup': 848, 'bosses': 849, 'tools': 850, 'guy': 851, 'blame': 852, 'helps': 853, 'survivors': 854, 'raises': 855, 'potentially': 856, 'helped': 857, 'extreme': 858, 'technology': 859, 'failure': 860, 'comedian': 861, 'assaulting': 862, 'infamous': 863, 'donate': 864, 'drugs': 865, 'better': 866, 'dollars': 867, 'dies': 868, 'funds': 869, 'toddler': 870, 'mom': 871, 'unarmed': 872, 'fuel': 873, 'activism': 874, 'address': 875, 'seem': 876, 'write': 877, 'pass': 878, 'defense': 879, 'cam': 880, 'hurt': 881, 'else': 882, 'hours': 883, 'denies': 884, 'gave': 885, 'warning': 886, 'scouts': 887, 'front': 888, 'canadian': 889, 'hold': 890, 'light': 891, 'happy': 892, 'shoot': 893, 'zuckerberg': 894, 'including': 895, 'trust': 896, 'neighbors': 897, 'fled': 898, 'lawyers': 899, 'payment': 900, 'bay': 901, 'partnership': 902, 'starts': 903, 'fan': 904, 'nightclub': 905, 'salman': 906, 'series': 907, 'monster': 908, 'fuels': 909, 'step': 910, 'test': 911, 'german': 912, 'misconduct': 913, 'william': 914, 'files': 915, 'hot': 916, 'elon': 917, 'anthony': 918, 'drop': 919, 'native': 920, 'device': 921, 'package': 922, 'identified': 923, 'san': 924, 'sale': 925, 'talks': 926, 'july': 927, 'coal': 928, 'protection': 929, 'fines': 930, 'deputy': 931, 'happened': 932, 'cvs': 933, 'massive': 934, 'casino': 935, 'went': 936, 'kind': 937, 'pharma': 938, 'investors': 939, 'reveal': 940, 'desperate': 941, 'claim': 942, 'relationship': 943, 'answer': 944, 'appear': 945, 'leads': 946, 'raise': 947, 'events': 948, 'everybody': 949, 'mogul': 950, 'killings': 951, 'train': 952, 'hour': 953, 'threats': 954, 'resigns': 955, 'tackle': 956, 'homes': 957, 'oceans': 958, 'everything': 959, 'siblings': 960, 'football': 961, 'nothing': 962, 'believe': 963, 'poorest': 964, 'evidence': 965, 'update': 966, 'staff': 967, 'settlement': 968, 'families': 969, 'rose': 970, 'uganda': 971, 'ad': 972, 'rising': 973, 'issues': 974, 'sick': 975, 'daughters': 976, 'hog': 977, 'kept': 978, 'savings': 979, 'chair': 980, 'boston': 981, 'quarter': 982, 'shop': 983, 'ready': 984, 'nigerian': 985, 'list': 986, 'sherin': 987, 'residents': 988, 'hidden': 989, 'colorado': 990, 'walking': 991, 'passenger': 992, 'reveals': 993, 'try': 994, 'changed': 995, 'crying': 996, 'focused': 997, 'pharmaceutical': 998, 'general': 999, 'vehicle': 1000, 'gop': 1001, 'cuts': 1002, 'holidays': 1003, 'corp': 1004, 'read': 1005, 'stood': 1006, 'part': 1007, 'doctor': 1008, 'problems': 1009, 'charlie': 1010, 'fair': 1011, 'sought': 1012, 'blast': 1013, 'originally': 1014, 'truly': 1015, 'tell': 1016, 'aetna': 1017, 'overcome': 1018, 'saying': 1019, 'nonprofits': 1020, 'important': 1021, 'sunday': 1022, 'share': 1023, 'scam': 1024, 'well': 1025, 'received': 1026, 'voice': 1027, 'displaced': 1028, 'celebrate': 1029, 'process': 1030, 'breaking': 1031, 'crazy': 1032, 'offer': 1033, 'millions': 1034, 'adam': 1035, 'waiting': 1036, 'tomorrow': 1037, 'enforcement': 1038, 'looking': 1039, 'leave': 1040, 'utah': 1041, 'traveled': 1042, 'degree': 1043, 'key': 1044, 'administration': 1045, 'meeting': 1046, 'spending': 1047, 'west': 1048, 'memorial': 1049, 'sarah': 1050, 'september': 1051, 'especially': 1052, 'june': 1053, 'guard': 1054, 'impossible': 1055, 'opportunity': 1056, 'charleston': 1057, 'independent': 1058, 'bring': 1059, 'fact': 1060, 'gives': 1061, 'louis': 1062, 'august': 1063, 'buildings': 1064, 'blood': 1065, 'service': 1066, 'vanished': 1067, 'simple': 1068, 'devastation': 1069, 'leaving': 1070, 'thanks': 1071, 'heroic': 1072, 'unconscious': 1073, 'eclipse': 1074, 'diversity': 1075, 'calm': 1076, 'rural': 1077, 'welfare': 1078, 'account': 1079, 'receiving': 1080, 'knife': 1081, 'thought': 1082, 'indiana': 1083, 'scale': 1084, 'machine': 1085, 'maryland': 1086, 'adults': 1087, 'rob': 1088, 'standoff': 1089, 'pakistan': 1090, 'controversial': 1091, 'santa': 1092, 'stories': 1093, 'patients': 1094, 'services': 1095, 'profits': 1096, 'neighbor': 1097, 'remains': 1098, 'district': 1099, 'da': 1100, 'safer': 1101, 'victimized': 1102, 'bus': 1103, 'combat': 1104, 'ends': 1105, 'places': 1106, 'natural': 1107, 'stable': 1108, 'condition': 1109, 'homicides': 1110, 'dumping': 1111, 'arthur': 1112, 'injury': 1113, 'nursing': 1114, 'firearm': 1115, 'promise': 1116, 'remington': 1117, 'sandy': 1118, 'catch': 1119, 'greatest': 1120, 'stereotypes': 1121, 'toll': 1122, 'incidents': 1123, 'crimes': 1124, 'highway': 1125, 'saved': 1126, 'twitter': 1127, 'rise': 1128, 'income': 1129, 'statement': 1130, 'bodycam': 1131, 'release': 1132, 'soon': 1133, 'jailed': 1134, 'warehouse': 1135, 'plane': 1136, 'sentencing': 1137, 'wealthy': 1138, 'cnn': 1139, 'run': 1140, 'agrees': 1141, 'acquire': 1142, 'purchase': 1143, 'central': 1144, 'louisiana': 1145, 'zero': 1146, 'question': 1147, 'progress': 1148, 'michelle': 1149, 'serious': 1150, 'speaks': 1151, 'hopes': 1152, 'dallas': 1153, 'anymore': 1154, 'lawmakers': 1155, 'twice': 1156, 'ending': 1157, 'tiny': 1158, 'fund': 1159, 'supposed': 1160, 'chinese': 1161, 'motive': 1162, 'partner': 1163, 'trafficking': 1164, 'engage': 1165, 'count': 1166, 'survived': 1167, 'agency': 1168, 'push': 1169, 'shareholder': 1170, 'assaultstyle': 1171, 'february': 1172, 'accidentally': 1173, 'discovery': 1174, 'photo': 1175, 'testify': 1176, 'union': 1177, 'investigate': 1178, 'tells': 1179, 'spree': 1180, 'stepping': 1181, 'gentrification': 1182, 'jumped': 1183, 'brought': 1184, 'website': 1185, 'suspended': 1186, 'nypd': 1187, 'moments': 1188, 'continues': 1189, 'spoke': 1190, 'love': 1191, 'easier': 1192, 'provide': 1193, 'deeper': 1194, 'headquarters': 1195, 'citizen': 1196, 'fatal': 1197, 'director': 1198, 'testimony': 1199, 'widow': 1200, 'aiding': 1201, 'experienced': 1202, 'homelessness': 1203, 'rules': 1204, 'marketing': 1205, 'weigh': 1206, 'computer': 1207, 'claimed': 1208, 'terror': 1209, 'innocent': 1210, 'consequences': 1211, 'trillion': 1212, 'chapter': 1213, 'listed': 1214, 'assets': 1215, 'revealed': 1216, 'visit': 1217, 'damage': 1218, 'estranged': 1219, 'trash': 1220, 'crackdown': 1221, 'plot': 1222, 'plunges': 1223, 'fears': 1224, 'toys': 1225, 'r': 1226, 'charles': 1227, 'challenged': 1228, 'shocked': 1229, 'fast': 1230, 'collapse': 1231, 'studio': 1232, 'goes': 1233, 'agreement': 1234, 'debt': 1235, 'entered': 1236, 'roof': 1237, 'rally': 1238, 'opening': 1239, 'statements': 1240, 'injuries': 1241, 'army': 1242, 'opens': 1243, 'orlando': 1244, 'bro': 1245, 'defrauding': 1246, 'warns': 1247, 'led': 1248, 'david': 1249, 'bodies': 1250, 'trips': 1251, 'pleads': 1252, 'either': 1253, 'execution': 1254, 'festival': 1255, 'denied': 1256, 'customer': 1257, 'documents': 1258, 'previously': 1259, 'paying': 1260, 'ridehailing': 1261, 'urban': 1262, 'alone': 1263, 'knows': 1264, 'scare': 1265, 'host': 1266, 'looked': 1267, 'papa': 1268, 'longer': 1269, 'pizza': 1270, 'products': 1271, 'carolina': 1272, 'ended': 1273, 'slaying': 1274, 'game': 1275, 'players': 1276, 'firing': 1277, 'murderer': 1278, 'scott': 1279, 'friends': 1280, 'reduce': 1281, 'protecting': 1282, 'allow': 1283, 'guns': 1284, 'initially': 1285, 'ice': 1286, 'stealing': 1287, 'thomas': 1288, 'supply': 1289, 'eric': 1290, 'met': 1291, 'exxon': 1292, 'elders': 1293, 'suggests': 1294, 'chairman': 1295, 'announced': 1296, 'stocks': 1297, 'decline': 1298, 'fed': 1299, 'smart': 1300, 'happens': 1301, 'plants': 1302, 'activists': 1303, 'reporting': 1304, 'finance': 1305, 'allegations': 1306, 'keeping': 1307, 'filing': 1308, 'records': 1309, 'luxury': 1310, 'per': 1311, 'planting': 1312, 'dropped': 1313, 'safety': 1314, 'survey': 1315, 'fake': 1316, 'diseases': 1317, 'gap': 1318, 'bernstein': 1319, 'samuel': 1320, 'hits': 1321, 'conditions': 1322, 'stabbed': 1323, 'paris': 1324, 'owners': 1325, 'color': 1326, 'clinton': 1327, 'foundation': 1328, 'true': 1329, 'advocates': 1330, 'pr': 1331, 'consumption': 1332, 'effectively': 1333, 'wage': 1334, 'fellow': 1335, 'battery': 1336, 'check': 1337, 'star': 1338, 'effective': 1339, 'girlfriend': 1340, 'intentionally': 1341, 'practices': 1342, 'launch': 1343, 'described': 1344, 'shelter': 1345, 'surge': 1346, 'science': 1347, 'magic': 1348, 'danger': 1349, 'forget': 1350, 'retailer': 1351, 'level': 1352, 'spent': 1353, 'pain': 1354, 'values': 1355, 'difference': 1356, 'felt': 1357, 'sales': 1358, 'neutrality': 1359, 'campaign': 1360, 'onto': 1361, 'waters': 1362, 'threatens': 1363, 'require': 1364, 'everyday': 1365, 'speaking': 1366, 'benefits': 1367, 'radical': 1368, 'pharmacy': 1369, 'paid': 1370, 'personal': 1371, 'amanda': 1372, 'net': 1373, 'protest': 1374, 'disturbing': 1375, 'animal': 1376, 'veteran': 1377, 'approximately': 1378, 'hearing': 1379, 'retirement': 1380, 'win': 1381, 'pets': 1382, 'luck': 1383, 'drunk': 1384, 'tampa': 1385, 'fashion': 1386, 'fail': 1387, 'donations': 1388, 'privacy': 1389, 'donation': 1390, 'estimated': 1391, 'budget': 1392, 'chef': 1393, 'difficult': 1394, 'dominate': 1395, 'tips': 1396, 'meal': 1397, 'surprise': 1398, 'republican': 1399, 'popular': 1400, 'conversation': 1401, 'manson': 1402, 'serving': 1403, 'midst': 1404, 'challenge': 1405, 'ucf': 1406, 'columnist': 1407, 'escaping': 1408, 'handful': 1409, 'dreams': 1410, 'economics': 1411, 'pulls': 1412, 'coworker': 1413, 'forgotten': 1414, 'opened': 1415, 'honor': 1416, 'emotions': 1417, 'majority': 1418, 'sight': 1419, 'selling': 1420, 'equality': 1421, 'aids': 1422, 'compassion': 1423, 'congo': 1424, 'document': 1425, 'coauthored': 1426, 'aware': 1427, 'nigeria': 1428, 'surprising': 1429, 'adoption': 1430, 'lack': 1431, 'pastor': 1432, 'based': 1433, 'note': 1434, 'africa': 1435, 'wedding': 1436, 'development': 1437, 'slowly': 1438, 'historic': 1439, 'common': 1440, 'odd': 1441, 'joe': 1442, 'mcnabb': 1443, 'illnesses': 1444, 'done': 1445, 'thaler': 1446, 'trendy': 1447, 'hunger': 1448, 'foreign': 1449, 'treatment': 1450, 'innovative': 1451, 'revenue': 1452, 'assistant': 1453, 'language': 1454, 'speak': 1455, 'increase': 1456, 'everywhere': 1457, 'usually': 1458, 'prepared': 1459, 'pounds': 1460, 'workforce': 1461, 'lowincome': 1462, 'dark': 1463, 'works': 1464, 'certainly': 1465, 'witness': 1466, 'skills': 1467, 'turns': 1468, 'virginia': 1469, 'dr': 1470, 'warren': 1471, 'hired': 1472, 'order': 1473, 'eye': 1474, 'tourism': 1475, 'baby': 1476, 'heroes': 1477, 'article': 1478, 'coast': 1479, 'shame': 1480, 'recovery': 1481, 'flood': 1482, 'watched': 1483, 'exist': 1484, 'far': 1485, 'massachusetts': 1486, 'cook': 1487, 'binary': 1488, 'options': 1489, 'countries': 1490, 'rescue': 1491, 'recall': 1492, 'shelters': 1493, 'seeing': 1494, 'provided': 1495, 'powerball': 1496, 'opportunities': 1497, 'talent': 1498, 'habits': 1499, 'player': 1500, 'replace': 1501, 'london': 1502, 'campus': 1503, 'recommendations': 1504, 'innovation': 1505, 'executives': 1506, 'empty': 1507, 'cup': 1508, 'gates': 1509, 'heart': 1510, 'performance': 1511, 'relationships': 1512, 'rushing': 1513, 'revolution': 1514, 'rachel': 1515, 'felony': 1516, 'influence': 1517, 'markets': 1518, 'auto': 1519, 'import': 1520, 'interests': 1521, 'march': 1522, 'designed': 1523, 'steal': 1524, 'increasingly': 1525, 'complex': 1526, 'view': 1527, 'rant': 1528, 'rage': 1529, 'quickly': 1530, 'fe': 1531, 'confirmed': 1532, 'battling': 1533, 'entrepreneur': 1534, 'wrestler': 1535, 'severely': 1536, 'beaten': 1537, 'lucky': 1538, 'alive': 1539, 'deserves': 1540, 'dying': 1541, 'spain': 1542, 'minor': 1543, 'marijuana': 1544, 'blames': 1545, 'guess': 1546, 'planning': 1547, 'socalled': 1548, 'block': 1549, 'arbitration': 1550, 'individual': 1551, 'farming': 1552, 'drastically': 1553, 'catching': 1554, 'debit': 1555, 'occurred': 1556, 'incredible': 1557, 'visited': 1558, 'planet': 1559, 'holding': 1560, 'large': 1561, 'pleased': 1562, 'additional': 1563, 'deangelo': 1564, 'dozen': 1565, 'describe': 1566, 'commissioner': 1567, 'adviser': 1568, 'hr': 1569, 'commonly': 1570, 'alleges': 1571, 'raped': 1572, 'unidentified': 1573, 'burn': 1574, 'cross': 1575, 'yard': 1576, 'zimmerman': 1577, 'threaten': 1578, 'appears': 1579, 'loan': 1580, 'pledged': 1581, 'civilians': 1582, 'dna': 1583, 'criminologist': 1584, 'sexism': 1585, 'humans': 1586, 'active': 1587, 'rex': 1588, 'scheme': 1589, 'changing': 1590, 'glass': 1591, 'uses': 1592, 'bold': 1593, 'election': 1594, 'raid': 1595, 'agents': 1596, 'unions': 1597, 'nashville': 1598, 'tennessee': 1599, 'mall': 1600, 'connecticut': 1601, 'entering': 1602, 'supreme': 1603, 'audio': 1604, 'rampage': 1605, 'emissions': 1606, 'veterinarian': 1607, 'andres': 1608, 'lopez': 1609, 'probation': 1610, 'license': 1611, 'comment': 1612, 'military': 1613, 'crew': 1614, 'represent': 1615, 'meth': 1616, 'hatchet': 1617, 'smash': 1618, 'obstacles': 1619, 'rates': 1620, 'digital': 1621, 'convict': 1622, 'rapist': 1623, 'combined': 1624, 'rebuilding': 1625, 'detroit': 1626, 'ford': 1627, 'station': 1628, 'cash': 1629, 'links': 1630, 'string': 1631, 'celebrates': 1632, 'legacy': 1633, 'phone': 1634, 'andrea': 1635, 'constand': 1636, 'outburst': 1637, 'flight': 1638, 'performing': 1639, 'highly': 1640, 'confirm': 1641, 'excop': 1642, 'homicide': 1643, 'greek': 1644, 'billions': 1645, 'stole': 1646, 'waffle': 1647, 'manhunt': 1648, 'soccer': 1649, 'investment': 1650, 'daddy': 1651, 'deputies': 1652, 'eating': 1653, 'suspicious': 1654, 'incarcerated': 1655, 'actress': 1656, 'discussion': 1657, 'skeptical': 1658, 'tied': 1659, 'barrage': 1660, 'robbery': 1661, 'dose': 1662, 'karma': 1663, 'nature': 1664, 'sec': 1665, 'stronger': 1666, 'knocked': 1667, 'favorite': 1668, 'goods': 1669, 'rifles': 1670, 'pulled': 1671, 'scientists': 1672, 'harassed': 1673, 'decided': 1674, 'disorder': 1675, 'burned': 1676, 'los': 1677, 'angeles': 1678, 'bitter': 1679, 'approved': 1680, 'stalled': 1681, 'request': 1682, 'accuser': 1683, 'nyc': 1684, 'legitimate': 1685, 'alternative': 1686, 'feds': 1687, 'hear': 1688, 'prostitution': 1689, 'seized': 1690, 'featured': 1691, 'arrests': 1692, 'terrorist': 1693, 'content': 1694, 'touts': 1695, 'closely': 1696, 'releases': 1697, 'vassell': 1698, 'earlier': 1699, 'actions': 1700, 'worked': 1701, 'japanese': 1702, 'word': 1703, 'pipe': 1704, 'mistook': 1705, 'apology': 1706, 'reporters': 1707, 'windows': 1708, 'wildfire': 1709, 'interact': 1710, 'isolation': 1711, 'designer': 1712, 'couch': 1713, 'forward': 1714, 'intentional': 1715, 'adopted': 1716, 'begun': 1717, 'drops': 1718, 'heineken': 1719, 'refuses': 1720, 'begin': 1721, 'mail': 1722, 'learning': 1723, 'omar': 1724, 'mateen': 1725, 'profiles': 1726, 'appeal': 1727, 'decision': 1728, 'feature': 1729, 'dads': 1730, 'along': 1731, 'guys': 1732, 'drink': 1733, 'runs': 1734, 'obsessed': 1735, 'banks': 1736, 'supporters': 1737, 'rooted': 1738, 'cosmo': 1739, 'checkout': 1740, 'real': 1741, 'halts': 1742, 'anyway': 1743, 'dc': 1744, 'disclose': 1745, 'leading': 1746, 'plant': 1747, 'longtime': 1748, 'pressure': 1749, 'range': 1750, 'islamophobic': 1751, 'aggravated': 1752, 'threw': 1753, 'god': 1754, 'bombings': 1755, 'conditt': 1756, 'confrontation': 1757, 'garbage': 1758, 'impose': 1759, 'lazarus': 1760, 'linking': 1761, 'recorded': 1762, 'confession': 1763, 'cellphone': 1764, 'outcry': 1765, 'bomb': 1766, 'involvement': 1767, 'wendy': 1768, 'fedex': 1769, 'antonio': 1770, 'embattled': 1771, 'damond': 1772, 'organizations': 1773, 'wire': 1774, 'easy': 1775, 'literally': 1776, 'shareholders': 1777, 'knew': 1778, 'snapchat': 1779, 'morgan': 1780, 'protests': 1781, 'jersey': 1782, 'neighborhood': 1783, 'powerful': 1784, 'background': 1785, 'elizabeth': 1786, 'holmes': 1787, 'handle': 1788, 'practice': 1789, 'silencing': 1790, 'disguise': 1791, 'ranking': 1792, 'falls': 1793, 'seek': 1794, 'penalty': 1795, 'grocery': 1796, 'spread': 1797, 'daylong': 1798, 'siege': 1799, 'feet': 1800, 'cigna': 1801, 'express': 1802, 'ask': 1803, 'critical': 1804, 'adult': 1805, 'treated': 1806, 'factory': 1807, 'operate': 1808, 'resources': 1809, 'event': 1810, 'allegation': 1811, 'turning': 1812, 'virus': 1813, 'impersonating': 1814, 'orders': 1815, 'paper': 1816, 'deeply': 1817, 'farm': 1818, 'eat': 1819, 'box': 1820, 'captive': 1821, 'electricity': 1822, 'nobody': 1823, 'exactly': 1824, 'overall': 1825, 'anybody': 1826, 'intruder': 1827, 'sean': 1828, 'shelves': 1829, 'ammunition': 1830, 'changes': 1831, 'drives': 1832, 'explosive': 1833, 'economist': 1834, 'outing': 1835, 'disgraced': 1836, 'discounts': 1837, 'certain': 1838, 'gay': 1839, 'virtual': 1840, 'reality': 1841, 'apologizes': 1842, 'bullet': 1843, 'urged': 1844, 'halt': 1845, 'executed': 1846, 'updated': 1847, 'epidemic': 1848, 'broward': 1849, 'investigated': 1850, 'inaction': 1851, 'livable': 1852, 'tries': 1853, 'gut': 1854, 'funding': 1855, 'suffering': 1856, 'multiple': 1857, 'talked': 1858, 'immoral': 1859, 'moral': 1860, 'scandals': 1861, 'rush': 1862, 'understand': 1863, 'losing': 1864, 'defraud': 1865, 'sanchez': 1866, 'kentucky': 1867, 'milwaukee': 1868, 'dehydration': 1869, 'responding': 1870, 'upon': 1871, 'sue': 1872, 'waymo': 1873, 'dispute': 1874, 'secrets': 1875, 'jones': 1876, 'abusing': 1877, 'harassing': 1878, 'solar': 1879, 'asian': 1880, 'tumble': 1881, 'shares': 1882, 'reminder': 1883, 'wells': 1884, 'fargo': 1885, 'growth': 1886, 'gigantic': 1887, 'conservation': 1888, 'announces': 1889, 'protections': 1890, 'bloody': 1891, 'scenes': 1892, 'driven': 1893, 'bottom': 1894, 'slender': 1895, 'randall': 1896, 'fun': 1897, 'usda': 1898, 'patrol': 1899, 'text': 1900, 'messages': 1901, 'thief': 1902, 'instant': 1903, 'wash': 1904, 'rnc': 1905, 'published': 1906, 'credited': 1907, 'suit': 1908, 'airbnb': 1909, 'chinatown': 1910, 'costs': 1911, 'elite': 1912, 'attend': 1913, 'businessman': 1914, 'surfaced': 1915, 'escape': 1916, 'abuser': 1917, 'unacceptable': 1918, 'breathing': 1919, 'faced': 1920, 'happening': 1921, 'hardest': 1922, 'bonanza': 1923, 'alert': 1924, 'minister': 1925, 'societies': 1926, 'shortages': 1927, 'bloomberg': 1928, 'locked': 1929, 'blaze': 1930, 'bitcoin': 1931, 'low': 1932, 'park': 1933, 'ages': 1934, 'arctic': 1935, 'heat': 1936, 'feels': 1937, 'confesses': 1938, 'conscience': 1939, 'dreamers': 1940, 'measured': 1941, 'discovered': 1942, 'prosperity': 1943, 'sued': 1944, 'exploitation': 1945, 'pickup': 1946, 'airbag': 1947, 'worldwide': 1948, 'takata': 1949, 'metal': 1950, 'vehicles': 1951, 'ideas': 1952, 'attempt': 1953, 'missouri': 1954, 'preventable': 1955, 'hillary': 1956, 'kindling': 1957, 'flame': 1958, 'pushing': 1959, 'capitol': 1960, 'forces': 1961, 'embrace': 1962, 'grief': 1963, 'within': 1964, 'slain': 1965, 'teach': 1966, 'eve': 1967, 'minimum': 1968, 'prince': 1969, 'full': 1970, 'surprises': 1971, 'maybe': 1972, 'door': 1973, 'status': 1974, 'slowed': 1975, 'iphones': 1976, 'prices': 1977, 'lawsuits': 1978, 'pipeline': 1979, 'billionaires': 1980, 'commission': 1981, 'highprofile': 1982, 'wish': 1983, 'engaged': 1984, 'commerce': 1985, 'press': 1986, 'pretty': 1987, 'ignored': 1988, 'republicans': 1989, 'trickledown': 1990, 'darryl': 1991, 'lorenzo': 1992, 'wellington': 1993, 'spend': 1994, 'island': 1995, 'lifted': 1996, 'alphabet': 1997, 'schmidt': 1998, 'serve': 1999, 'hostile': 2000, 'texts': 2001, 'lastminute': 2002, 'bubbles': 2003, 'concern': 2004, 'asset': 2005, 'governments': 2006, 'largest': 2007, 'network': 2008, 'regulations': 2009, 'skipper': 2010, 'cited': 2011, 'substance': 2012, 'toronto': 2013, 'navajo': 2014, 'sues': 2015, 'outrageous': 2016, 'pile': 2017, 'burns': 2018, 'disbelief': 2019, 'research': 2020, 'institute': 2021, 'sweet': 2022, 'buyers': 2023, 'prepare': 2024, 'naked': 2025, 'assaulted': 2026, 'clothes': 2027, 'bridge': 2028, 'fking': 2029, 'recognized': 2030, 'tables': 2031, 'metoo': 2032, 'kellys': 2033, 'rushhour': 2034, 'appeals': 2035, 'subject': 2036, 'coerced': 2037, 'persons': 2038, 'molesters': 2039, 'oct': 2040, 'europe': 2041, 'priest': 2042, 'decadesold': 2043, 'beauty': 2044, 'sells': 2045, 'quiet': 2046, 'sign': 2047, 'destroys': 2048, 'thrive': 2049, 'affected': 2050, 'nationwide': 2051, 'fcc': 2052, 'dec': 2053, 'tiger': 2054, 'exhusband': 2055, 'disappeared': 2056, 'hawaii': 2057, 'obama': 2058, 'relations': 2059, 'memo': 2060, 'woods': 2061, 'resident': 2062, 'reminds': 2063, 'built': 2064, 'oldfashioned': 2065, 'graphic': 2066, 'reporter': 2067, 'blanket': 2068, 'fortune': 2069, 'sold': 2070, 'enabled': 2071, 'behavior': 2072, 'bed': 2073, 'spot': 2074, 'iii': 2075, 'shots': 2076, 'ultimate': 2077, 'thrown': 2078, 'viral': 2079, 'hands': 2080, 'match': 2081, 'teachers': 2082, 'sharing': 2083, 'causes': 2084, 'ryan': 2085, 'lethal': 2086, 'amount': 2087, 'funeral': 2088, 'overdose': 2089, 'consider': 2090, 'aside': 2091, 'closed': 2092, 'asking': 2093, 'side': 2094, 'strategy': 2095, 'member': 2096, 'meals': 2097, 'served': 2098, 'related': 2099, 'idea': 2100, 'volunteer': 2101, 'ensure': 2102, 'uk': 2103, 'housekeepers': 2104, 'contribute': 2105, 'expectations': 2106, 'storms': 2107, 'opposition': 2108, 'severe': 2109, 'played': 2110, 'threatened': 2111, 'discarded': 2112, 'lowwage': 2113, 'gunned': 2114, 'brock': 2115, 'joy': 2116, 'filled': 2117, 'overcoming': 2118, 'beautiful': 2119, 'loving': 2120, 'hospitalized': 2121, 'century': 2122, 'disney': 2123, 'pledge': 2124, 'thoughts': 2125, 'experience': 2126, 'wait': 2127, 'diabetes': 2128, 'faith': 2129, 'detailing': 2130, 'main': 2131, 'polygamist': 2132, 'turned': 2133, 'transforming': 2134, 'oklahoma': 2135, 'coffee': 2136, 'mug': 2137, 'showing': 2138, 'develop': 2139, 'haley': 2140, 'garage': 2141, 'eyes': 2142, 'confidence': 2143, 'colleague': 2144, 'kelley': 2145, 'bought': 2146, 'babies': 2147, 'rohingya': 2148, 'newspaper': 2149, 'kayak': 2150, 'grieve': 2151, 'odyssey': 2152, 'busted': 2153, 'included': 2154, 'pedophilia': 2155, 'smaller': 2156, 'barely': 2157, 'polarized': 2158, 'legally': 2159, 'horse': 2160, 'convenience': 2161, 'walked': 2162, 'ban': 2163, 'tweets': 2164, 'promised': 2165, 'jesus': 2166, 'stand': 2167, 'wubbels': 2168, 'exorcism': 2169, 'socialism': 2170, 'miles': 2171, 'halloween': 2172, 'candy': 2173, 'wisconsin': 2174, 'letting': 2175, 'spotlight': 2176, 'excuse': 2177, 'village': 2178, 'green': 2179, 'adoptee': 2180, 'normal': 2181, 'makes': 2182, 'single': 2183, 'surveillance': 2184, 'interest': 2185, 'sector': 2186, 'although': 2187, 'mostly': 2188, 'stepped': 2189, 'planned': 2190, 'parenthood': 2191, 'fights': 2192, 'throw': 2193, 'confessed': 2194, 'increases': 2195, 'increased': 2196, 'areas': 2197, 'disfiguring': 2198, 'dire': 2199, 'encouraging': 2200, 'lobbying': 2201, 'fewer': 2202, 'slayings': 2203, 'ease': 2204, 'involves': 2205, 'presidents': 2206, 'concert': 2207, 'renewable': 2208, 'diverse': 2209, 'practical': 2210, 'executes': 2211, 'refused': 2212, 'strapped': 2213, 'ignores': 2214, 'professor': 2215, 'nobel': 2216, 'prize': 2217, 'enables': 2218, 'reproductive': 2219, 'named': 2220, 'born': 2221, 'wounded': 2222, 'ian': 2223, 'schrager': 2224, 'confessions': 2225, 'activity': 2226, 'urgent': 2227, 'passed': 2228, 'mgm': 2229, 'kennedy': 2230, 'presidency': 2231, 'harrison': 2232, 'confident': 2233, 'returned': 2234, 'lake': 2235, 'payne': 2236, 'miracle': 2237, 'ptsd': 2238, 'kid': 2239, 'attacker': 2240, 'survivor': 2241, 'wins': 2242, 'contributions': 2243, 'voiceless': 2244, 'cell': 2245, 'fourth': 2246, 'communications': 2247, 'rescued': 2248, 'smell': 2249, 'hurricanes': 2250, 'training': 2251, 'kessler': 2252, 'va': 2253, 'hyperactive': 2254, 'foreclosure': 2255, 'breath': 2256, 'currently': 2257, 'please': 2258, 'teaches': 2259, 'simpson': 2260, 'donates': 2261, 'king': 2262, 'wearing': 2263, 'veil': 2264, 'yom': 2265, 'kippur': 2266, 'feldman': 2267, 'location': 2268, 'williams': 2269, 'opioids': 2270, 'dignity': 2271, 'clown': 2272, 'creepy': 2273, 'monitoring': 2274, 'candidate': 2275, 'twenty': 2276, 'strangers': 2277, 'helicopter': 2278, 'boat': 2279, 'survive': 2280, 'kathleen': 2281, 'senior': 2282, 'gift': 2283, 'removed': 2284, 'mask': 2285, 'ran': 2286, 'stranger': 2287, 'riot': 2288, 'broke': 2289, 'sdg': 2290, 'initiative': 2291, 'dolores': 2292, 'huerta': 2293, 'nonviolent': 2294, 'forms': 2295, 'demonstrations': 2296, 'college': 2297, 'simply': 2298, 'employed': 2299, 'pet': 2300, 'improve': 2301, 'destructive': 2302, 'versa': 2303, 'hedge': 2304, 'imagine': 2305, 'progressive': 2306, 'artist': 2307, 'magazine': 2308, 'tesla': 2309, 'yesterday': 2310, 'thinking': 2311, 'rain': 2312, 'tim': 2313, 'track': 2314, 'dramatic': 2315, 'floods': 2316, 'india': 2317, 'passively': 2318, 'clause': 2319, 'manipulate': 2320, 'angry': 2321, 'silicon': 2322, 'valley': 2323, 'daca': 2324, 'ceased': 2325, 'wondering': 2326, 'weather': 2327, 'scarce': 2328, 'sikhs': 2329, 'divided': 2330, 'sidewalk': 2331, 'guardsmen': 2332, 'sends': 2333, 'cheese': 2334, 'hoping': 2335, 'waded': 2336, 'glasses': 2337, 'permission': 2338, 'unleashed': 2339, 'texans': 2340, 'furniture': 2341, 'vibrant': 2342, 'dara': 2343, 'khosrowshahi': 2344, 'course': 2345, 'vacation': 2346, 'silently': 2347, 'freelancing': 2348, 'freelance': 2349, 'tunnel': 2350, 'barriers': 2351, 'racism': 2352, 'samsung': 2353, 'jay': 2354, 'lee': 2355, 'detention': 2356, 'strips': 2357, 'weapon': 2358, 'winning': 2359, 'amendment': 2360, 'managers': 2361, 'tissues': 2362, 'stormer': 2363, 'web': 2364, 'refuse': 2365, 'jackpot': 2366, 'managing': 2367, 'developing': 2368, 'saturday': 2369, 'forever': 2370, 'leprosy': 2371, 'bias': 2372, 'facts': 2373, 'regarding': 2374, 'showed': 2375, 'consistently': 2376, 'nazis': 2377, 'silent': 2378, 'heyer': 2379, 'terrorists': 2380, 'parking': 2381, 'boiling': 2382, 'poured': 2383, 'build': 2384, 'manifesto': 2385, 'engineer': 2386, 'teacher': 2387, 'governor': 2388, 'dilbert': 2389, 'comic': 2390, 'knox': 2391, 'matt': 2392, 'lesson': 2393, 'tens': 2394, 'fairwarning': 2395, 'cybercrime': 2396, 'particular': 2397, 'landscape': 2398, 'strengthen': 2399, 'eastwest': 2400, 'unusual': 2401, 'experiment': 2402, 'supporting': 2403, 'lies': 2404, 'intelligence': 2405, 'experiences': 2406, 'absolutely': 2407, 'ok': 2408, 'dismantle': 2409, 'redwine': 2410, 'filmmaker': 2411, 'rejection': 2412, 'modern': 2413, 'muppet': 2414, 'feminist': 2415, 'miami': 2416, 'involve': 2417, 'creating': 2418, 'silence': 2419, 'elsewhere': 2420, 'exit': 2421, 'kit': 2422, 'improving': 2423, 'aramazd': 2424, 'andressian': 2425, 'italian': 2426, 'hyperloop': 2427, 'lets': 2428, 'scams': 2429, 'juvenile': 2430, 'immigration': 2431, 'smartphone': 2432, 'motorcycle': 2433, 'privilege': 2434, 'scheer': 2435, 'yelping': 2436, 'skyline': 2437, 'bag': 2438, 'expert': 2439, 'irs': 2440, 'perfect': 2441, 'absence': 2442, 'jeanne': 2443, 'clery': 2444, 'advisor': 2445, 'publicprivate': 2446, 'heal': 2447, 'youth': 2448, 'discuss': 2449, 'seconds': 2450, 'dubois': 2451, 'link': 2452, 'town': 2453, 'association': 2454, 'quite': 2455, 'prayer': 2456, 'ridesharers': 2457, 'fries': 2458, 'remote': 2459, 'oystergrowing': 2460, 'region': 2461, 'brunswick': 2462, 'dolezal': 2463, 'deposited': 2464, 'pulling': 2465, 'stun': 2466, 'mcdonald': 2467, 'detained': 2468, 'monsanto': 2469, 'bayer': 2470, 'merge': 2471, 'launches': 2472, 'defend': 2473, 'similar': 2474, 'imposed': 2475, 'imported': 2476, 'aluminum': 2477, 'selfcheckout': 2478, 'realize': 2479, 'retailers': 2480, 'conditioning': 2481, 'cashiers': 2482, 'atrisk': 2483, 'enrolled': 2484, 'churchrun': 2485, 'troubled': 2486, 'machines': 2487, 'humanity': 2488, 'algorithm': 2489, 'panama': 2490, 'soaking': 2491, 'gasoline': 2492, 'prevention': 2493, 'bitch': 2494, 'captures': 2495, 'escalated': 2496, 'hateful': 2497, 'xenophobic': 2498, 'diatribe': 2499, 'sit': 2500, 'cafes': 2501, 'unveiled': 2502, 'philadelphia': 2503, 'dan': 2504, 'curb': 2505, 'dangers': 2506, 'unbridled': 2507, 'hospice': 2508, 'overdosed': 2509, 'hasten': 2510, 'admits': 2511, 'allege': 2512, 'melanie': 2513, 'murphey': 2514, 'novus': 2515, 'maximize': 2516, 'wwf': 2517, 'fifteen': 2518, 'shadows': 2519, 'soil': 2520, 'southern': 2521, 'restore': 2522, 'degraded': 2523, 'prosecuting': 2524, 'dual': 2525, 'cyrus': 2526, 'vance': 2527, 'selftorture': 2528, 'autism': 2529, 'taunted': 2530, 'clearly': 2531, 'despicable': 2532, 'passes': 2533, 'council': 2534, 'drew': 2535, 'herdener': 2536, 'resumed': 2537, 'construction': 2538, 'downtown': 2539, 'caveats': 2540, 'technique': 2541, 'chili': 2542, 'compromised': 2543, 'photographer': 2544, 'pristine': 2545, 'capture': 2546, 'images': 2547, 'silences': 2548, 'assaults': 2549, 'click': 2550, 'arm': 2551, 'australia': 2552, 'ream': 2553, 'bragged': 2554, 'extrump': 2555, 'mcmaster': 2556, 'christann': 2557, 'shyvin': 2558, 'gainey': 2559, 'plotting': 2560, 'rapper': 2561, 'lo': 2562, 'chris': 2563, 'brown': 2564, 'prominent': 2565, 'gloria': 2566, 'allred': 2567, 'representing': 2568, 'plaintiff': 2569, 'sc': 2570, 'brandon': 2571, 'lecroy': 2572, 'grand': 2573, 'snack': 2574, 'orangutans': 2575, 'george': 2576, 'stalking': 2577, 'trayvon': 2578, 'feed': 2579, 'investigator': 2580, 'alligator': 2581, 'flip': 2582, 'financing': 2583, 'militarystyle': 2584, 'bushmaster': 2585, 'hook': 2586, 'zodiac': 2587, 'whodunits': 2588, 'iphone': 2589, 'reinforces': 2590, 'created': 2591, 'biases': 2592, 'exceeded': 2593, 'sniper': 2594, 'idolized': 2595, 'whitmire': 2596, 'harbour': 2597, 'basicincome': 2598, 'enjoying': 2599, 'badass': 2600, 'grandpa': 2601, 'fancy': 2602, 'footwork': 2603, 'fleeing': 2604, 'complicated': 2605, 'plays': 2606, 'hashtag': 2607, 'mobilizing': 2608, 'malaysian': 2609, 'elections': 2610, 'bots': 2611, 'drone': 2612, 'swarm': 2613, 'thwart': 2614, 'drones': 2615, 'livestreamed': 2616, 'buzzed': 2617, 'rocks': 2618, 'camille': 2619, 'mob': 2620, 'bizarre': 2621, 'spoken': 2622, 'exvolkswagen': 2623, 'cheating': 2624, 'winterkorn': 2625, 'resigned': 2626, 'cows': 2627, 'interested': 2628, 'smuggling': 2629, 'heroin': 2630, 'puppies': 2631, 'bellies': 2632, 'elorez': 2633, 'imprisonment': 2634, 'brother': 2635, 'violation': 2636, 'zachary': 2637, 'banned': 2638, 'beating': 2639, 'recommended': 2640, 'fine': 2641, 'deandre': 2642, 'harris': 2643, 'groping': 2644, 'verizoncontracted': 2645, 'cargo': 2646, 'actively': 2647, 'millennial': 2648, 'janice': 2649, 'dickinson': 2650, 'vindicated': 2651, 'kidnapping': 2652, 'chop': 2653, 'portion': 2654, 'index': 2655, 'finger': 2656, 'believes': 2657, 'looming': 2658, 'gig': 2659, 'lowest': 2660, 'participation': 2661, 'enabling': 2662, 'breadwinners': 2663, 'enslaving': 2664, 'guinea': 2665, 'rare': 2666, 'victory': 2667, 'myths': 2668, 'courtrooms': 2669, 'tmobile': 2670, 'sprint': 2671, 'regulators': 2672, 'grill': 2673, 'wireless': 2674, 'offerings': 2675, 'rumored': 2676, 'vacant': 2677, 'ugly': 2678, 'tradeoff': 2679, 'stacked': 2680, 'severed': 2681, 'heads': 2682, 'grounds': 2683, 'genealogy': 2684, 'sites': 2685, 'belief': 2686, 'boils': 2687, 'civilization': 2688, 'notion': 2689, 'patton': 2690, 'oswalt': 2691, 'mcnamara': 2692, 'ominous': 2693, 'amber': 2694, 'wagers': 2695, 'drugging': 2696, 'yells': 2697, 'ahole': 2698, 'dental': 2699, 'surgeries': 2700, 'infection': 2701, 'extracted': 2702, 'teeth': 2703, 'publicized': 2704, 'rosemarie': 2705, 'aquilina': 2706, 'helpless': 2707, 'waited': 2708, 'leftover': 2709, 'prescription': 2710, 'medication': 2711, 'wasted': 2712, 'depot': 2713, 'rogelio': 2714, 'santander': 2715, 'hefty': 2716, 'fajitas': 2717, 'raising': 2718, 'presented': 2719, 'shaw': 2720, 'resolution': 2721, 'reinking': 2722, 'survival': 2723, 'evicted': 2724, 'stadium': 2725, 'dulwich': 2726, 'hamlet': 2727, 'playing': 2728, 'play': 2729, 'coroner': 2730, 'reclassifies': 2731, 'investigates': 2732, 'shawn': 2733, 'smallville': 2734, 'allison': 2735, 'mack': 2736, 'recruiting': 2737, 'cult': 2738, 'sway': 2739, 'courtroom': 2740, 'hedgehog': 2741, 'tree': 2742, 'makeshift': 2743, 'crucifix': 2744, 'shoelaces': 2745, 'perpetrator': 2746, 'wales': 2747, 'barbarically': 2748, 'creature': 2749, 'mindboggling': 2750, 'unjustified': 2751, 'diante': 2752, 'yarber': 2753, 'excessive': 2754, 'unnecessary': 2755, 'bungling': 2756, 'receive': 2757, 'muchdeserved': 2758, 'gusty': 2759, 'spoiled': 2760, 'getaway': 2761, 'divesting': 2762, 'ruling': 2763, 'littlenoticed': 2764, 'wind': 2765, 'neoliberal': 2766, 'tactic': 2767, 'spike': 2768, 'dick': 2769, 'sporting': 2770, 'destroying': 2771, 'unsold': 2772, 'accessories': 2773, 'plasticeating': 2774, 'enzyme': 2775, 'breakthrough': 2776, 'tackling': 2777, 'protrump': 2778, 'stats': 2779, 'prove': 2780, 'misunderstood': 2781, 'grave': 2782, 'nasim': 2783, 'aghdam': 2784, 'tensions': 2785, 'rile': 2786, 'voters': 2787, 'supportive': 2788, 'disputes': 2789, 'mistrial': 2790, 'chelan': 2791, 'lasha': 2792, 'jurors': 2793, 'disregard': 2794, 'aim': 2795, 'boxes': 2796, 'cookies': 2797, 'square': 2798, 'payday': 2799, 'lending': 2800, 'libertarian': 2801, 'shy': 2802, 'thieves': 2803, 'ambulance': 2804, 'crooks': 2805, 'siren': 2806, 'song': 2807, 'topless': 2808, 'protester': 2809, 'chanting': 2810, 'courthouse': 2811, 'cofounder': 2812, 'wozniak': 2813, 'ditches': 2814, 'negatives': 2815, 'positives': 2816, 'backpagecom': 2817, 'founders': 2818, 'facilitating': 2819, 'classifieds': 2820, 'ads': 2821, 'vatican': 2822, 'diplomat': 2823, 'pornography': 2824, 'monsignor': 2825, 'carlo': 2826, 'alberto': 2827, 'capella': 2828, 'improved': 2829, 'inhouse': 2830, 'steering': 2831, 'abusive': 2832, 'twists': 2833, 'followed': 2834, 'transcripts': 2835, 'saheed': 2836, 'final': 2837, 'proposes': 2838, 'slapping': 2839, 'considered': 2840, 'unfair': 2841, 'retaliation': 2842, 'japan': 2843, 'formula': 2844, 'ikigai': 2845, 'fulfils': 2846, 'brooklyn': 2847, 'pointing': 2848, 'callers': 2849, 'tour': 2850, 'topics': 2851, 'stirring': 2852, 'misinformation': 2853, 'spreads': 2854, 'blessing': 2855, 'curse': 2856, 'stressors': 2857, 'sense': 2858, 'upset': 2859, 'waterslide': 2860, 'decapitated': 2861, 'schooley': 2862, 'verrückt': 2863, 'slide': 2864, 'kansas': 2865, 'nabbed': 2866, 'crowded': 2867, 'camps': 2868, 'hotbed': 2869, 'affluenza': 2870, 'ethan': 2871, 'drunkdriving': 2872, 'lawabiding': 2873, 'cliff': 2874, 'saks': 2875, 'lord': 2876, 'taylor': 2877, 'torontobased': 2878, 'hudson': 2879, 'appropriate': 2880, 'recuse': 2881, 'selection': 2882, 'tons': 2883, 'prisoners': 2884, 'torrents': 2885, 'myfitnesspal': 2886, 'affects': 2887, 'armour': 2888, 'alerted': 2889, 'collaborator': 2890, 'portraits': 2891, 'shine': 2892, 'illustrated': 2893, 'gorgeous': 2894, 'adnan': 2895, 'syed': 2896, 'podcast': 2897, 'masculinity': 2898, 'biceps': 2899, 'discarding': 2900, 'collections': 2901, 'nurses': 2902, 'stayathome': 2903, 'wear': 2904, 'makeup': 2905, 'jewelry': 2906, 'frat': 2907, 'abruptly': 2908, 'boys': 2909, 'amok': 2910, 'psychological': 2911, 'therapists': 2912, 'desert': 2913, 'computers': 2914, 'reliable': 2915, 'rely': 2916, 'labs': 2917, 'wifi': 2918, 'networks': 2919, 'homework': 2920, 'pumped': 2921, 'dirtiest': 2922, 'committed': 2923, 'scapegoat': 2924, 'gendered': 2925, 'islamophobia': 2926, 'partners': 2927, 'conservative': 2928, 'remove': 2929, 'lines': 2930, 'slow': 2931, 'conversion': 2932, 'handmaid': 2933, 'tale': 2934, 'vogue': 2935, 'editor': 2936, 'responded': 2937, 'selfdriving': 2938, 'tests': 2939, 'explosives': 2940, 'trees': 2941, 'felix': 2942, 'finkbeiner': 2943, 'planted': 2944, 'saplings': 2945, 'msu': 2946, 'strampel': 2947, 'willfully': 2948, 'mishandling': 2949, 'mounting': 2950, 'liabilities': 2951, 'informant': 2952, 'toss': 2953, 'broadcast': 2954, 'thirddegree': 2955, 'burglary': 2956, 'refusing': 2957, 'marriage': 2958, 'marry': 2959, 'stepdaughter': 2960, 'errol': 2961, 'iranians': 2962, 'cyber': 2963, 'pilfered': 2964, 'terabytes': 2965, 'academic': 2966, 'intellectual': 2967, 'property': 2968, 'motives': 2969, 'hints': 2970, 'intentions': 2971, 'pacific': 2972, 'patch': 2973, 'size': 2974, 'france': 2975, 'quietly': 2976, 'escalates': 2977, 'expanding': 2978, 'restrictions': 2979, 'reclaim': 2980, 'colonization': 2981, 'heels': 2982, 'imports': 2983, 'empire': 2984, 'incendiary': 2985, 'injures': 2986, 'bombs': 2987, 'addresses': 2988, 'cambridge': 2989, 'analytica': 2990, 'fumbles': 2991, 'devastated': 2992, 'relatives': 2993, 'farmworkers': 2994, 'maintains': 2995, 'rigorous': 2996, 'internal': 2997, 'auditing': 2998, 'protects': 2999, 'blew': 3000, 'conveyor': 3001, 'belt': 3002, 'sorting': 3003, 'schertz': 3004, 'nondisclosure': 3005, 'agreements': 3006, 'justine': 3007, 'minneapolis': 3008, 'mohamed': 3009, 'beg': 3010, 'particularly': 3011, 'harmful': 3012, 'detonated': 3013, 'claire': 3014, 'dumbest': 3015, 'shoplifters': 3016, 'costco': 3017, 'merch': 3018, 'sad': 3019, 'version': 3020, 'jingle': 3021, 'hurts': 3022, 'sniff': 3023, 'gambles': 3024, 'iheartmedia': 3025, 'outstanding': 3026, 'psa': 3027, 'jerk': 3028, 'snow': 3029, 'damn': 3030, 'chose': 3031, 'dylann': 3032, 'walkouts': 3033, 'hoped': 3034, 'trap': 3035, 'yall': 3036, 'vandalize': 3037, 'tempe': 3038, 'shut': 3039, 'operations': 3040, 'impacting': 3041, 'liquidation': 3042, 'overrun': 3043, 'tighter': 3044, 'checks': 3045, 'theranos': 3046, 'biotech': 3047, 'defends': 3048, 'courts': 3049, 'criticized': 3050, 'tried': 3051, 'blackface': 3052, 'cashier': 3053, 'assumed': 3054, 'skin': 3055, 'tone': 3056, 'irregular': 3057, 'blotchy': 3058, 'finland': 3059, 'tops': 3060, 'alarm': 3061, 'bells': 3062, 'ringing': 3063, 'valentine': 3064, 'salvation': 3065, 'deserts': 3066, 'touted': 3067, 'abetting': 3068, 'jacking': 3069, 'lifesaving': 3070, 'nowdisgraced': 3071, 'radio': 3072, 'recordings': 3073, 'insurer': 3074, 'scripts': 3075, 'current': 3076, 'cordani': 3077, 'handy': 3078, 'inevitably': 3079, 'hid': 3080, 'birthday': 3081, 'accidental': 3082, 'cement': 3083, 'clock': 3084, 'trucks': 3085, 'yelling': 3086, 'maximum': 3087, 'fyre': 3088, 'pleading': 3089, 'grossly': 3090, 'underestimated': 3091, 'necessary': 3092, 'magnitude': 3093, 'billy': 3094, 'mcfarland': 3095, 'cuban': 3096, 'resurfaces': 3097, 'mavericks': 3098, 'geek': 3099, 'squad': 3100, 'decade': 3101, 'bumble': 3102, 'bans': 3103, 'mix': 3104, 'dating': 3105, 'kindness': 3106, 'respect': 3107, 'zika': 3108, 'bicycles': 3109, 'bamboo': 3110, 'exploit': 3111, 'impersonation': 3112, 'forfeit': 3113, 'mit': 3114, 'methodology': 3115, 'findings': 3116, 'flawed': 3117, 'swedish': 3118, 'indoor': 3119, 'revolutionize': 3120, 'microgreens': 3121, 'exotic': 3122, 'salads': 3123, 'cruelty': 3124, 'plywood': 3125, 'result': 3126, 'proportion': 3127, 'zerowaste': 3128, 'pioneers': 3129, 'shoppers': 3130, 'ditch': 3131, 'hannity': 3132, 'poisoning': 3133, 'cheesecake': 3134, 'theft': 3135, 'russia': 3136, 'russian': 3137, 'nfl': 3138, 'sliced': 3139, 'disagree': 3140, 'cocacola': 3141, 'disagreements': 3142, 'magazines': 3143, 'etched': 3144, 'swastikas': 3145, 'rounds': 3146, 'requirement': 3147, 'retail': 3148, 'wolff': 3149, 'broadcasts': 3150, 'prentis': 3151, 'robinson': 3152, 'dealers': 3153, 'streaming': 3154, 'platform': 3155, 'lastditch': 3156, 'movie': 3157, 'negotiations': 3158, 'offering': 3159, 'disagrees': 3160, 'organization': 3161, 'chat': 3162, 'logs': 3163, 'chilling': 3164, 'praise': 3165, 'jewish': 3166, 'atomwaffen': 3167, 'yanks': 3168, 'cpac': 3169, 'channel': 3170, 'acknowledge': 3171, 'executions': 3172, 'puts': 3173, 'gov': 3174, 'greg': 3175, 'abbott': 3176, 'commuted': 3177, 'sticking': 3178, 'brands': 3179, 'furious': 3180, 'flooded': 3181, 'spotlights': 3182, 'assigned': 3183, 'stoneman': 3184, 'douglas': 3185, 'resource': 3186, 'peterson': 3187, 'ambitious': 3188, 'transport': 3189, 'bid': 3190, 'foundations': 3191, 'multitude': 3192, 'boyfriends': 3193, 'girlfriends': 3194, 'ariana': 3195, 'ocean': 3196, 'illegal': 3197, 'shield': 3198, 'borges': 3199, 'classmates': 3200, 'snead': 3201, 'essays': 3202, 'shall': 3203, 'baylor': 3204, 'accusations': 3205, 'vigil': 3206, 'chant': 3207, 'stricter': 3208, 'arianna': 3209, 'ali': 3210, 'preventing': 3211, 'cashless': 3212, 'exclusion': 3213, 'unless': 3214, 'republic': 3215, 'nationalist': 3216, 'militia': 3217, 'participated': 3218, 'drills': 3219, 'carloads': 3220, 'pioneer': 3221, 'slowing': 3222, 'bleeding': 3223, 'identities': 3224, 'raphael': 3225, 'whose': 3226, 'processed': 3227, 'eastern': 3228, 'symbolizes': 3229, 'crumbling': 3230, 'infrastructure': 3231, 'terrill': 3232, 'profound': 3233, 'guards': 3234, 'joering': 3235, 'morelli': 3236, 'arrival': 3237, 'chevron': 3238, 'shell': 3239, 'richmond': 3240, 'ninth': 3241, 'giants': 3242, 'asianamerican': 3243, 'limited': 3244, 'english': 3245, 'proficiency': 3246, 'turmoil': 3247, 'worsens': 3248, 'benchmark': 3249, 'p': 3250, 'industrials': 3251, 'correction': 3252, 'territory': 3253, 'resorts': 3254, 'sharply': 3255, 'suffered': 3256, 'bounces': 3257, 'volatile': 3258, 'industrial': 3259, 'average': 3260, 'warlord': 3261, 'thwarted': 3262, 'mysterious': 3263, 'baffling': 3264, 'seizure': 3265, 'brutal': 3266, 'unrest': 3267, 'budweiser': 3268, 'super': 3269, 'bowl': 3270, 'minutelong': 3271, 'commercial': 3272, 'highlights': 3273, 'intraday': 3274, 'grappled': 3275, 'bond': 3276, 'yields': 3277, 'firming': 3278, 'inflation': 3279, 'lowers': 3280, 'boom': 3281, 'grotesque': 3282, 'unprecedented': 3283, 'compliance': 3284, 'paternity': 3285, 'chile': 3286, 'establishes': 3287, 'acres': 3288, 'parks': 3289, 'dollhouse': 3290, 'subservient': 3291, 'costcutting': 3292, 'geyser': 3293, 'margraves': 3294, 'lunged': 3295, 'obsession': 3296, 'smiling': 3297, 'fridge': 3298, 'rule': 3299, 'speed': 3300, 'maximums': 3301, 'shannon': 3302, 'smith': 3303, 'believing': 3304, 'telling': 3305, 'carried': 3306, 'bb': 3307, 'hide': 3308, 'somebody': 3309, 'testified': 3310, 'spares': 3311, 'poultry': 3312, 'faster': 3313, 'speeds': 3314, 'celebrated': 3315, 'concerned': 3316, 'whore': 3317, 'painful': 3318, 'ta': 3319, 'cover': 3320, 'unexpected': 3321, 'sustaining': 3322, 'possibly': 3323, 'selfinflicted': 3324, 'bombshell': 3325, 'journal': 3326, 'recycle': 3327, 'shanghai': 3328, 'recyclers': 3329, 'mountains': 3330, 'landfills': 3331, 'jennifer': 3332, 'kesse': 3333, 'developments': 3334, 'eaten': 3335, 'crushing': 3336, 'andrew': 3337, 'luccock': 3338, 'pays': 3339, 'expects': 3340, 'agenda': 3341, 'globalists': 3342, 'davos': 3343, 'invited': 3344, 'alcatraz': 3345, 'escapee': 3346, 'inmates': 3347, 'prosecutions': 3348, 'involving': 3349, 'pinheiro': 3350, 'vengeance': 3351, 'crossed': 3352, 'wishing': 3353, 'tire': 3354, 'littlediscussed': 3355, 'type': 3356, 'affecting': 3357, 'gallup': 3358, 'checking': 3359, 'automation': 3360, 'replaced': 3361, 'brothels': 3362, 'masquerading': 3363, 'legit': 3364, 'massage': 3365, 'parlors': 3366, 'fronts': 3367, 'polaris': 3368, 'laying': 3369, 'welcome': 3370, 'mat': 3371, 'mosquitoes': 3372, 'carry': 3373, 'partly': 3374, 'spoiler': 3375, 'contains': 3376, 'doughnuteating': 3377, 'champ': 3378, 'doughnut': 3379, 'breakin': 3380, 'doh': 3381, 'airlifted': 3382, 'sfpd': 3383, 'employs': 3384, 'statutorily': 3385, 'raping': 3386, 'celeste': 3387, 'guap': 3388, 'transition': 3389, 'transform': 3390, 'recognition': 3391, 'appointed': 3392, 'ministries': 3393, 'worry': 3394, 'erratic': 3395, 'squirming': 3396, 'floor': 3397, 'payout': 3398, 'muttered': 3399, 'narrows': 3400, 'possibilities': 3401, 'include': 3402, 'locations': 3403, 'aunt': 3404, 'showers': 3405, 'flores': 3406, 'woodward': 3407, 'plummets': 3408, 'regulatory': 3409, 'highs': 3410, 'middecember': 3411, 'wiping': 3412, 'cap': 3413, 'homeschool': 3414, 'shackled': 3415, 'hitting': 3416, 'chains': 3417, 'starving': 3418, 'ranging': 3419, 'padlocked': 3420, 'beds': 3421, 'malnourished': 3422, 'capital': 3423, 'norway': 3424, 'era': 3425, 'litigation': 3426, 'insatiable': 3427, 'norwegian': 3428, 'thirst': 3429, 'flies': 3430, 'measures': 3431, 'warm': 3432, 'thirdworld': 3433, 'californian': 3434, 'cold': 3435, 'camera': 3436, 'scholarship': 3437, 'grant': 3438, 'graduates': 3439, 'wellbeing': 3440, 'surprised': 3441, 'monica': 3442, 'gauging': 3443, 'citizens': 3444, 'aflac': 3445, 'baseless': 3446, 'urges': 3447, 'inflators': 3448, 'rupture': 3449, 'fragments': 3450, 'lonely': 3451, 'ceos': 3452, 'fixing': 3453, 'enslaved': 3454, 'nanny': 3455, 'additionally': 3456, 'interacted': 3457, 'arsenal': 3458, 'derail': 3459, 'brake': 3460, 'amtrak': 3461, 'blindness': 3462, 'trachoma': 3463, 'easily': 3464, 'treatable': 3465, 'blinds': 3466, 'investigating': 3467, 'spokesman': 3468, 'sham': 3469, 'reinvent': 3470, 'filling': 3471, 'vessel': 3472, 'quote': 3473, 'plutarch': 3474, 'philip': 3475, 'morris': 3476, 'cigarettes': 3477, 'tobacco': 3478, 'ecigarettes': 3479, 'antismoking': 3480, 'calling': 3481, 'stunt': 3482, 'brief': 3483, 'lockdown': 3484, 'image': 3485, 'ounce': 3486, 'partygoers': 3487, 'admitted': 3488, 'owning': 3489, 'stash': 3490, 'hauled': 3491, 'pot': 3492, 'selfmade': 3493, 'millionaires': 3494, 'teenager': 3495, 'violent': 3496, 'hikes': 3497, 'penny': 3498, 'scammer': 3499, 'affidavit': 3500, 'exsheriff': 3501, 'clarke': 3502, 'intimidation': 3503, 'determined': 3504, 'authority': 3505, 'civilizations': 3506, 'strange': 3507, 'significant': 3508, 'noticed': 3509, 'rigged': 3510, 'electrocute': 3511, 'prematurely': 3512, 'widowed': 3513, 'replacements': 3514, 'satisfied': 3515, 'canadaus': 3516, 'heartwarming': 3517, 'triumph': 3518, 'adversity': 3519, 'unrelenting': 3520, 'doom': 3521, 'gloom': 3522, 'wealthiest': 3523, 'richer': 3524, 'acting': 3525, 'bridget': 3526, 'rohde': 3527, 'accountable': 3528, 'expertise': 3529, 'facilitate': 3530, 'dollar': 3531, 'expands': 3532, 'discount': 3533, 'distribution': 3534, 'lone': 3535, 'dominated': 3536, 'tragedies': 3537, 'charitable': 3538, 'favorites': 3539, 'frugal': 3540, 'favor': 3541, 'samesex': 3542, 'upstate': 3543, 'quadruple': 3544, 'basement': 3545, 'fricker': 3546, 'buckley': 3547, 'kuhnfricker': 3548, 'separating': 3549, 'admitting': 3550, 'deceptive': 3551, 'unethical': 3552, 'kameron': 3553, 'prescott': 3554, 'stray': 3555, 'quit': 3556, 'meat': 3557, 'leonardo': 3558, 'dicaprio': 3559, 'random': 3560, 'targeting': 3561, 'darkcolored': 3562, 'oversized': 3563, 'tires': 3564, 'lots': 3565, 'narrative': 3566, 'bonuses': 3567, 'fantasies': 3568, 'tossed': 3569, 'parted': 3570, 'schnatter': 3571, 'toughest': 3572, 'interfaith': 3573, 'iced': 3574, 'tea': 3575, 'skyrocket': 3576, 'renaming': 3577, 'blockchain': 3578, 'capitalization': 3579, 'technical': 3580, 'vet': 3581, 'barking': 3582, 'deliveries': 3583, 'packages': 3584, 'alteryx': 3585, 'exposes': 3586, 'households': 3587, 'researcher': 3588, 'glove': 3589, 'negligence': 3590, 'greater': 3591, 'bubble': 3592, 'sank': 3593, 'taxpayer': 3594, 'bidding': 3595, 'subsidizing': 3596, 'evergrowing': 3597, 'fulfillment': 3598, 'scope': 3599, 'espn': 3600, 'unexpectedly': 3601, 'decide': 3602, 'participatory': 3603, 'budgeting': 3604, 'inclusive': 3605, 'circumstances': 3606, 'surrounding': 3607, 'purdue': 3608, 'complicit': 3609, 'foot': 3610, 'washed': 3611, 'ashore': 3612, 'canada': 3613, 'freak': 3614, 'fertility': 3615, 'sperm': 3616, 'impregnate': 3617, 'acknowledged': 3618, 'predatory': 3619, 'manipulated': 3620, 'jim': 3621, 'spencer': 3622, 'dirt': 3623, 'weak': 3624, 'plumber': 3625, 'trench': 3626, 'cavein': 3627, 'anger': 3628, 'watching': 3629, 'rolled': 3630, 'notes': 3631, 'sipri': 3632, 'stockholm': 3633, 'laney': 3634, 'bearing': 3635, 'inscription': 3636, 'fked': 3637, 'koch': 3638, 'antinet': 3639, 'emma': 3640, 'leathley': 3641, 'commitment': 3642, 'donor': 3643, 'spearheaded': 3644, 'nielsen': 3645, 'measurement': 3646, 'provider': 3647, 'numbered': 3648, 'dulles': 3649, 'crashed': 3650, 'stripping': 3651, 'jumping': 3652, 'arguing': 3653, 'samaritan': 3654, 'icy': 3655, 'recovering': 3656, 'airplane': 3657, 'smoker': 3658, 'smoke': 3659, 'diapers': 3660, 'restrooms': 3661, 'diaper': 3662, 'yearend': 3663, 'rieva': 3664, 'lesonsky': 3665, 'midsize': 3666, 'celebs': 3667, 'politicians': 3668, 'angelina': 3669, 'jolies': 3670, 'ashley': 3671, 'judds': 3672, 'minka': 3673, 'reah': 3674, 'bravos': 3675, 'megyn': 3676, 'steepest': 3677, 'temp': 3678, 'deliver': 3679, 'squeezed': 3680, 'contractors': 3681, 'freeway': 3682, 'isisinspired': 3683, 'akayed': 3684, 'ullah': 3685, 'landlord': 3686, 'masturbating': 3687, 'tenant': 3688, 'heater': 3689, 'brendan': 3690, 'dassey': 3691, 'circuit': 3692, 'ruled': 3693, 'marked': 3694, 'taxed': 3695, 'spiral': 3696, 'half': 3697, 'queen': 3698, 'wolf': 3699, 'clothing': 3700, 'buys': 3701, 'consolidation': 3702, 'meds': 3703, 'twins': 3704, 'vanishes': 3705, 'errands': 3706, 'genderbased': 3707, 'banura': 3708, 'lifetime': 3709, 'volkswagen': 3710, 'max': 3711, 'buses': 3712, 'illinois': 3713, 'suburban': 3714, 'antichinese': 3715, 'criticizing': 3716, 'negates': 3717, 'preserving': 3718, 'heartbreaking': 3719, 'cow': 3720, 'sums': 3721, 'stuff': 3722, 'lasting': 3723, 'deep': 3724, 'satisfaction': 3725, 'none': 3726, 'destinations': 3727, 'vulnerability': 3728, 'climatedriven': 3729, 'molesting': 3730, 'upwards': 3731, 'hayden': 3732, 'selfadvocacy': 3733, 'annika': 3734, 'grassl': 3735, 'catthrowing': 3736, 'ontario': 3737, 'instagram': 3738, 'wild': 3739, 'selfies': 3740, 'pic': 3741, 'caressing': 3742, 'cool': 3743, 'retired': 3744, 'capt': 3745, 'julia': 3746, 'jacobson': 3747, 'boogie': 3748, 'developer': 3749, 'segregated': 3750, 'renters': 3751, 'entrance': 3752, 'enforcer': 3753, 'freezes': 3754, 'workerfriendly': 3755, 'reforms': 3756, 'counsel': 3757, 'narrower': 3758, 'predecessor': 3759, 'inc': 3760, 'directors': 3761, 'sheryl': 3762, 'sandberg': 3763, 'backlash': 3764, 'disappearance': 3765, 'mariah': 3766, 'presumed': 3767, 'tested': 3768, 'homemade': 3769, 'poison': 3770, 'sprinkling': 3771, 'ricin': 3772, 'seniors': 3773, 'edition': 3774, 'powerless': 3775, 'tired': 3776, 'lie': 3777, 'tearjerker': 3778, 'allergies': 3779, 'attacked': 3780, 'headbutted': 3781, 'russell': 3782, 'simmons': 3783, 'screenwriter': 3784, 'jenny': 3785, 'lumet': 3786, 'hollywood': 3787, 'music': 3788, 'inherited': 3789, 'grandmother': 3790, 'randi': 3791, 'alaska': 3792, 'harass': 3793, 'oh': 3794, 'personally': 3795, 'filter': 3796, 'disappears': 3797, 'sparking': 3798, 'kristy': 3799, 'among': 3800, 'panelists': 3801, 'insider': 3802, 'flagship': 3803, 'conference': 3804, 'gathering': 3805, 'blind': 3806, 'howell': 3807, 'donaldson': 3808, 'reno': 3809, 'window': 3810, 'textiles': 3811, 'fundraiser': 3812, 'jude': 3813, 'tag': 3814, 'danni': 3815, 'messina': 3816, 'retweet': 3817, 'tweet': 3818, 'givingtuesday': 3819, 'givingnewsday': 3820, 'journalism': 3821, 'violate': 3822, 'furthest': 3823, 'platforms': 3824, 'administrative': 3825, 'fees': 3826, 'assisting': 3827, 'worthy': 3828, 'syria': 3829, 'convictions': 3830, 'branch': 3831, 'probing': 3832, 'sutherland': 3833, 'springs': 3834, 'glee': 3835, 'naya': 3836, 'rivera': 3837, 'dorsey': 3838, 'lip': 3839, 'wheel': 3840, 'infant': 3841, 'backseat': 3842, 'automated': 3843, 'hunter': 3844, 'deer': 3845, 'rosemary': 3846, 'billquist': 3847, 'western': 3848, 'dealer': 3849, 'fentanyl': 3850, 'thankful': 3851, 'johnny': 3852, 'setting': 3853, 'rei': 3854, 'optoutside': 3855, 'strike': 3856, 'walkout': 3857, 'hustle': 3858, 'fascinating': 3859, 'admiration': 3860, 'dismembering': 3861, 'miguel': 3862, 'angel': 3863, 'lopezabrego': 3864, 'lured': 3865, 'josé': 3866, 'andrés': 3867, 'prepares': 3868, 'celebrity': 3869, 'testifying': 3870, 'suiter': 3871, 'volunteering': 3872, 'dry': 3873, 'outrage': 3874, 'peaceful': 3875, 'mine': 3876, 'colored': 3877, 'partisan': 3878, 'rancor': 3879, 'diners': 3880, 'adding': 3881, 'pound': 3882, 'nobrainer': 3883, 'proposals': 3884, 'panic': 3885, 'buttons': 3886, 'tales': 3887, 'lobby': 3888, 'sees': 3889, 'devices': 3890, 'fig': 3891, 'leaf': 3892, 'solution': 3893, 'mcsr': 3894, 'nomas': 3895, 'parties': 3896, 'required': 3897, 'positive': 3898, 'craft': 3899, 'brewers': 3900, 'effects': 3901, 'brewery': 3902, 'declaration': 3903, 'bidder': 3904, 'businesswoman': 3905, 'contrerassweet': 3906, 'submitted': 3907, 'twc': 3908, 'sudan': 3909, 'caused': 3910, 'hackers': 3911, 'roundup': 3912, 'onestopshop': 3913, 'screwing': 3914, 'minorities': 3915, 'philosophy': 3916, 'loser': 3917, 'historical': 3918, 'wasting': 3919, 'absurd': 3920, 'amounts': 3921, 'equivalent': 3922, 'turkeys': 3923, 'endure': 3924, 'rooms': 3925, 'ashland': 3926, 'mrdjenovich': 3927, 'justiceforjason': 3928, 'unfortunately': 3929, 'brownskinned': 3930, 'surviving': 3931, 'dancing': 3932, 'sugar': 3933, 'plums': 3934, 'storefronts': 3935, 'dressed': 3936, 'style': 3937, 'opting': 3938, 'shipping': 3939, 'rooting': 3940, 'deteriorating': 3941, 'comcast': 3942, 'approach': 3943, 'acquiring': 3944, 'walt': 3945, 'co': 3946, 'exhaustive': 3947, 'updating': 3948, 'roll': 3949, 'sylvester': 3950, 'stallone': 3951, 'threesome': 3952, 'actor': 3953, 'bodyguard': 3954, 'attacking': 3955, 'elementary': 3956, 'kevin': 3957, 'janson': 3958, 'neal': 3959, 'fraternity': 3960, 'alcohol': 3961, 'phi': 3962, 'kappa': 3963, 'psi': 3964, 'experiencing': 3965, 'goodness': 3966, 'meyer': 3967, 'wrap': 3968, 'provoke': 3969, 'empathy': 3970, 'tapping': 3971, 'soaring': 3972, 'psychopathic': 3973, 'predator': 3974, 'mainland': 3975, 'saito': 3976, 'insanity': 3977, 'addition': 3978, 'row': 3979, 'receives': 3980, 'pillow': 3981, 'breathe': 3982, 'alva': 3983, 'campbell': 3984, 'shuffle': 3985, 'chasing': 3986, 'flowing': 3987, 'malls': 3988, 'sustainable': 3989, 'fundamental': 3990, 'deports': 3991, 'orson': 3992, 'foulmouthed': 3993, 'berates': 3994, 'fk': 3995, 'clip': 3996, 'exposure': 3997, 'sadly': 3998, 'wakeup': 3999, 'visitor': 4000, 'pellets': 4001, 'choking': 4002, 'incest': 4003, 'biological': 4004, 'domination': 4005, 'looks': 4006, 'ebay': 4007, 'offensive': 4008, 'skeletal': 4009, 'madeleine': 4010, 'mccann': 4011, 'seller': 4012, 'grieving': 4013, 'reads': 4014, 'words': 4015, 'shortly': 4016, 'krueger': 4017, 'heaven': 4018, 'notebook': 4019, 'filipina': 4020, 'punched': 4021, 'chinky': 4022, 'breaks': 4023, 'craigslist': 4024, 'cribs': 4025, 'decrease': 4026, 'keith': 4027, 'hoffmann': 4028, 'coordinating': 4029, 'legalhealth': 4030, 'congress': 4031, 'fiancé': 4032, 'angelika': 4033, 'graswald': 4034, 'parol': 4035, 'trooper': 4036, 'alter': 4037, 'sceviour': 4038, 'disciplined': 4039, 'admissions': 4040, 'cope': 4041, 'fearful': 4042, 'uncertain': 4043, 'navigating': 4044, 'churchgoers': 4045, 'stoic': 4046, 'surgeon': 4047, 'smokes': 4048, 'swisher': 4049, 'ocwen': 4050, 'servicing': 4051, 'obstinate': 4052, 'stanley': 4053, 'kubrick': 4054, 'space': 4055, 'hal': 4056, 'mexican': 4057, 'sports': 4058, 'prayers': 4059, 'officially': 4060, 'inured': 4061, 'register': 4062, 'catastrophe': 4063, 'reassuring': 4064, 'database': 4065, 'devin': 4066, 'allowed': 4067, 'cracks': 4068, 'baptist': 4069, 'ranged': 4070, 'riding': 4071, 'grady': 4072, 'judd': 4073, 'hyperconvenient': 4074, 'apart': 4075, 'sensual': 4076, 'wave': 4077, 'frenzy': 4078, 'nonchalant': 4079, 'calmly': 4080, 'bleak': 4081, 'declined': 4082, 'wef': 4083, 'lyft': 4084, 'farright': 4085, 'journalist': 4086, 'commentator': 4087, 'laura': 4088, 'loomer': 4089, 'ridesharing': 4090, 'commemorates': 4091, 'stares': 4092, 'crackled': 4093, 'rustled': 4094, 'advocacy': 4095, 'urge': 4096, 'unity': 4097, 'alex': 4098, 'reaches': 4099, 'obtain': 4100, 'barred': 4101, 'medical': 4102, 'sleeping': 4103, 'sickness': 4104, 'buenos': 4105, 'aires': 4106, 'voluntary': 4107, 'envision': 4108, 'soviet': 4109, 'lenin': 4110, 'tomb': 4111, 'striking': 4112, 'french': 4113, 'detectives': 4114, 'pleaded': 4115, 'indictment': 4116, 'consensual': 4117, 'partnering': 4118, 'pneumonia': 4119, 'carolyn': 4120, 'lisa': 4121, 'bonadonna': 4122, 'medicines': 4123, 'gsk': 4124, 'prompts': 4125, 'inspect': 4126, 'highlevel': 4127, 'tuberculosis': 4128, 'infectious': 4129, 'awakening': 4130, 'ancient': 4131, 'plague': 4132, 'mock': 4133, 'orleans': 4134, 'gulf': 4135, 'stolen': 4136, 'parasite': 4137, 'graduate': 4138, 'stupendous': 4139, 'earnings': 4140, 'beat': 4141, 'moved': 4142, 'lg': 4143, 'hosted': 4144, 'hapa': 4145, 'espero': 4146, 'lifting': 4147, 'condos': 4148, 'lined': 4149, 'lure': 4150, 'mayors': 4151, 'resonate': 4152, 'superstorm': 4153, 'widespread': 4154, 'outages': 4155, 'sights': 4156, 'greener': 4157, 'grid': 4158, 'reclaiming': 4159, 'awareness': 4160, 'naam': 4161, 'adopteerightsawareness': 4162, 'reilly': 4163, 'richest': 4164, 'earth': 4165, 'eerie': 4166, 'hunt': 4167, 'motivated': 4168, 'concerns': 4169, 'dependability': 4170, 'slogan': 4171, 'apply': 4172, 'strength': 4173, 'churches': 4174, 'race': 4175, 'compensation': 4176, 'discriminate': 4177, 'bribery': 4178, 'kapoor': 4179, 'insys': 4180, 'therapeutics': 4181, 'january': 4182, 'destruction': 4183, 'loneliness': 4184, 'albert': 4185, 'einstein': 4186, 'scribbled': 4187, 'wisdom': 4188, 'remembering': 4189, 'newtown': 4190, 'lanza': 4191, 'brainwashed': 4192, 'asterisk': 4193, 'ambassador': 4194, 'nikki': 4195, 'alexandra': 4196, 'lamarche': 4197, 'highestlevel': 4198, 'protested': 4199, 'views': 4200, 'abortions': 4201, 'crashing': 4202, 'punch': 4203, 'dance': 4204, 'proper': 4205, 'etiquette': 4206, 'actionable': 4207, 'choked': 4208, 'wesley': 4209, 'culvert': 4210, 'indicates': 4211, 'gunrelated': 4212, 'neighboring': 4213, 'elephantiasis': 4214, 'illness': 4215, 'debilitating': 4216, 'drought': 4217, 'neither': 4218, 'bear': 4219, 'crises': 4220, 'stifle': 4221, 'commit': 4222, 'goals': 4223, 'adoptive': 4224, 'punished': 4225, 'lows': 4226, 'geoff': 4227, 'lobbyists': 4228, 'third': 4229, 'crossbow': 4230, 'disagreement': 4231, 'treehouse': 4232, 'terrorizing': 4233, 'maddening': 4234, 'traffic': 4235, 'brace': 4236, 'tolls': 4237, 'gathered': 4238, 'raised': 4239, 'date': 4240, 'powered': 4241, 'entirely': 4242, 'jeopardized': 4243, 'coo': 4244, 'teams': 4245, 'yield': 4246, 'creativity': 4247, 'sounds': 4248, 'undergraduate': 4249, 'northwestern': 4250, 'masters': 4251, 'arpaio': 4252, 'presidential': 4253, 'pardon': 4254, 'wipe': 4255, 'conviction': 4256, 'albuquerque': 4257, 'explain': 4258, 'prank': 4259, 'joke': 4260, 'phoned': 4261, 'gerald': 4262, 'wallace': 4263, 'bars': 4264, 'torrey': 4265, 'torey': 4266, 'twane': 4267, 'gurney': 4268, 'despair': 4269, 'biased': 4270, 'nobelwinning': 4271, 'jovial': 4272, 'eradicate': 4273, 'inequity': 4274, 'seher': 4275, 'khawaja': 4276, 'onebedroom': 4277, 'demanding': 4278, 'prosperous': 4279, 'decently': 4280, 'stunning': 4281, 'rarely': 4282, 'providing': 4283, 'relayed': 4284, 'chelsea': 4285, 'ahmad': 4286, 'rahimi': 4287, 'thirty': 4288, 'greenwich': 4289, 'bustling': 4290, 'humid': 4291, 'objective': 4292, 'anticonsumer': 4293, 'repealed': 4294, 'intended': 4295, 'tina': 4296, 'frost': 4297, 'wakes': 4298, 'coma': 4299, 'revised': 4300, 'incorrect': 4301, 'healing': 4302, 'gaping': 4303, 'wound': 4304, 'hotline': 4305, 'lifeline': 4306, 'polluted': 4307, 'necessarily': 4308, 'wyoming': 4309, 'depend': 4310, 'gumption': 4311, 'minerals': 4312, 'slumping': 4313, 'diarists': 4314, 'diarist': 4315, 'diary': 4316, 'forcing': 4317, 'fee': 4318, 'pressing': 4319, 'abusers': 4320, 'columbus': 4321, 'cleopatra': 4322, 'backfires': 4323, 'spectacularly': 4324, 'johnson': 4325, 'searched': 4326, 'howto': 4327, 'mandalay': 4328, 'parent': 4329, 'differs': 4330, 'evacuees': 4331, 'ashes': 4332, 'educator': 4333, 'tribal': 4334, 'reservation': 4335, 'fluently': 4336, 'violently': 4337, 'salt': 4338, 'swept': 4339, 'rug': 4340, 'yorker': 4341, 'pursue': 4342, 'pepfar': 4343, 'dakota': 4344, 'nonpermanent': 4345, 'bouts': 4346, 'joblessness': 4347, 'somewhat': 4348, 'callous': 4349, 'hey': 4350, 'adopt': 4351, 'fido': 4352, 'substantial': 4353, 'sons': 4354, 'offender': 4355, 'awarded': 4356, 'joint': 4357, 'impregnated': 4358, 'seeks': 4359, 'honored': 4360, 'behavioral': 4361, 'punishment': 4362, 'gone': 4363, 'des': 4364, 'moines': 4365, 'goal': 4366, 'experimental': 4367, 'balloon': 4368, 'aims': 4369, 'reception': 4370, 'towers': 4371, 'operational': 4372, 'cramped': 4373, 'filthy': 4374, 'cages': 4375, 'puppy': 4376, 'mill': 4377, 'bust': 4378, 'feces': 4379, 'urine': 4380, 'operation': 4381, 'undercut': 4382, 'fallen': 4383, 'haul': 4384, 'selfcare': 4385, 'seemingly': 4386, 'terrifying': 4387, 'dispiriting': 4388, 'culinary': 4389, 'entrepreneurship': 4390, 'tannerite': 4391, 'epa': 4392, 'preparing': 4393, 'robust': 4394, 'creation': 4395, 'hailed': 4396, 'campos': 4397, 'healthier': 4398, 'moms': 4399, 'provides': 4400, 'prenatal': 4401, 'booking': 4402, 'hotels': 4403, 'concerts': 4404, 'route': 4405, 'harvest': 4406, 'unknown': 4407, 'marilou': 4408, 'danley': 4409, 'simulates': 4410, 'automatic': 4411, 'fitted': 4412, 'bump': 4413, 'doubles': 4414, 'firsts': 4415, 'organizer': 4416, 'jason': 4417, 'perjury': 4418, 'admit': 4419, 'shortage': 4420, 'appraisers': 4421, 'gumming': 4422, 'mere': 4423, 'mention': 4424, 'evokes': 4425, 'dread': 4426, 'regret': 4427, 'bush': 4428, 'apathy': 4429, 'comeuppance': 4430, 'susan': 4431, 'richardson': 4432, 'bated': 4433, 'drama': 4434, 'author': 4435, 'revision': 4436, 'piece': 4437, 'nine': 4438, 'returning': 4439, 'scares': 4440, 'petty': 4441, 'partisanship': 4442, 'roy': 4443, 'moore': 4444, 'civil': 4445, 'unifies': 4446, 'incumbents': 4447, 'rightwingers': 4448, 'gofundme': 4449, 'page': 4450, 'hospitals': 4451, 'sort': 4452, 'parental': 4453, 'hourly': 4454, 'cache': 4455, 'relentless': 4456, 'sole': 4457, 'aggressor': 4458, 'fighter': 4459, 'pilot': 4460, 'tomcat': 4461, 'cockpit': 4462, 'carey': 4463, 'lohrenz': 4464, 'eyewitnesses': 4465, 'recount': 4466, 'attendees': 4467, 'chaos': 4468, 'confusion': 4469, 'sewing': 4470, 'empower': 4471, 'bhutanese': 4472, 'economically': 4473, 'climb': 4474, 'heightened': 4475, 'oj': 4476, 'parole': 4477, 'survivalist': 4478, 'loses': 4479, 'supplies': 4480, 'phyliss': 4481, 'luther': 4482, 'protestdemeaning': 4483, 'moderates': 4484, 'uncomfortable': 4485, 'malala': 4486, 'mesmerizes': 4487, 'wondered': 4488, 'appreciation': 4489, 'cake': 4490, 'typically': 4491, 'observed': 4492, 'fasting': 4493, 'earthquake': 4494, 'eduardo': 4495, 'pro': 4496, 'bono': 4497, 'neighborhoods': 4498, 'dumb': 4499, 'publicly': 4500, 'tagged': 4501, 'reddit': 4502, 'user': 4503, 'forfeits': 4504, 'entire': 4505, 'oxycontin': 4506, 'pills': 4507, 'pittsburgh': 4508, 'evolves': 4509, 'category': 4510, 'hikers': 4511, 'determine': 4512, 'abigail': 4513, 'liberty': 4514, 'michael': 4515, 'brumage': 4516, 'harmreduction': 4517, 'needles': 4518, 'daunting': 4519, 'sheila': 4520, 'keen': 4521, 'marlene': 4522, 'mining': 4523, 'falsely': 4524, 'homogenized': 4525, 'lifechanging': 4526, 'intervention': 4527, 'sibling': 4528, 'implied': 4529, 'fill': 4530, 'stretch': 4531, 'illiterate': 4532, 'keeps': 4533, 'turtles': 4534, 'paradise': 4535, 'intensity': 4536, 'consistency': 4537, 'peak': 4538, 'gratification': 4539, 'combination': 4540, 'horses': 4541, 'distribute': 4542, 'reversal': 4543, 'kits': 4544, 'asheville': 4545, 'stick': 4546, 'groceries': 4547, 'refrigerator': 4548, 'summoning': 4549, 'pick': 4550, 'plucks': 4551, 'capsized': 4552, 'kb': 4553, 'incentive': 4554, 'vulgar': 4555, 'jeffrey': 4556, 'mezger': 4557, 'mouth': 4558, 'postirma': 4559, 'floridians': 4560, 'struggled': 4561, 'aftermath': 4562, 'foreseeing': 4563, 'krumpter': 4564, 'counselor': 4565, 'registry': 4566, 'expecting': 4567, 'navy': 4568, 'staffers': 4569, 'newborns': 4570, 'incredibly': 4571, 'unprofessional': 4572, 'tolerated': 4573, 'deaf': 4574, 'shouted': 4575, 'magdiel': 4576, 'commands': 4577, 'charity': 4578, 'rented': 4579, 'childhood': 4580, 'oxfam': 4581, 'chases': 4582, 'behaving': 4583, 'screaming': 4584, 'wishes': 4585, 'onethird': 4586, 'grow': 4587, 'acquittal': 4588, 'demonstrators': 4589, 'attempted': 4590, 'ramp': 4591, 'interstate': 4592, 'announcing': 4593, 'enterprise': 4594, 'announce': 4595, 'solidarity': 4596, 'spiritual': 4597, 'hoodie': 4598, 'false': 4599, 'brent': 4600, 'ahlers': 4601, 'catherine': 4602, 'landmark': 4603, 'treats': 4604, 'appliances': 4605, 'deserve': 4606, 'loyalty': 4607, 'harms': 4608, 'trusting': 4609, 'affairs': 4610, 'seeking': 4611, 'stahurski': 4612, 'advertisers': 4613, 'jew': 4614, 'haters': 4615, 'contacted': 4616, 'propublica': 4617, 'antisemitic': 4618, 'categories': 4619, 'enormous': 4620, 'pole': 4621, 'jacksonville': 4622, 'buybacks': 4623, 'burning': 4624, 'trillions': 4625, 'hyper': 4626, 'enrichment': 4627, 'classical': 4628, 'pieces': 4629, 'rebuild': 4630, 'dear': 4631, 'boomers': 4632, 'intergeneration': 4633, 'appreciate': 4634, 'richness': 4635, 'collaboration': 4636, 'wise': 4637, 'betcha': 4638, 'covered': 4639, 'betsy': 4640, 'donley': 4641, 'recommends': 4642, 'stars': 4643, 'figures': 4644, 'hangs': 4645, 'paintings': 4646, 'abandoned': 4647, 'huge': 4648, 'rundown': 4649, 'uninhabited': 4650, 'writes': 4651, 'glowing': 4652, 'entitled': 4653, 'describes': 4654, 'duncan': 4655, 'pens': 4656, 'plea': 4657, 'virgin': 4658, 'islands': 4659, 'nba': 4660, 'donated': 4661, 'total': 4662, 'command': 4663, 'peeled': 4664, 'winds': 4665, 'pummeling': 4666, 'landfall': 4667, 'respond': 4668, 'disasters': 4669, 'hurricaneirma': 4670, 'hurricaneharvey': 4671, 'bangladesh': 4672, 'nepal': 4673, 'jump': 4674, 'clarifies': 4675, 'pointed': 4676, 'problematic': 4677, 'terms': 4678, 'realtor': 4679, 'crystal': 4680, 'mcdowell': 4681, 'ravaged': 4682, 'shopper': 4683, 'generator': 4684, 'ramon': 4685, 'santiago': 4686, 'insisted': 4687, 'pam': 4688, 'brekke': 4689, 'secure': 4690, 'oxygen': 4691, 'proves': 4692, 'passwords': 4693, 'plain': 4694, 'password': 4695, 'brokerage': 4696, 'imply': 4697, 'caribbean': 4698, 'kicked': 4699, 'brawl': 4700, 'popeyes': 4701, 'revealing': 4702, 'rife': 4703, 'management': 4704, 'criminals': 4705, 'accessed': 4706, 'names': 4707, 'racked': 4708, 'coastal': 4709, 'hometown': 4710, 'prouder': 4711, 'loss': 4712, 'effort': 4713, 'warnings': 4714, 'marginalised': 4715, 'disheartened': 4716, 'holds': 4717, 'factor': 4718, 'moneyrelated': 4719, 'curve': 4720, 'kala': 4721, 'azar': 4722, 'hail': 4723, 'unsung': 4724, 'frustrated': 4725, 'understanding': 4726, 'undermines': 4727, 'dedicated': 4728, 'volunteers': 4729, 'ray': 4730, 'unthinkable': 4731, 'slams': 4732, 'reunion': 4733, 'rescuing': 4734, 'adorable': 4735, 'taught': 4736, 'seva': 4737, 'selfless': 4738, 'predicts': 4739, 'coverage': 4740, 'carefully': 4741, 'backing': 4742, 'colleagues': 4743, 'idaho': 4744, 'aspiring': 4745, 'cough': 4746, 'syrup': 4747, 'dispatcher': 4748, 'recourse': 4749, 'upside': 4750, 'banning': 4751, 'pouring': 4752, 'spokeswoman': 4753, 'patient': 4754, 'warrant': 4755, 'voted': 4756, 'afflict': 4757, 'equitably': 4758, 'brookings': 4759, 'excellent': 4760, 'flooding': 4761, 'cruel': 4762, 'pledging': 4763, 'tuition': 4764, 'pursuit': 4765, 'dialysis': 4766, 'timely': 4767, 'pediatric': 4768, 'doctors': 4769, 'swooped': 4770, 'hut': 4771, 'delivering': 4772, 'pizzas': 4773, 'defective': 4774, 'hazardous': 4775, 'houstonians': 4776, 'amidst': 4777, 'reposted': 4778, 'checked': 4779, 'phones': 4780, 'lifeordeath': 4781, 'nice': 4782, 'spirits': 4783, 'superpower': 4784, 'form': 4785, 'sinking': 4786, 'continued': 4787, 'outshine': 4788, 'affordable': 4789, 'immediately': 4790, 'sba': 4791, 'reopen': 4792, 'folks': 4793, 'dream': 4794, 'seemed': 4795, 'performed': 4796, 'miracles': 4797, 'boats': 4798, 'crews': 4799, 'gallery': 4800, 'welcomed': 4801, 'rest': 4802, 'tracked': 4803, 'riders': 4804, 'complained': 4805, 'collected': 4806, 'boomtowns': 4807, 'matters': 4808, 'economies': 4809, 'onetime': 4810, 'boost': 4811, 'longerterm': 4812, 'trouble': 4813, 'doj': 4814, 'violated': 4815, 'foreignbribery': 4816, 'improvement': 4817, 'bar': 4818, 'waterproof': 4819, 'vacationready': 4820, 'breweries': 4821, 'cans': 4822, 'anheuserbusch': 4823, 'millercoors': 4824, 'follow': 4825, 'oppressive': 4826, 'divide': 4827, 'picked': 4828, 'gate': 4829, 'todo': 4830, 'dump': 4831, 'bucket': 4832, 'als': 4833, 'effect': 4834, 'drench': 4835, 'repair': 4836, 'paint': 4837, 'regular': 4838, 'bound': 4839, 'detainees': 4840, 'underground': 4841, 'illegally': 4842, 'border': 4843, 'uncovered': 4844, 'arresting': 4845, 'smuggled': 4846, 'kristen': 4847, 'ambury': 4848, 'removing': 4849, 'institutional': 4850, 'messenlehner': 4851, 'neonazis': 4852, 'writer': 4853, 'writers': 4854, 'negativity': 4855, 'loners': 4856, 'shells': 4857, 'casting': 4858, 'shadow': 4859, 'otherwise': 4860, 'korean': 4861, 'sentences': 4862, 'scion': 4863, 'corruption': 4864, 'electronics': 4865, 'wrongdoing': 4866, 'streamed': 4867, 'decent': 4868, 'burial': 4869, 'mobil': 4870, 'misled': 4871, 'harvard': 4872, 'researchers': 4873, 'systematic': 4874, 'quantifiable': 4875, 'discrepancy': 4876, 'versus': 4877, 'supermarket': 4878, 'disgruntled': 4879, 'hostages': 4880, 'declared': 4881, 'ticket': 4882, 'lottery': 4883, 'marcellus': 4884, 'proof': 4885, 'placed': 4886, 'cadaver': 4887, 'fresh': 4888, 'roller': 4889, 'coaster': 4890, 'manoj': 4891, 'chopra': 4892, 'delhi': 4893, 'stress': 4894, 'braking': 4895, 'willing': 4896, 'suck': 4897, 'fans': 4898, 'turn': 4899, 'cena': 4900, 'wwe': 4901, 'diana': 4902, 'winkler': 4903, 'telltale': 4904, 'genuine': 4905, 'retreats': 4906, 'namecheap': 4907, 'steubenville': 4908, 'j': 4909, 'bruzzese': 4910, 'balloons': 4911, 'winner': 4912, 'drawing': 4913, 'secondlargest': 4914, 'babysitter': 4915, 'perform': 4916, 'acts': 4917, 'esmeralda': 4918, 'medellin': 4919, 'principles': 4920, 'reprehensible': 4921, 'resistance': 4922, 'spire': 4923, 'glows': 4924, 'colors': 4925, 'spanish': 4926, 'flag': 4927, 'red': 4928, 'yellow': 4929, 'lights': 4930, 'atop': 4931, 'skyscraper': 4932, 'wrinkles': 4933, 'swastika': 4934, 'tattoo': 4935, 'mindset': 4936, 'physical': 4937, 'kittens': 4938, 'elites': 4939, 'mortgage': 4940, 'hugely': 4941, 'overvalued': 4942, 'shaking': 4943, 'subcommission': 4944, 'unchr': 4945, 'godaddy': 4946, 'plug': 4947, 'publishing': 4948, 'hatefilled': 4949, 'propaganda': 4950, 'masses': 4951, 'recognize': 4952, 'harbor': 4953, 'payroll': 4954, 'nationalists': 4955, 'hatred': 4956, 'ensured': 4957, 'wannabe': 4958, 'mantle': 4959, 'mayhem': 4960, 'mounted': 4961, 'selfproclaimed': 4962, 'battles': 4963, 'counterprotesters': 4964, 'heather': 4965, 'murdered': 4966, 'protesting': 4967, 'outraged': 4968, 'supremacy': 4969, 'ripped': 4970, 'plows': 4971, 'antiracist': 4972, 'trolls': 4973, 'murderers': 4974, 'hammered': 4975, 'counterparts': 4976, 'survives': 4977, 'plunge': 4978, 'bmw': 4979, 'shocking': 4980, 'investor': 4981, 'suing': 4982, 'concealed': 4983, 'gross': 4984, 'mismanagement': 4985, 'sleepover': 4986, 'path': 4987, 'suv': 4988, 'hong': 4989, 'kong': 4990, 'overnight': 4991, 'un': 4992, 'saba': 4993, 'ismail': 4994, 'peacebuilding': 4995, 'perceptions': 4996, 'debacle': 4997, 'failing': 4998, 'afterschool': 4999, 'hungry': 5000, 'lower': 5001, 'scores': 5002, 'tovin': 5003, 'lapan': 5004, 'emrys': 5005, 'eller': 5006, 'produced': 5007, 'hechinger': 5008, 'doityourself': 5009, 'antidiversity': 5010, 'leaked': 5011, 'typical': 5012, 'declining': 5013, 'profit': 5014, 'exclusive': 5015, 'pool': 5016, 'invisible': 5017, 'unassuming': 5018, 'mid': 5019, 'sat': 5020, 'amongst': 5021, 'eleven': 5022, 'sailing': 5023, 'stretching': 5024, 'electrocuting': 5025, 'sleep': 5026, 'visiting': 5027, 'murders': 5028, 'ceasefire': 5029, 'airline': 5030, 'nab': 5031, 'preschool': 5032, 'seated': 5033, 'minnesota': 5034, 'bombing': 5035, 'islamic': 5036, 'bloomington': 5037, 'ass': 5038, 'exceptional': 5039, 'cartoon': 5040, 'begins': 5041, 'relaying': 5042, 'centered': 5043, 'stewardship': 5044, 'boyfriend': 5045, 'sympathy': 5046, 'carter': 5047, 'cast': 5048, 'femme': 5049, 'fatale': 5050, 'dare': 5051, 'requirements': 5052, 'deepen': 5053, 'prolong': 5054, 'kristin': 5055, 'seefeldt': 5056, 'southeast': 5057, 'flung': 5058, 'fort': 5059, 'lesell': 5060, 'able': 5061, 'detain': 5062, 'singapore': 5063, 'recalled': 5064, 'publiclyowned': 5065, 'trumponomics': 5066, 'sinquefield': 5067, 'avid': 5068, 'chess': 5069, 'unbelted': 5070, 'rider': 5071, 'cheryl': 5072, 'jensen': 5073, 'buckle': 5074, 'ride': 5075, 'rear': 5076, 'seat': 5077, 'present': 5078, 'professional': 5079, 'lifson': 5080, 'export': 5081, 'louisianachina': 5082, 'wang': 5083, 'reverend': 5084, 'undeniable': 5085, 'tweeted': 5086, 'truthfully': 5087, 'breastfeeding': 5088, 'adequately': 5089, 'breastfeed': 5090, 'prevailing': 5091, 'ideology': 5092, 'enriches': 5093, 'extractors': 5094, 'creators': 5095, 'liars': 5096, 'accusation': 5097, 'exgirlfriend': 5098, 'noel': 5099, 'grullon': 5100, 'throws': 5101, 'lacks': 5102, 'succumb': 5103, 'trend': 5104, 'overturned': 5105, 'lt': 5106, 'aaron': 5107, 'allan': 5108, 'attitudes': 5109, 'column': 5110, 'addressed': 5111, 'granted': 5112, 'characteristics': 5113, 'mendler': 5114, 'positively': 5115, 'livestreaming': 5116, 'younger': 5117, 'dui': 5118, 'cregg': 5119, 'jerri': 5120, 'minding': 5121, 'wouldbe': 5122, 'wielding': 5123, 'erynn': 5124, 'beaton': 5125, 'maureen': 5126, 'scully': 5127, 'sandra': 5128, 'rothenberg': 5129, 'dylan': 5130, 'courtordered': 5131, 'firsthand': 5132, 'heatrelated': 5133, 'ailments': 5134, 'mcmanus': 5135, 'documentary': 5136, 'brian': 5137, 'knappenberger': 5138, 'hulk': 5139, 'hogan': 5140, 'gawker': 5141, 'relentlessly': 5142, 'element': 5143, 'bruce': 5144, 'janz': 5145, 'humanities': 5146, 'reading': 5147, 'books': 5148, 'writing': 5149, 'ones': 5150, 'haunted': 5151, 'kenyan': 5152, 'coalhauling': 5153, 'railroad': 5154, 'reverse': 5155, 'csx': 5156, 'investments': 5157, 'transporting': 5158, 'slavery': 5159, 'vacations': 5160, 'collide': 5161, 'imperative': 5162, 'afghanistan': 5163, 'sesame': 5164, 'zeerak': 5165, 'reserve': 5166, 'racial': 5167, 'alleviate': 5168, 'susanne': 5169, 'becken': 5170, 'griffith': 5171, 'pleasurable': 5172, 'chipotle': 5173, 'reopening': 5174, 'norovirus': 5175, 'investing': 5176, 'eight': 5177, 'latte': 5178, 'salad': 5179, 'lunch': 5180, 'demand': 5181, 'wages': 5182, 'busy': 5183, 'airports': 5184, 'tourist': 5185, 'destination': 5186, 'georgette': 5187, 'mulheir': 5188, 'lumos': 5189, 'janet': 5190, 'scardino': 5191, 'reliefred': 5192, 'nose': 5193, 'usa': 5194, 'strottman': 5195, 'awful': 5196, 'antiviolence': 5197, 'activist': 5198, 'confronts': 5199, 'nj': 5200, 'searching': 5201, 'van': 5202, 'apparently': 5203, 'undated': 5204, 'plainclothes': 5205, 'filming': 5206, 'diva': 5207, 'convince': 5208, 'ridiculous': 5209, 'phrases': 5210, 'euphemisms': 5211, 'touchy': 5212, 'subjects': 5213, 'honolulu': 5214, 'highrise': 5215, 'arrived': 5216, 'bureau': 5217, 'misbehaving': 5218, 'pride': 5219, 'lgbt': 5220, 'cole': 5221, 'ledford': 5222, 'dior': 5223, 'vargas': 5224, 'tirelessly': 5225, 'cafe': 5226, 'trains': 5227, 'cooks': 5228, 'stuck': 5229, 'lowpaying': 5230, 'menial': 5231, 'amsterdam': 5232, 'african': 5233, 'stairs': 5234, 'missed': 5235, 'shoving': 5236, 'dinardo': 5237, 'scales': 5238, 'ashwini': 5239, 'asokan': 5240, 'deadline': 5241, 'nuances': 5242, 'hardworking': 5243, 'buffett': 5244, 'charities': 5245, 'buffet': 5246, 'remained': 5247, 'fourthrichest': 5248, 'résumé': 5249, 'bruno': 5250, 'buonaguidi': 5251, 'università': 5252, 'della': 5253, 'svizzera': 5254, 'italiana': 5255, 'nonnegligible': 5256, 'saving': 5257, 'dining': 5258, 'reviewing': 5259, 'menu': 5260, 'advance': 5261, 'chance': 5262, 'math': 5263, 'entrée': 5264, 'rosé': 5265, 'zones': 5266, 'condom': 5267, 'morningafter': 5268, 'pill': 5269, 'popping': 5270, 'period': 5271, 'thrives': 5272, 'quietest': 5273, 'fastpaced': 5274, 'noise': 5275, 'excitement': 5276, 'continuous': 5277, 'connections': 5278, 'counting': 5279, 'bet': 5280, 'microsoft': 5281, 'original': 5282, 'enfant': 5283, 'tough': 5284, 'smallish': 5285, 'stature': 5286, 'booming': 5287, 'uproarious': 5288, 'laugh': 5289, 'workdays': 5290, 'sonic': 5291, 'burst': 5292, 'merely': 5293, 'stem': 5294, 'tide': 5295, 'alano': 5296, 'tool': 5297, 'casket': 5298, 'containing': 5299, 'organs': 5300, 'straight': 5301, 'thriller': 5302, 'listening': 5303, 'mistaking': 5304, 'frank': 5305, 'leo': 5306, 'huner': 5307, 'seconddegree': 5308, 'bonfire': 5309, 'badly': 5310, 'yikes': 5311, 'exceeds': 5312, 'wildest': 5313, 'laughing': 5314, 'headline': 5315, 'toxic': 5316, 'contaminate': 5317, 'obliviously': 5318, 'smugly': 5319, 'taxi': 5320, 'pedestrians': 5321, 'extradited': 5322, 'cautions': 5323, 'judgement': 5324, 'penis': 5325, 'sitting': 5326, 'cedrick': 5327, 'jelks': 5328, 'possession': 5329, 'savage': 5330, 'graduated': 5331, 'arab': 5332, 'fred': 5333, 'rotondaro': 5334, 'measure': 5335, 'remarkable': 5336, 'arkansas': 5337, 'anticipate': 5338, 'tracy': 5339, 'sinyee': 5340, 'tam': 5341, 'bronx': 5342, 'covering': 5343, 'shift': 5344, 'israeli': 5345, 'palestinian': 5346, 'dialogue': 5347, 'boldest': 5348, 'saint': 5349, 'art': 5350, 'museum': 5351, 'architect': 5352, 'cass': 5353, 'gilbert': 5354, 'palaces': 5355, 'urgency': 5356, 'rewriting': 5357, 'adapted': 5358, 'zip': 5359, 'actual': 5360, 'sometime': 5361, 'miller': 5362, 'v': 5363, 'term': 5364, 'kumbaya': 5365, 'vocabulary': 5366, 'brave': 5367, 'films': 5368, 'believers': 5369, 'conciliators': 5370, 'dealmakers': 5371, 'mildly': 5372, 'name': 5373, 'recognizing': 5374, 'harder': 5375, 'lining': 5376, 'pocket': 5377, 'reforming': 5378, 'lgbtq': 5379, 'facilities': 5380, 'identify': 5381, 'lesbian': 5382, 'bisexual': 5383, 'microlending': 5384, 'reduces': 5385, 'however': 5386, 'microcredit': 5387, 'strides': 5388, 'manufacturer': 5389, 'guide': 5390, 'resist': 5391, 'crops': 5392, 'unharvested': 5393, 'fields': 5394, 'vineyard': 5395, 'locally': 5396, 'shops': 5397, 'lifestyles': 5398, 'drive': 5399, 'smartphones': 5400, 'inappropriate': 5401, 'crowd': 5402, 'trumpcare': 5403, 'protesters': 5404, 'administrator': 5405, 'slant': 5406, 'selfawareness': 5407, 'skill': 5408, 'productive': 5409, 'slip': 5410, 'forgive': 5411, 'suspicion': 5412, 'incarceration': 5413, 'doomed': 5414, 'repeat': 5415, 'episode': 5416, 'kcrw': 5417, 'robert': 5418, 'forman': 5419, 'yale': 5420, 'exvanderbilt': 5421, 'carrying': 5422, 'dorm': 5423, 'layoffs': 5424, 'carrier': 5425, 'crosssubsidies': 5426, 'heats': 5427, 'deformed': 5428, 'accounting': 5429, 'core': 5430, 'ny': 5431, 'statebased': 5432, 'telecommunications': 5433, 'utility': 5434, 'glimmer': 5435, 'introduced': 5436, 'electoral': 5437, 'base': 5438, 'applauded': 5439, 'reaching': 5440, 'deleted': 5441, 'obvious': 5442, 'choices': 5443, 'closest': 5444, 'advisers': 5445, 'revolt': 5446, 'untenable': 5447, 'uturn': 5448, 'decides': 5449, 'tipping': 5450, 'olympics': 5451, 'reshape': 5452, 'tokyo': 5453, 'toyko': 5454, 'syrian': 5455, 'meant': 5456, 'existed': 5457, 'solely': 5458, 'heading': 5459, 'leprosyfree': 5460, 'curing': 5461, 'forgetting': 5462, 'keys': 5463, 'wallet': 5464, 'metro': 5465, 'lipstick': 5466, 'pen': 5467, 'sunglasses': 5468, 'daniel': 5469, 'disappearing': 5470, 'imagination': 5471, 'vanishing': 5472, 'interfaces': 5473, 'impacts': 5474, 'underreported': 5475, 'dyan': 5476, 'mazurana': 5477, 'tufts': 5478, 'humanitarian': 5479, 'conflicts': 5480, 'danes': 5481, 'hampshire': 5482, 'squalor': 5483, 'humane': 5484, 'tommy': 5485, 'injection': 5486, 'holman': 5487, 'vs': 5488, 'trader': 5489, 'crumbled': 5490, 'resignation': 5491, 'departure': 5492, 'treat': 5493, 'neglected': 5494, 'gaëll': 5495, 'mainguy': 5496, 'centre': 5497, 'de': 5498, 'recherches': 5499, 'interdisciplinaires': 5500, 'cri': 5501, 'subjugation': 5502, 'freedom': 5503, 'maintain': 5504, 'underrated': 5505, 'weakening': 5506, 'collect': 5507, 'worrisome': 5508, 'possibility': 5509, 'looms': 5510, 'recipe': 5511, 'reduction': 5512, 'scathing': 5513, 'documenting': 5514, 'commissioned': 5515, 'blog': 5516, 'alleging': 5517, 'boating': 5518, 'accident': 5519, 'fathers': 5520, 'violating': 5521, 'violations': 5522, 'disclosure': 5523, 'inclusion': 5524, 'relative': 5525, 'owned': 5526, 'shark': 5527, 'bait': 5528, 'entity': 5529, 'rakes': 5530, 'arts': 5531, 'galvanize': 5532, 'timor': 5533, 'leste': 5534, 'vocalist': 5535, 'mely': 5536, 'fernandez': 5537, 'dili': 5538, 'beginning': 5539, 'timorese': 5540, 'accept': 5541, 'holder': 5542, 'imposing': 5543, 'controls': 5544, 'wide': 5545, 'discretion': 5546, 'caffeine': 5547, 'tip': 5548, 'straightforward': 5549, 'method': 5550, 'thus': 5551, 'trucker': 5552, 'scarily': 5553, 'obeyed': 5554, 'outcome': 5555, 'takeaways': 5556, 'toddlers': 5557, 'teenage': 5558, 'antimuslim': 5559, 'bernardino': 5560, 'hallowed': 5561, 'introduction': 5562, 'thank': 5563, 'subway': 5564, 'totally': 5565, 'chill': 5566, 'thyself': 5567, 'kicking': 5568, 'unnerving': 5569, 'coach': 5570, 'clients': 5571, 'compulsive': 5572, 'addictive': 5573, 'pure': 5574, 'bliss': 5575, 'ruben': 5576, 'cantu': 5577, 'argue': 5578, 'reflections': 5579, 'creative': 5580, 'distinguished': 5581, 'scientist': 5582, 'colombia': 5583, 'uprisings': 5584, 'fabio': 5585, 'diaz': 5586, 'studies': 5587, 'ongoing': 5588, 'antigovernment': 5589, 'brazil': 5590, 'paul': 5591, 'roughly': 5592, 'heatstroke': 5593, 'unattended': 5594, 'guest': 5595, 'maría': 5596, 'del': 5597, 'pilar': 5598, 'desangles': 5599, 'condoning': 5600, 'defunding': 5601, 'catastrophic': 5602, 'congresswoman': 5603, 'anna': 5604, 'eshoo': 5605, 'hall': 5606, 'fires': 5607, 'firings': 5608, 'refunds': 5609, 'fares': 5610, 'uproar': 5611, 'soared': 5612, 'scrambled': 5613, 'flee': 5614, 'margaret': 5615, 'atwood': 5616, 'fixes': 5617, 'threepoint': 5618, 'hurting': 5619, 'capable': 5620, 'verbal': 5621, 'tics': 5622, 'offputting': 5623, 'jeopardize': 5624, 'chances': 5625, 'nerve': 5626, 'trick': 5627, 'plymouth': 5628, 'lannette': 5629, 'c': 5630, 'linthicum': 5631, 'committee': 5632, 'n': 5633, 'innovate': 5634, 'denmark': 5635, 'fairytale': 5636, 'scandinavia': 5637, 'suddenly': 5638, 'withdraws': 5639, 'teenagers': 5640, 'headon': 5641, 'generation': 5642, 'inherits': 5643, 'relies': 5644, 'ball': 5645, 'vividly': 5646, 'sisters': 5647, 'selfdefense': 5648, 'scratches': 5649, 'arms': 5650, 'jailhouse': 5651, 'snitch': 5652, 'clam': 5653, 'orange': 5654, 'mired': 5655, 'legislation': 5656, 'manage': 5657, 'direct': 5658, 'patrols': 5659, 'roaming': 5660, 'bevin': 5661, 'ring': 5662, 'backpack': 5663, 'boring': 5664, 'collectively': 5665, 'chosen': 5666, 'rather': 5667, 'interesting': 5668, 'humanism': 5669, 'npr': 5670, 'simon': 5671, 'evolutionary': 5672, 'biologist': 5673, 'atheist': 5674, 'dawkins': 5675, 'religion': 5676, 'nationally': 5677, 'alameda': 5678, 'straddles': 5679, 'francisco': 5680, 'stretches': 5681, 'oakland': 5682, 'mylan': 5683, 'overcharged': 5684, 'epipen': 5685, 'october': 5686, 'friendship': 5687, 'career': 5688, 'shouting': 5689, 'cue': 5690, 'backtoschool': 5691, 'score': 5692, 'coupons': 5693, 'sidebyside': 5694, 'quantify': 5695, 'mayor': 5696, 'ted': 5697, 'wheeler': 5698, 'toy': 5699, 'pregnancy': 5700, 'birth': 5701, 'transparent': 5702, 'risks': 5703, 'meanwhile': 5704, 'pact': 5705, 'cultural': 5706, 'fit': 5707, 'sterling': 5708, 'resumé': 5709, 'standard': 5710, 'jacquelyn': 5711, 'daisy': 5712, 'lynn': 5713, 'landry': 5714, 'poodle': 5715, 'suitcase': 5716, 'walker': 5717, 'donut': 5718, 'brokers': 5719, 'insensitive': 5720, 'husbands': 5721, 'wives': 5722, 'commemorate': 5723, 'mechanism': 5724, 'constitution': 5725, 'wars': 5726, 'entrepreneurs': 5727, 'gather': 5728, 'autonomous': 5729, 'fall': 5730, 'misfortune': 5731, 'proximate': 5732, 'fleets': 5733, 'roses': 5734, 'reflect': 5735, 'kick': 5736, 'defending': 5737, 'destinee': 5738, 'mangum': 5739, 'feeding': 5740, 'pouches': 5741, 'nightmare': 5742, 'brand': 5743, 'percentage': 5744, 'randell': 5745, 'visions': 5746, 'mississippi': 5747, 'samaritans': 5748, 'christ': 5749, 'blocks': 5750, 'sickened': 5751, 'ranted': 5752, 'stabbings': 5753, 'muslims': 5754, 'jeremy': 5755, 'christian': 5756, 'warmer': 5757, 'mosquitos': 5758, 'ticks': 5759, 'reenter': 5760, 'larger': 5761, 'cousin': 5762, 'britain': 5763, 'bookmaking': 5764, 'challenges': 5765, 'spectre': 5766, 'brexit': 5767, 'industries': 5768, 'continuing': 5769, 'gladly': 5770, 'rap': 5771, 'entrepreneurial': 5772, 'magnet': 5773, 'counselors': 5774, 'overdoses': 5775, 'consuming': 5776, 'population': 5777, 'strategic': 5778, 'miriam': 5779, 'grobman': 5780, 'advancing': 5781, 'individuals': 5782, 'programs': 5783, 'repay': 5784, 'snafu': 5785, 'miscalculated': 5786, 'maced': 5787, 'stale': 5788, 'beef': 5789, 'drain': 5790, 'reducing': 5791, 'numerous': 5792, 'constitute': 5793, 'exists': 5794, 'throughout': 5795, 'gratisographypexels': 5796, 'léa': 5797, 'barreau': 5798, 'behaviors': 5799, 'highlight': 5800}\n"
          ],
          "name": "stdout"
        }
      ]
    },
    {
      "cell_type": "code",
      "metadata": {
        "id": "Yb6YBzZ9uoHp",
        "colab_type": "code",
        "colab": {}
      },
      "source": [
        "# # write word index dictionary using json\n",
        "# fwrite = open(\"data/word_index.json\",'w')\n",
        "# json.dump(word_index,fwrite)\n",
        "# # read word index dictionary using json\n",
        "# fread = open(\"data/word_index.json\", 'r')\n",
        "# word_index = json.load(fread.decode('utf8'))"
      ],
      "execution_count": 0,
      "outputs": []
    },
    {
      "cell_type": "markdown",
      "metadata": {
        "id": "ZoRBNCc1uoHx",
        "colab_type": "text"
      },
      "source": [
        "# Get FX data"
      ]
    },
    {
      "cell_type": "code",
      "metadata": {
        "id": "D3CDIjJZuoHx",
        "colab_type": "code",
        "colab": {}
      },
      "source": [
        "# data was downloaded from https://forextester.com/data/datasources"
      ],
      "execution_count": 0,
      "outputs": []
    },
    {
      "cell_type": "code",
      "metadata": {
        "id": "V1qcNaP_uoH0",
        "colab_type": "code",
        "colab": {
          "base_uri": "https://localhost:8080/",
          "height": 195
        },
        "outputId": "67d087bc-da59-412e-9afc-b0e4105e9dc7"
      },
      "source": [
        "# df_fx = pd.read_csv('EURUSD/EURUSD.txt', dtype={'<TIME>': object})\n",
        "df_fx = pd.read_csv('data/USDJPY.txt', dtype={'<TIME>': object})\n",
        "df_fx = df_fx.sort_values([\"<DTYYYYMMDD>\", \"<TIME>\"])\n",
        "df_fx.head()"
      ],
      "execution_count": 421,
      "outputs": [
        {
          "output_type": "execute_result",
          "data": {
            "text/html": [
              "<div>\n",
              "<style scoped>\n",
              "    .dataframe tbody tr th:only-of-type {\n",
              "        vertical-align: middle;\n",
              "    }\n",
              "\n",
              "    .dataframe tbody tr th {\n",
              "        vertical-align: top;\n",
              "    }\n",
              "\n",
              "    .dataframe thead th {\n",
              "        text-align: right;\n",
              "    }\n",
              "</style>\n",
              "<table border=\"1\" class=\"dataframe\">\n",
              "  <thead>\n",
              "    <tr style=\"text-align: right;\">\n",
              "      <th></th>\n",
              "      <th>&lt;TICKER&gt;</th>\n",
              "      <th>&lt;DTYYYYMMDD&gt;</th>\n",
              "      <th>&lt;TIME&gt;</th>\n",
              "      <th>&lt;OPEN&gt;</th>\n",
              "      <th>&lt;HIGH&gt;</th>\n",
              "      <th>&lt;LOW&gt;</th>\n",
              "      <th>&lt;CLOSE&gt;</th>\n",
              "      <th>&lt;VOL&gt;</th>\n",
              "    </tr>\n",
              "  </thead>\n",
              "  <tbody>\n",
              "    <tr>\n",
              "      <th>0</th>\n",
              "      <td>USDJPY</td>\n",
              "      <td>20010102</td>\n",
              "      <td>230300</td>\n",
              "      <td>114.43</td>\n",
              "      <td>114.43</td>\n",
              "      <td>114.43</td>\n",
              "      <td>114.43</td>\n",
              "      <td>4</td>\n",
              "    </tr>\n",
              "    <tr>\n",
              "      <th>1</th>\n",
              "      <td>USDJPY</td>\n",
              "      <td>20010102</td>\n",
              "      <td>230400</td>\n",
              "      <td>114.44</td>\n",
              "      <td>114.44</td>\n",
              "      <td>114.44</td>\n",
              "      <td>114.44</td>\n",
              "      <td>4</td>\n",
              "    </tr>\n",
              "    <tr>\n",
              "      <th>2</th>\n",
              "      <td>USDJPY</td>\n",
              "      <td>20010102</td>\n",
              "      <td>230500</td>\n",
              "      <td>114.44</td>\n",
              "      <td>114.44</td>\n",
              "      <td>114.44</td>\n",
              "      <td>114.44</td>\n",
              "      <td>4</td>\n",
              "    </tr>\n",
              "    <tr>\n",
              "      <th>3</th>\n",
              "      <td>USDJPY</td>\n",
              "      <td>20010102</td>\n",
              "      <td>230700</td>\n",
              "      <td>114.44</td>\n",
              "      <td>114.44</td>\n",
              "      <td>114.44</td>\n",
              "      <td>114.44</td>\n",
              "      <td>4</td>\n",
              "    </tr>\n",
              "    <tr>\n",
              "      <th>4</th>\n",
              "      <td>USDJPY</td>\n",
              "      <td>20010102</td>\n",
              "      <td>230800</td>\n",
              "      <td>114.44</td>\n",
              "      <td>114.44</td>\n",
              "      <td>114.44</td>\n",
              "      <td>114.44</td>\n",
              "      <td>4</td>\n",
              "    </tr>\n",
              "  </tbody>\n",
              "</table>\n",
              "</div>"
            ],
            "text/plain": [
              "  <TICKER>  <DTYYYYMMDD>  <TIME>  <OPEN>  <HIGH>   <LOW>  <CLOSE>  <VOL>\n",
              "0  USDJPY   20010102      230300  114.43  114.43  114.43  114.43   4    \n",
              "1  USDJPY   20010102      230400  114.44  114.44  114.44  114.44   4    \n",
              "2  USDJPY   20010102      230500  114.44  114.44  114.44  114.44   4    \n",
              "3  USDJPY   20010102      230700  114.44  114.44  114.44  114.44   4    \n",
              "4  USDJPY   20010102      230800  114.44  114.44  114.44  114.44   4    "
            ]
          },
          "metadata": {
            "tags": []
          },
          "execution_count": 421
        }
      ]
    },
    {
      "cell_type": "code",
      "metadata": {
        "id": "1L6ahTkpuoH3",
        "colab_type": "code",
        "colab": {
          "base_uri": "https://localhost:8080/",
          "height": 215
        },
        "outputId": "66a482f5-52e9-4c06-fe88-a8059240a3fb"
      },
      "source": [
        "df_fx.tail()"
      ],
      "execution_count": 422,
      "outputs": [
        {
          "output_type": "execute_result",
          "data": {
            "text/html": [
              "<div>\n",
              "<style scoped>\n",
              "    .dataframe tbody tr th:only-of-type {\n",
              "        vertical-align: middle;\n",
              "    }\n",
              "\n",
              "    .dataframe tbody tr th {\n",
              "        vertical-align: top;\n",
              "    }\n",
              "\n",
              "    .dataframe thead th {\n",
              "        text-align: right;\n",
              "    }\n",
              "</style>\n",
              "<table border=\"1\" class=\"dataframe\">\n",
              "  <thead>\n",
              "    <tr style=\"text-align: right;\">\n",
              "      <th></th>\n",
              "      <th>&lt;TICKER&gt;</th>\n",
              "      <th>&lt;DTYYYYMMDD&gt;</th>\n",
              "      <th>&lt;TIME&gt;</th>\n",
              "      <th>&lt;OPEN&gt;</th>\n",
              "      <th>&lt;HIGH&gt;</th>\n",
              "      <th>&lt;LOW&gt;</th>\n",
              "      <th>&lt;CLOSE&gt;</th>\n",
              "      <th>&lt;VOL&gt;</th>\n",
              "    </tr>\n",
              "  </thead>\n",
              "  <tbody>\n",
              "    <tr>\n",
              "      <th>6562017</th>\n",
              "      <td>USDJPY</td>\n",
              "      <td>20190731</td>\n",
              "      <td>235500</td>\n",
              "      <td>109.23</td>\n",
              "      <td>109.23</td>\n",
              "      <td>109.23</td>\n",
              "      <td>109.23</td>\n",
              "      <td>4</td>\n",
              "    </tr>\n",
              "    <tr>\n",
              "      <th>6562018</th>\n",
              "      <td>USDJPY</td>\n",
              "      <td>20190731</td>\n",
              "      <td>235600</td>\n",
              "      <td>109.25</td>\n",
              "      <td>109.25</td>\n",
              "      <td>109.25</td>\n",
              "      <td>109.25</td>\n",
              "      <td>4</td>\n",
              "    </tr>\n",
              "    <tr>\n",
              "      <th>6562019</th>\n",
              "      <td>USDJPY</td>\n",
              "      <td>20190731</td>\n",
              "      <td>235700</td>\n",
              "      <td>109.24</td>\n",
              "      <td>109.24</td>\n",
              "      <td>109.24</td>\n",
              "      <td>109.24</td>\n",
              "      <td>4</td>\n",
              "    </tr>\n",
              "    <tr>\n",
              "      <th>6562020</th>\n",
              "      <td>USDJPY</td>\n",
              "      <td>20190731</td>\n",
              "      <td>235800</td>\n",
              "      <td>109.22</td>\n",
              "      <td>109.22</td>\n",
              "      <td>109.22</td>\n",
              "      <td>109.22</td>\n",
              "      <td>4</td>\n",
              "    </tr>\n",
              "    <tr>\n",
              "      <th>6562021</th>\n",
              "      <td>USDJPY</td>\n",
              "      <td>20190731</td>\n",
              "      <td>235900</td>\n",
              "      <td>109.24</td>\n",
              "      <td>109.24</td>\n",
              "      <td>109.24</td>\n",
              "      <td>109.24</td>\n",
              "      <td>4</td>\n",
              "    </tr>\n",
              "  </tbody>\n",
              "</table>\n",
              "</div>"
            ],
            "text/plain": [
              "        <TICKER>  <DTYYYYMMDD>  <TIME>  <OPEN>  <HIGH>   <LOW>  <CLOSE>  <VOL>\n",
              "6562017  USDJPY   20190731      235500  109.23  109.23  109.23  109.23   4    \n",
              "6562018  USDJPY   20190731      235600  109.25  109.25  109.25  109.25   4    \n",
              "6562019  USDJPY   20190731      235700  109.24  109.24  109.24  109.24   4    \n",
              "6562020  USDJPY   20190731      235800  109.22  109.22  109.22  109.22   4    \n",
              "6562021  USDJPY   20190731      235900  109.24  109.24  109.24  109.24   4    "
            ]
          },
          "metadata": {
            "tags": []
          },
          "execution_count": 422
        }
      ]
    },
    {
      "cell_type": "code",
      "metadata": {
        "id": "6bjZZceAuoH5",
        "colab_type": "code",
        "colab": {
          "base_uri": "https://localhost:8080/",
          "height": 195
        },
        "outputId": "4c829159-9c64-44a1-8e89-47a97186196b"
      },
      "source": [
        "df_fx.drop([\"<TICKER>\", \"<HIGH>\", \"<LOW>\", \"<VOL>\"], axis=1, inplace=True)\n",
        "df_fx.rename(columns={\"<DTYYYYMMDD>\": \"date\", \"<TIME>\": \"time\", \"<OPEN>\": \"Open\", \"<CLOSE>\": \"Close\"}, inplace=True)\n",
        "df_fx.head()"
      ],
      "execution_count": 423,
      "outputs": [
        {
          "output_type": "execute_result",
          "data": {
            "text/html": [
              "<div>\n",
              "<style scoped>\n",
              "    .dataframe tbody tr th:only-of-type {\n",
              "        vertical-align: middle;\n",
              "    }\n",
              "\n",
              "    .dataframe tbody tr th {\n",
              "        vertical-align: top;\n",
              "    }\n",
              "\n",
              "    .dataframe thead th {\n",
              "        text-align: right;\n",
              "    }\n",
              "</style>\n",
              "<table border=\"1\" class=\"dataframe\">\n",
              "  <thead>\n",
              "    <tr style=\"text-align: right;\">\n",
              "      <th></th>\n",
              "      <th>date</th>\n",
              "      <th>time</th>\n",
              "      <th>Open</th>\n",
              "      <th>Close</th>\n",
              "    </tr>\n",
              "  </thead>\n",
              "  <tbody>\n",
              "    <tr>\n",
              "      <th>0</th>\n",
              "      <td>20010102</td>\n",
              "      <td>230300</td>\n",
              "      <td>114.43</td>\n",
              "      <td>114.43</td>\n",
              "    </tr>\n",
              "    <tr>\n",
              "      <th>1</th>\n",
              "      <td>20010102</td>\n",
              "      <td>230400</td>\n",
              "      <td>114.44</td>\n",
              "      <td>114.44</td>\n",
              "    </tr>\n",
              "    <tr>\n",
              "      <th>2</th>\n",
              "      <td>20010102</td>\n",
              "      <td>230500</td>\n",
              "      <td>114.44</td>\n",
              "      <td>114.44</td>\n",
              "    </tr>\n",
              "    <tr>\n",
              "      <th>3</th>\n",
              "      <td>20010102</td>\n",
              "      <td>230700</td>\n",
              "      <td>114.44</td>\n",
              "      <td>114.44</td>\n",
              "    </tr>\n",
              "    <tr>\n",
              "      <th>4</th>\n",
              "      <td>20010102</td>\n",
              "      <td>230800</td>\n",
              "      <td>114.44</td>\n",
              "      <td>114.44</td>\n",
              "    </tr>\n",
              "  </tbody>\n",
              "</table>\n",
              "</div>"
            ],
            "text/plain": [
              "       date    time    Open   Close\n",
              "0  20010102  230300  114.43  114.43\n",
              "1  20010102  230400  114.44  114.44\n",
              "2  20010102  230500  114.44  114.44\n",
              "3  20010102  230700  114.44  114.44\n",
              "4  20010102  230800  114.44  114.44"
            ]
          },
          "metadata": {
            "tags": []
          },
          "execution_count": 423
        }
      ]
    },
    {
      "cell_type": "code",
      "metadata": {
        "id": "sId_DOoBuoH9",
        "colab_type": "code",
        "colab": {
          "base_uri": "https://localhost:8080/",
          "height": 195
        },
        "outputId": "505490de-71da-4ee7-a6eb-7dddf9412fec"
      },
      "source": [
        "df_fx['datetime'] = df_fx['date'].astype(str) +' '+ df_fx['time'].astype(str)\n",
        "df_fx.head()"
      ],
      "execution_count": 424,
      "outputs": [
        {
          "output_type": "execute_result",
          "data": {
            "text/html": [
              "<div>\n",
              "<style scoped>\n",
              "    .dataframe tbody tr th:only-of-type {\n",
              "        vertical-align: middle;\n",
              "    }\n",
              "\n",
              "    .dataframe tbody tr th {\n",
              "        vertical-align: top;\n",
              "    }\n",
              "\n",
              "    .dataframe thead th {\n",
              "        text-align: right;\n",
              "    }\n",
              "</style>\n",
              "<table border=\"1\" class=\"dataframe\">\n",
              "  <thead>\n",
              "    <tr style=\"text-align: right;\">\n",
              "      <th></th>\n",
              "      <th>date</th>\n",
              "      <th>time</th>\n",
              "      <th>Open</th>\n",
              "      <th>Close</th>\n",
              "      <th>datetime</th>\n",
              "    </tr>\n",
              "  </thead>\n",
              "  <tbody>\n",
              "    <tr>\n",
              "      <th>0</th>\n",
              "      <td>20010102</td>\n",
              "      <td>230300</td>\n",
              "      <td>114.43</td>\n",
              "      <td>114.43</td>\n",
              "      <td>20010102 230300</td>\n",
              "    </tr>\n",
              "    <tr>\n",
              "      <th>1</th>\n",
              "      <td>20010102</td>\n",
              "      <td>230400</td>\n",
              "      <td>114.44</td>\n",
              "      <td>114.44</td>\n",
              "      <td>20010102 230400</td>\n",
              "    </tr>\n",
              "    <tr>\n",
              "      <th>2</th>\n",
              "      <td>20010102</td>\n",
              "      <td>230500</td>\n",
              "      <td>114.44</td>\n",
              "      <td>114.44</td>\n",
              "      <td>20010102 230500</td>\n",
              "    </tr>\n",
              "    <tr>\n",
              "      <th>3</th>\n",
              "      <td>20010102</td>\n",
              "      <td>230700</td>\n",
              "      <td>114.44</td>\n",
              "      <td>114.44</td>\n",
              "      <td>20010102 230700</td>\n",
              "    </tr>\n",
              "    <tr>\n",
              "      <th>4</th>\n",
              "      <td>20010102</td>\n",
              "      <td>230800</td>\n",
              "      <td>114.44</td>\n",
              "      <td>114.44</td>\n",
              "      <td>20010102 230800</td>\n",
              "    </tr>\n",
              "  </tbody>\n",
              "</table>\n",
              "</div>"
            ],
            "text/plain": [
              "       date    time    Open   Close         datetime\n",
              "0  20010102  230300  114.43  114.43  20010102 230300\n",
              "1  20010102  230400  114.44  114.44  20010102 230400\n",
              "2  20010102  230500  114.44  114.44  20010102 230500\n",
              "3  20010102  230700  114.44  114.44  20010102 230700\n",
              "4  20010102  230800  114.44  114.44  20010102 230800"
            ]
          },
          "metadata": {
            "tags": []
          },
          "execution_count": 424
        }
      ]
    },
    {
      "cell_type": "code",
      "metadata": {
        "id": "FdeshchUuoIA",
        "colab_type": "code",
        "colab": {
          "base_uri": "https://localhost:8080/",
          "height": 228
        },
        "outputId": "319972d6-5380-4178-f789-5528d3335329"
      },
      "source": [
        "print (df_fx.dtypes)\n",
        "print (df_fx.count())"
      ],
      "execution_count": 425,
      "outputs": [
        {
          "output_type": "stream",
          "text": [
            "date        int64  \n",
            "time        object \n",
            "Open        float64\n",
            "Close       float64\n",
            "datetime    object \n",
            "dtype: object\n",
            "date        6562022\n",
            "time        6562022\n",
            "Open        6562022\n",
            "Close       6562022\n",
            "datetime    6562022\n",
            "dtype: int64\n"
          ],
          "name": "stdout"
        }
      ]
    },
    {
      "cell_type": "code",
      "metadata": {
        "id": "iu6vGXmnuoIC",
        "colab_type": "code",
        "colab": {
          "base_uri": "https://localhost:8080/",
          "height": 122
        },
        "outputId": "f829200b-725c-4241-a878-580f631ddc7e"
      },
      "source": [
        "df_fx = df_fx[df_fx[\"time\"]!=0]\n",
        "df_fx.count()"
      ],
      "execution_count": 426,
      "outputs": [
        {
          "output_type": "execute_result",
          "data": {
            "text/plain": [
              "date        6562022\n",
              "time        6562022\n",
              "Open        6562022\n",
              "Close       6562022\n",
              "datetime    6562022\n",
              "dtype: int64"
            ]
          },
          "metadata": {
            "tags": []
          },
          "execution_count": 426
        }
      ]
    },
    {
      "cell_type": "code",
      "metadata": {
        "id": "v8DCjW-uuoIE",
        "colab_type": "code",
        "colab": {
          "base_uri": "https://localhost:8080/",
          "height": 195
        },
        "outputId": "c586a0aa-714d-4bbd-c786-2c139a57a230"
      },
      "source": [
        "df_fx[\"datetime\"] = pd.to_datetime(df_fx['datetime'].astype(str), format='%Y%m%d %H%M%f')\n",
        "df_fx = df_fx.sort_values(\"datetime\")\n",
        "df_fx.head()"
      ],
      "execution_count": 427,
      "outputs": [
        {
          "output_type": "execute_result",
          "data": {
            "text/html": [
              "<div>\n",
              "<style scoped>\n",
              "    .dataframe tbody tr th:only-of-type {\n",
              "        vertical-align: middle;\n",
              "    }\n",
              "\n",
              "    .dataframe tbody tr th {\n",
              "        vertical-align: top;\n",
              "    }\n",
              "\n",
              "    .dataframe thead th {\n",
              "        text-align: right;\n",
              "    }\n",
              "</style>\n",
              "<table border=\"1\" class=\"dataframe\">\n",
              "  <thead>\n",
              "    <tr style=\"text-align: right;\">\n",
              "      <th></th>\n",
              "      <th>date</th>\n",
              "      <th>time</th>\n",
              "      <th>Open</th>\n",
              "      <th>Close</th>\n",
              "      <th>datetime</th>\n",
              "    </tr>\n",
              "  </thead>\n",
              "  <tbody>\n",
              "    <tr>\n",
              "      <th>0</th>\n",
              "      <td>20010102</td>\n",
              "      <td>230300</td>\n",
              "      <td>114.43</td>\n",
              "      <td>114.43</td>\n",
              "      <td>2001-01-02 23:03:00</td>\n",
              "    </tr>\n",
              "    <tr>\n",
              "      <th>1</th>\n",
              "      <td>20010102</td>\n",
              "      <td>230400</td>\n",
              "      <td>114.44</td>\n",
              "      <td>114.44</td>\n",
              "      <td>2001-01-02 23:04:00</td>\n",
              "    </tr>\n",
              "    <tr>\n",
              "      <th>2</th>\n",
              "      <td>20010102</td>\n",
              "      <td>230500</td>\n",
              "      <td>114.44</td>\n",
              "      <td>114.44</td>\n",
              "      <td>2001-01-02 23:05:00</td>\n",
              "    </tr>\n",
              "    <tr>\n",
              "      <th>3</th>\n",
              "      <td>20010102</td>\n",
              "      <td>230700</td>\n",
              "      <td>114.44</td>\n",
              "      <td>114.44</td>\n",
              "      <td>2001-01-02 23:07:00</td>\n",
              "    </tr>\n",
              "    <tr>\n",
              "      <th>4</th>\n",
              "      <td>20010102</td>\n",
              "      <td>230800</td>\n",
              "      <td>114.44</td>\n",
              "      <td>114.44</td>\n",
              "      <td>2001-01-02 23:08:00</td>\n",
              "    </tr>\n",
              "  </tbody>\n",
              "</table>\n",
              "</div>"
            ],
            "text/plain": [
              "       date    time    Open   Close            datetime\n",
              "0  20010102  230300  114.43  114.43 2001-01-02 23:03:00\n",
              "1  20010102  230400  114.44  114.44 2001-01-02 23:04:00\n",
              "2  20010102  230500  114.44  114.44 2001-01-02 23:05:00\n",
              "3  20010102  230700  114.44  114.44 2001-01-02 23:07:00\n",
              "4  20010102  230800  114.44  114.44 2001-01-02 23:08:00"
            ]
          },
          "metadata": {
            "tags": []
          },
          "execution_count": 427
        }
      ]
    },
    {
      "cell_type": "code",
      "metadata": {
        "id": "2Z-xfcXPuoIG",
        "colab_type": "code",
        "colab": {
          "base_uri": "https://localhost:8080/",
          "height": 195
        },
        "outputId": "6921284e-0295-43d6-ddf0-cac809c11b05"
      },
      "source": [
        "df_fx = df_fx[df_fx[\"time\"]==\"100000\"]\n",
        "df_fx.head()"
      ],
      "execution_count": 428,
      "outputs": [
        {
          "output_type": "execute_result",
          "data": {
            "text/html": [
              "<div>\n",
              "<style scoped>\n",
              "    .dataframe tbody tr th:only-of-type {\n",
              "        vertical-align: middle;\n",
              "    }\n",
              "\n",
              "    .dataframe tbody tr th {\n",
              "        vertical-align: top;\n",
              "    }\n",
              "\n",
              "    .dataframe thead th {\n",
              "        text-align: right;\n",
              "    }\n",
              "</style>\n",
              "<table border=\"1\" class=\"dataframe\">\n",
              "  <thead>\n",
              "    <tr style=\"text-align: right;\">\n",
              "      <th></th>\n",
              "      <th>date</th>\n",
              "      <th>time</th>\n",
              "      <th>Open</th>\n",
              "      <th>Close</th>\n",
              "      <th>datetime</th>\n",
              "    </tr>\n",
              "  </thead>\n",
              "  <tbody>\n",
              "    <tr>\n",
              "      <th>613</th>\n",
              "      <td>20010103</td>\n",
              "      <td>100000</td>\n",
              "      <td>114.60</td>\n",
              "      <td>114.61</td>\n",
              "      <td>2001-01-03 10:00:00</td>\n",
              "    </tr>\n",
              "    <tr>\n",
              "      <th>2006</th>\n",
              "      <td>20010104</td>\n",
              "      <td>100000</td>\n",
              "      <td>114.32</td>\n",
              "      <td>114.26</td>\n",
              "      <td>2001-01-04 10:00:00</td>\n",
              "    </tr>\n",
              "    <tr>\n",
              "      <th>3405</th>\n",
              "      <td>20010105</td>\n",
              "      <td>100000</td>\n",
              "      <td>116.40</td>\n",
              "      <td>116.42</td>\n",
              "      <td>2001-01-05 10:00:00</td>\n",
              "    </tr>\n",
              "    <tr>\n",
              "      <th>4653</th>\n",
              "      <td>20010108</td>\n",
              "      <td>100000</td>\n",
              "      <td>116.31</td>\n",
              "      <td>116.32</td>\n",
              "      <td>2001-01-08 10:00:00</td>\n",
              "    </tr>\n",
              "    <tr>\n",
              "      <th>6059</th>\n",
              "      <td>20010109</td>\n",
              "      <td>100000</td>\n",
              "      <td>115.81</td>\n",
              "      <td>115.81</td>\n",
              "      <td>2001-01-09 10:00:00</td>\n",
              "    </tr>\n",
              "  </tbody>\n",
              "</table>\n",
              "</div>"
            ],
            "text/plain": [
              "          date    time    Open   Close            datetime\n",
              "613   20010103  100000  114.60  114.61 2001-01-03 10:00:00\n",
              "2006  20010104  100000  114.32  114.26 2001-01-04 10:00:00\n",
              "3405  20010105  100000  116.40  116.42 2001-01-05 10:00:00\n",
              "4653  20010108  100000  116.31  116.32 2001-01-08 10:00:00\n",
              "6059  20010109  100000  115.81  115.81 2001-01-09 10:00:00"
            ]
          },
          "metadata": {
            "tags": []
          },
          "execution_count": 428
        }
      ]
    },
    {
      "cell_type": "code",
      "metadata": {
        "id": "z4Nr-ioYuoIJ",
        "colab_type": "code",
        "colab": {
          "base_uri": "https://localhost:8080/",
          "height": 279
        },
        "outputId": "868e7a1b-9c42-48a4-d298-4576addf4a04"
      },
      "source": [
        "df_fx[\"next_open\"] = df_fx[\"Open\"].shift(-1)\n",
        "df_fx[\"diff_price\"] = df_fx[\"next_open\"] - df_fx[\"Open\"]\n",
        "df_fx.dropna(inplace=True)\n",
        "df_fx.head()"
      ],
      "execution_count": 429,
      "outputs": [
        {
          "output_type": "execute_result",
          "data": {
            "text/html": [
              "<div>\n",
              "<style scoped>\n",
              "    .dataframe tbody tr th:only-of-type {\n",
              "        vertical-align: middle;\n",
              "    }\n",
              "\n",
              "    .dataframe tbody tr th {\n",
              "        vertical-align: top;\n",
              "    }\n",
              "\n",
              "    .dataframe thead th {\n",
              "        text-align: right;\n",
              "    }\n",
              "</style>\n",
              "<table border=\"1\" class=\"dataframe\">\n",
              "  <thead>\n",
              "    <tr style=\"text-align: right;\">\n",
              "      <th></th>\n",
              "      <th>date</th>\n",
              "      <th>time</th>\n",
              "      <th>Open</th>\n",
              "      <th>Close</th>\n",
              "      <th>datetime</th>\n",
              "      <th>next_open</th>\n",
              "      <th>diff_price</th>\n",
              "    </tr>\n",
              "  </thead>\n",
              "  <tbody>\n",
              "    <tr>\n",
              "      <th>613</th>\n",
              "      <td>20010103</td>\n",
              "      <td>100000</td>\n",
              "      <td>114.60</td>\n",
              "      <td>114.61</td>\n",
              "      <td>2001-01-03 10:00:00</td>\n",
              "      <td>114.32</td>\n",
              "      <td>-0.28</td>\n",
              "    </tr>\n",
              "    <tr>\n",
              "      <th>2006</th>\n",
              "      <td>20010104</td>\n",
              "      <td>100000</td>\n",
              "      <td>114.32</td>\n",
              "      <td>114.26</td>\n",
              "      <td>2001-01-04 10:00:00</td>\n",
              "      <td>116.40</td>\n",
              "      <td>2.08</td>\n",
              "    </tr>\n",
              "    <tr>\n",
              "      <th>3405</th>\n",
              "      <td>20010105</td>\n",
              "      <td>100000</td>\n",
              "      <td>116.40</td>\n",
              "      <td>116.42</td>\n",
              "      <td>2001-01-05 10:00:00</td>\n",
              "      <td>116.31</td>\n",
              "      <td>-0.09</td>\n",
              "    </tr>\n",
              "    <tr>\n",
              "      <th>4653</th>\n",
              "      <td>20010108</td>\n",
              "      <td>100000</td>\n",
              "      <td>116.31</td>\n",
              "      <td>116.32</td>\n",
              "      <td>2001-01-08 10:00:00</td>\n",
              "      <td>115.81</td>\n",
              "      <td>-0.50</td>\n",
              "    </tr>\n",
              "    <tr>\n",
              "      <th>6059</th>\n",
              "      <td>20010109</td>\n",
              "      <td>100000</td>\n",
              "      <td>115.81</td>\n",
              "      <td>115.81</td>\n",
              "      <td>2001-01-09 10:00:00</td>\n",
              "      <td>116.35</td>\n",
              "      <td>0.54</td>\n",
              "    </tr>\n",
              "  </tbody>\n",
              "</table>\n",
              "</div>"
            ],
            "text/plain": [
              "          date    time    Open  ...            datetime next_open  diff_price\n",
              "613   20010103  100000  114.60  ... 2001-01-03 10:00:00  114.32   -0.28      \n",
              "2006  20010104  100000  114.32  ... 2001-01-04 10:00:00  116.40    2.08      \n",
              "3405  20010105  100000  116.40  ... 2001-01-05 10:00:00  116.31   -0.09      \n",
              "4653  20010108  100000  116.31  ... 2001-01-08 10:00:00  115.81   -0.50      \n",
              "6059  20010109  100000  115.81  ... 2001-01-09 10:00:00  116.35    0.54      \n",
              "\n",
              "[5 rows x 7 columns]"
            ]
          },
          "metadata": {
            "tags": []
          },
          "execution_count": 429
        }
      ]
    },
    {
      "cell_type": "code",
      "metadata": {
        "id": "a80Po501MSE4",
        "colab_type": "code",
        "colab": {}
      },
      "source": [
        ""
      ],
      "execution_count": 0,
      "outputs": []
    },
    {
      "cell_type": "code",
      "metadata": {
        "id": "lsqwdbRZuoIQ",
        "colab_type": "code",
        "colab": {
          "base_uri": "https://localhost:8080/",
          "height": 298
        },
        "outputId": "e41b04b5-f140-43c2-e12f-a01a5924718e"
      },
      "source": [
        "sns.distplot(df_fx[\"diff_price\"])"
      ],
      "execution_count": 430,
      "outputs": [
        {
          "output_type": "execute_result",
          "data": {
            "text/plain": [
              "<matplotlib.axes._subplots.AxesSubplot at 0x7f2407139860>"
            ]
          },
          "metadata": {
            "tags": []
          },
          "execution_count": 430
        },
        {
          "output_type": "display_data",
          "data": {
            "image/png": "[encoded data removed]",
            "text/plain": [
              "<Figure size 432x288 with 1 Axes>"
            ]
          },
          "metadata": {
            "tags": []
          }
        }
      ]
    },
    {
      "cell_type": "code",
      "metadata": {
        "id": "XE2w6s41uoIT",
        "colab_type": "code",
        "colab": {
          "base_uri": "https://localhost:8080/",
          "height": 195
        },
        "outputId": "058da4a0-dc41-4701-d2be-05895d7eeb23"
      },
      "source": [
        "df_fx.drop([\"datetime\", \"time\"], axis=1, inplace=True)\n",
        "df_fx = df_fx[[\"date\",\"diff_price\",\"Open\"]]\n",
        "df_fx.head()"
      ],
      "execution_count": 431,
      "outputs": [
        {
          "output_type": "execute_result",
          "data": {
            "text/html": [
              "<div>\n",
              "<style scoped>\n",
              "    .dataframe tbody tr th:only-of-type {\n",
              "        vertical-align: middle;\n",
              "    }\n",
              "\n",
              "    .dataframe tbody tr th {\n",
              "        vertical-align: top;\n",
              "    }\n",
              "\n",
              "    .dataframe thead th {\n",
              "        text-align: right;\n",
              "    }\n",
              "</style>\n",
              "<table border=\"1\" class=\"dataframe\">\n",
              "  <thead>\n",
              "    <tr style=\"text-align: right;\">\n",
              "      <th></th>\n",
              "      <th>date</th>\n",
              "      <th>diff_price</th>\n",
              "      <th>Open</th>\n",
              "    </tr>\n",
              "  </thead>\n",
              "  <tbody>\n",
              "    <tr>\n",
              "      <th>613</th>\n",
              "      <td>20010103</td>\n",
              "      <td>-0.28</td>\n",
              "      <td>114.60</td>\n",
              "    </tr>\n",
              "    <tr>\n",
              "      <th>2006</th>\n",
              "      <td>20010104</td>\n",
              "      <td>2.08</td>\n",
              "      <td>114.32</td>\n",
              "    </tr>\n",
              "    <tr>\n",
              "      <th>3405</th>\n",
              "      <td>20010105</td>\n",
              "      <td>-0.09</td>\n",
              "      <td>116.40</td>\n",
              "    </tr>\n",
              "    <tr>\n",
              "      <th>4653</th>\n",
              "      <td>20010108</td>\n",
              "      <td>-0.50</td>\n",
              "      <td>116.31</td>\n",
              "    </tr>\n",
              "    <tr>\n",
              "      <th>6059</th>\n",
              "      <td>20010109</td>\n",
              "      <td>0.54</td>\n",
              "      <td>115.81</td>\n",
              "    </tr>\n",
              "  </tbody>\n",
              "</table>\n",
              "</div>"
            ],
            "text/plain": [
              "          date  diff_price    Open\n",
              "613   20010103 -0.28        114.60\n",
              "2006  20010104  2.08        114.32\n",
              "3405  20010105 -0.09        116.40\n",
              "4653  20010108 -0.50        116.31\n",
              "6059  20010109  0.54        115.81"
            ]
          },
          "metadata": {
            "tags": []
          },
          "execution_count": 431
        }
      ]
    },
    {
      "cell_type": "code",
      "metadata": {
        "id": "KirjWLgfuoIW",
        "colab_type": "code",
        "colab": {
          "base_uri": "https://localhost:8080/",
          "height": 77
        },
        "outputId": "fcfb984a-e1b8-41ca-ab2c-c512c7a907ea"
      },
      "source": [
        "df_fx[\"date\"] = pd.to_datetime(df_fx['date'].astype(str), format='%Y-%m-%d')\n",
        "df_fx.head(1)"
      ],
      "execution_count": 432,
      "outputs": [
        {
          "output_type": "execute_result",
          "data": {
            "text/html": [
              "<div>\n",
              "<style scoped>\n",
              "    .dataframe tbody tr th:only-of-type {\n",
              "        vertical-align: middle;\n",
              "    }\n",
              "\n",
              "    .dataframe tbody tr th {\n",
              "        vertical-align: top;\n",
              "    }\n",
              "\n",
              "    .dataframe thead th {\n",
              "        text-align: right;\n",
              "    }\n",
              "</style>\n",
              "<table border=\"1\" class=\"dataframe\">\n",
              "  <thead>\n",
              "    <tr style=\"text-align: right;\">\n",
              "      <th></th>\n",
              "      <th>date</th>\n",
              "      <th>diff_price</th>\n",
              "      <th>Open</th>\n",
              "    </tr>\n",
              "  </thead>\n",
              "  <tbody>\n",
              "    <tr>\n",
              "      <th>613</th>\n",
              "      <td>2001-01-03</td>\n",
              "      <td>-0.28</td>\n",
              "      <td>114.6</td>\n",
              "    </tr>\n",
              "  </tbody>\n",
              "</table>\n",
              "</div>"
            ],
            "text/plain": [
              "          date  diff_price   Open\n",
              "613 2001-01-03 -0.28        114.6"
            ]
          },
          "metadata": {
            "tags": []
          },
          "execution_count": 432
        }
      ]
    },
    {
      "cell_type": "code",
      "metadata": {
        "id": "S0DeFN10uoIZ",
        "colab_type": "code",
        "colab": {
          "base_uri": "https://localhost:8080/",
          "height": 213
        },
        "outputId": "9aca92d5-8cc4-43de-95b1-9901e2b5096c"
      },
      "source": [
        "print (end_date, start_date)\n",
        "df_fx_selected = df_fx[(df_fx[\"date\"]<=end_date) & (df_fx[\"date\"]>=start_date)]\n",
        "df_fx_selected.tail()"
      ],
      "execution_count": 433,
      "outputs": [
        {
          "output_type": "stream",
          "text": [
            "2017-12-31 2016-01-01\n"
          ],
          "name": "stdout"
        },
        {
          "output_type": "execute_result",
          "data": {
            "text/html": [
              "<div>\n",
              "<style scoped>\n",
              "    .dataframe tbody tr th:only-of-type {\n",
              "        vertical-align: middle;\n",
              "    }\n",
              "\n",
              "    .dataframe tbody tr th {\n",
              "        vertical-align: top;\n",
              "    }\n",
              "\n",
              "    .dataframe thead th {\n",
              "        text-align: right;\n",
              "    }\n",
              "</style>\n",
              "<table border=\"1\" class=\"dataframe\">\n",
              "  <thead>\n",
              "    <tr style=\"text-align: right;\">\n",
              "      <th></th>\n",
              "      <th>date</th>\n",
              "      <th>diff_price</th>\n",
              "      <th>Open</th>\n",
              "    </tr>\n",
              "  </thead>\n",
              "  <tbody>\n",
              "    <tr>\n",
              "      <th>5974958</th>\n",
              "      <td>2017-12-22</td>\n",
              "      <td>-0.09</td>\n",
              "      <td>113.36</td>\n",
              "    </tr>\n",
              "    <tr>\n",
              "      <th>5976272</th>\n",
              "      <td>2017-12-26</td>\n",
              "      <td>-0.10</td>\n",
              "      <td>113.27</td>\n",
              "    </tr>\n",
              "    <tr>\n",
              "      <th>5977650</th>\n",
              "      <td>2017-12-27</td>\n",
              "      <td>-0.41</td>\n",
              "      <td>113.17</td>\n",
              "    </tr>\n",
              "    <tr>\n",
              "      <th>5979090</th>\n",
              "      <td>2017-12-28</td>\n",
              "      <td>-0.18</td>\n",
              "      <td>112.76</td>\n",
              "    </tr>\n",
              "    <tr>\n",
              "      <th>5980530</th>\n",
              "      <td>2017-12-29</td>\n",
              "      <td>-0.21</td>\n",
              "      <td>112.58</td>\n",
              "    </tr>\n",
              "  </tbody>\n",
              "</table>\n",
              "</div>"
            ],
            "text/plain": [
              "              date  diff_price    Open\n",
              "5974958 2017-12-22 -0.09        113.36\n",
              "5976272 2017-12-26 -0.10        113.27\n",
              "5977650 2017-12-27 -0.41        113.17\n",
              "5979090 2017-12-28 -0.18        112.76\n",
              "5980530 2017-12-29 -0.21        112.58"
            ]
          },
          "metadata": {
            "tags": []
          },
          "execution_count": 433
        }
      ]
    },
    {
      "cell_type": "code",
      "metadata": {
        "id": "BleyQqkvuoIc",
        "colab_type": "code",
        "colab": {
          "base_uri": "https://localhost:8080/",
          "height": 282
        },
        "outputId": "d5ad7599-37a0-4e8b-eff9-dc095c78eaa5"
      },
      "source": [
        "plt.plot(df_fx_selected[\"date\"], df_fx_selected[\"Open\"])"
      ],
      "execution_count": 434,
      "outputs": [
        {
          "output_type": "execute_result",
          "data": {
            "text/plain": [
              "[<matplotlib.lines.Line2D at 0x7f24073be7f0>]"
            ]
          },
          "metadata": {
            "tags": []
          },
          "execution_count": 434
        },
        {
          "output_type": "display_data",
          "data": {
            "image/png": "[encoded data removed]",
            "text/plain": [
              "<Figure size 432x288 with 1 Axes>"
            ]
          },
          "metadata": {
            "tags": []
          }
        }
      ]
    },
    {
      "cell_type": "code",
      "metadata": {
        "id": "8PdLCHI5uoIf",
        "colab_type": "code",
        "colab": {
          "base_uri": "https://localhost:8080/",
          "height": 369
        },
        "outputId": "da08c861-82d5-48d1-e0e9-d7e81daef599"
      },
      "source": [
        "plt.figure(figsize=(10,5))\n",
        "plt.scatter(df_fx_selected[\"date\"],df_fx_selected[\"Open\"])\n",
        "plt.plot(df_fx_selected[\"date\"],df_fx_selected[\"Open\"])\n",
        "plt.xticks(rotation='vertical')\n",
        "plt.xlabel('Date', fontsize=14)\n",
        "plt.ylabel('USD_JPY', fontsize=14)\n",
        "plt.savefig('output/usdjpy_overall.png')"
      ],
      "execution_count": 435,
      "outputs": [
        {
          "output_type": "display_data",
          "data": {
            "image/png": "[encoded data removed]",
            "text/plain": [
              "<Figure size 720x360 with 1 Axes>"
            ]
          },
          "metadata": {
            "tags": []
          }
        }
      ]
    },
    {
      "cell_type": "code",
      "metadata": {
        "id": "86_mSW_WuoIg",
        "colab_type": "code",
        "colab": {
          "base_uri": "https://localhost:8080/",
          "height": 389
        },
        "outputId": "573eff4f-4752-4ef1-81ce-c78463a582e0"
      },
      "source": [
        "if surprise_level == 0:\n",
        "    df_fx_selected[\"scaled_price\"] = scale(df_fx_selected[\"diff_price\"])\n",
        "    df_fx_selected[\"sign\"] = np.sign(df_fx_selected['diff_price'])\n",
        "    print (df_fx_selected[\"sign\"].unique())\n",
        "    df_fx_selected[\"sign\"] = np.where(df_fx_selected[\"sign\"] == -1,2,df_fx_selected[\"sign\"])\n",
        "    print (df_fx_selected[\"sign\"].unique())\n",
        "elif surprise_level == 5:\n",
        "    df_fx_selected[\"sign\"] = 0\n",
        "    df_fx_selected.loc[df_fx_selected['diff_price'] > 0.1, 'sign'] = 1\n",
        "    df_fx_selected.loc[df_fx_selected['diff_price'] > 0.6, 'sign'] = 2\n",
        "    df_fx_selected.loc[df_fx_selected['diff_price'] < -0.1, 'sign'] = -1 #3\n",
        "    df_fx_selected.loc[df_fx_selected['diff_price'] < -0.6, 'sign'] = -2 #4\n",
        "    print (df_fx_selected[\"sign\"].unique())"
      ],
      "execution_count": 436,
      "outputs": [
        {
          "output_type": "stream",
          "text": [
            "[ 1. -1.  0.]\n",
            "[1. 2. 0.]\n"
          ],
          "name": "stdout"
        },
        {
          "output_type": "stream",
          "text": [
            "/usr/local/lib/python3.6/dist-packages/ipykernel_launcher.py:2: SettingWithCopyWarning: \n",
            "A value is trying to be set on a copy of a slice from a DataFrame.\n",
            "Try using .loc[row_indexer,col_indexer] = value instead\n",
            "\n",
            "See the caveats in the documentation: http://pandas.pydata.org/pandas-docs/stable/user_guide/indexing.html#returning-a-view-versus-a-copy\n",
            "  \n",
            "/usr/local/lib/python3.6/dist-packages/ipykernel_launcher.py:3: SettingWithCopyWarning: \n",
            "A value is trying to be set on a copy of a slice from a DataFrame.\n",
            "Try using .loc[row_indexer,col_indexer] = value instead\n",
            "\n",
            "See the caveats in the documentation: http://pandas.pydata.org/pandas-docs/stable/user_guide/indexing.html#returning-a-view-versus-a-copy\n",
            "  This is separate from the ipykernel package so we can avoid doing imports until\n",
            "/usr/local/lib/python3.6/dist-packages/ipykernel_launcher.py:5: SettingWithCopyWarning: \n",
            "A value is trying to be set on a copy of a slice from a DataFrame.\n",
            "Try using .loc[row_indexer,col_indexer] = value instead\n",
            "\n",
            "See the caveats in the documentation: http://pandas.pydata.org/pandas-docs/stable/user_guide/indexing.html#returning-a-view-versus-a-copy\n",
            "  \"\"\"\n"
          ],
          "name": "stderr"
        }
      ]
    },
    {
      "cell_type": "code",
      "metadata": {
        "id": "RiK4Yg1juoIi",
        "colab_type": "code",
        "colab": {
          "base_uri": "https://localhost:8080/",
          "height": 298
        },
        "outputId": "dae46fed-7eba-4157-c8af-884cec53e8a6"
      },
      "source": [
        "sns.distplot(df_fx_selected[\"diff_price\"])"
      ],
      "execution_count": 437,
      "outputs": [
        {
          "output_type": "execute_result",
          "data": {
            "text/plain": [
              "<matplotlib.axes._subplots.AxesSubplot at 0x7f2406371e80>"
            ]
          },
          "metadata": {
            "tags": []
          },
          "execution_count": 437
        },
        {
          "output_type": "display_data",
          "data": {
            "image/png": "[encoded data removed]",
            "text/plain": [
              "<Figure size 432x288 with 1 Axes>"
            ]
          },
          "metadata": {
            "tags": []
          }
        }
      ]
    },
    {
      "cell_type": "code",
      "metadata": {
        "id": "t453wwxGuoIm",
        "colab_type": "code",
        "colab": {
          "base_uri": "https://localhost:8080/",
          "height": 297
        },
        "outputId": "7327e0cc-91a6-488e-b29d-d1aa99dfbe38"
      },
      "source": [
        "sns.distplot(df_fx_selected[\"sign\"])"
      ],
      "execution_count": 438,
      "outputs": [
        {
          "output_type": "execute_result",
          "data": {
            "text/plain": [
              "<matplotlib.axes._subplots.AxesSubplot at 0x7f23d3b075c0>"
            ]
          },
          "metadata": {
            "tags": []
          },
          "execution_count": 438
        },
        {
          "output_type": "display_data",
          "data": {
            "image/png": "[encoded data removed]",
            "text/plain": [
              "<Figure size 432x288 with 1 Axes>"
            ]
          },
          "metadata": {
            "tags": []
          }
        }
      ]
    },
    {
      "cell_type": "code",
      "metadata": {
        "id": "JAhO4NftuoIo",
        "colab_type": "code",
        "colab": {
          "base_uri": "https://localhost:8080/",
          "height": 106
        },
        "outputId": "a74b579b-4dd9-4c51-9749-e6e40389b004"
      },
      "source": [
        "df_fx_selected.head(2)"
      ],
      "execution_count": 439,
      "outputs": [
        {
          "output_type": "execute_result",
          "data": {
            "text/html": [
              "<div>\n",
              "<style scoped>\n",
              "    .dataframe tbody tr th:only-of-type {\n",
              "        vertical-align: middle;\n",
              "    }\n",
              "\n",
              "    .dataframe tbody tr th {\n",
              "        vertical-align: top;\n",
              "    }\n",
              "\n",
              "    .dataframe thead th {\n",
              "        text-align: right;\n",
              "    }\n",
              "</style>\n",
              "<table border=\"1\" class=\"dataframe\">\n",
              "  <thead>\n",
              "    <tr style=\"text-align: right;\">\n",
              "      <th></th>\n",
              "      <th>date</th>\n",
              "      <th>diff_price</th>\n",
              "      <th>Open</th>\n",
              "      <th>scaled_price</th>\n",
              "      <th>sign</th>\n",
              "    </tr>\n",
              "  </thead>\n",
              "  <tbody>\n",
              "    <tr>\n",
              "      <th>5249548</th>\n",
              "      <td>2016-01-04</td>\n",
              "      <td>0.17</td>\n",
              "      <td>118.86</td>\n",
              "      <td>0.247883</td>\n",
              "      <td>1.0</td>\n",
              "    </tr>\n",
              "    <tr>\n",
              "      <th>5250988</th>\n",
              "      <td>2016-01-05</td>\n",
              "      <td>-0.58</td>\n",
              "      <td>119.03</td>\n",
              "      <td>-0.770654</td>\n",
              "      <td>2.0</td>\n",
              "    </tr>\n",
              "  </tbody>\n",
              "</table>\n",
              "</div>"
            ],
            "text/plain": [
              "              date  diff_price    Open  scaled_price  sign\n",
              "5249548 2016-01-04  0.17        118.86  0.247883      1.0 \n",
              "5250988 2016-01-05 -0.58        119.03 -0.770654      2.0 "
            ]
          },
          "metadata": {
            "tags": []
          },
          "execution_count": 439
        }
      ]
    },
    {
      "cell_type": "markdown",
      "metadata": {
        "id": "FsheZSoOuoIr",
        "colab_type": "text"
      },
      "source": [
        "# Combine FX and News data"
      ]
    },
    {
      "cell_type": "code",
      "metadata": {
        "id": "808ogt47uoIs",
        "colab_type": "code",
        "colab": {
          "base_uri": "https://localhost:8080/",
          "height": 122
        },
        "outputId": "1d9fe0b1-987f-493f-df7a-409ec7cb5656"
      },
      "source": [
        "df_fx_selected.dtypes"
      ],
      "execution_count": 440,
      "outputs": [
        {
          "output_type": "execute_result",
          "data": {
            "text/plain": [
              "date            datetime64[ns]\n",
              "diff_price      float64       \n",
              "Open            float64       \n",
              "scaled_price    float64       \n",
              "sign            float64       \n",
              "dtype: object"
            ]
          },
          "metadata": {
            "tags": []
          },
          "execution_count": 440
        }
      ]
    },
    {
      "cell_type": "code",
      "metadata": {
        "id": "8BNFT1HCuoIu",
        "colab_type": "code",
        "colab": {
          "base_uri": "https://localhost:8080/",
          "height": 140
        },
        "outputId": "970ddaa5-1a20-4b36-d7fa-9ec2f350560e"
      },
      "source": [
        "df_news.dtypes"
      ],
      "execution_count": 441,
      "outputs": [
        {
          "output_type": "execute_result",
          "data": {
            "text/plain": [
              "date           datetime64[ns]\n",
              "words          object        \n",
              "category       object        \n",
              "c2id           int64         \n",
              "word_length    int64         \n",
              "text           object        \n",
              "dtype: object"
            ]
          },
          "metadata": {
            "tags": []
          },
          "execution_count": 441
        }
      ]
    },
    {
      "cell_type": "code",
      "metadata": {
        "id": "lcVGvBBIuoIw",
        "colab_type": "code",
        "colab": {
          "base_uri": "https://localhost:8080/",
          "height": 34
        },
        "outputId": "415eec52-944a-43bf-95e0-743ea476ea53"
      },
      "source": [
        "df_news[\"c2id\"].unique()"
      ],
      "execution_count": 442,
      "outputs": [
        {
          "output_type": "execute_result",
          "data": {
            "text/plain": [
              "array([0, 1, 2])"
            ]
          },
          "metadata": {
            "tags": []
          },
          "execution_count": 442
        }
      ]
    },
    {
      "cell_type": "code",
      "metadata": {
        "id": "5Sa5khVuuoIy",
        "colab_type": "code",
        "colab": {
          "base_uri": "https://localhost:8080/",
          "height": 513
        },
        "outputId": "57a74c04-1269-433a-bc01-f3f9c7674794"
      },
      "source": [
        "df_merge = pd.merge(df_fx_selected, df_news, on=\"date\")\n",
        "df_merge.head(2)"
      ],
      "execution_count": 443,
      "outputs": [
        {
          "output_type": "execute_result",
          "data": {
            "text/html": [
              "<div>\n",
              "<style scoped>\n",
              "    .dataframe tbody tr th:only-of-type {\n",
              "        vertical-align: middle;\n",
              "    }\n",
              "\n",
              "    .dataframe tbody tr th {\n",
              "        vertical-align: top;\n",
              "    }\n",
              "\n",
              "    .dataframe thead th {\n",
              "        text-align: right;\n",
              "    }\n",
              "</style>\n",
              "<table border=\"1\" class=\"dataframe\">\n",
              "  <thead>\n",
              "    <tr style=\"text-align: right;\">\n",
              "      <th></th>\n",
              "      <th>date</th>\n",
              "      <th>diff_price</th>\n",
              "      <th>Open</th>\n",
              "      <th>scaled_price</th>\n",
              "      <th>sign</th>\n",
              "      <th>words</th>\n",
              "      <th>category</th>\n",
              "      <th>c2id</th>\n",
              "      <th>word_length</th>\n",
              "      <th>text</th>\n",
              "    </tr>\n",
              "  </thead>\n",
              "  <tbody>\n",
              "    <tr>\n",
              "      <th>0</th>\n",
              "      <td>2017-05-24</td>\n",
              "      <td>0.06</td>\n",
              "      <td>111.8</td>\n",
              "      <td>0.098498</td>\n",
              "      <td>1.0</td>\n",
              "      <td>[18, 798, 5784, 1684, 454, 2394, 1034, 225, 5785, 10, 16, 5786, 1981, 163, 13]</td>\n",
              "      <td>BUSINESS</td>\n",
              "      <td>0</td>\n",
              "      <td>15</td>\n",
              "      <td>uber vows repay nyc drivers tens millions tax snafu company says miscalculated commission several years</td>\n",
              "    </tr>\n",
              "    <tr>\n",
              "      <th>1</th>\n",
              "      <td>2017-05-24</td>\n",
              "      <td>0.06</td>\n",
              "      <td>111.8</td>\n",
              "      <td>0.098498</td>\n",
              "      <td>1.0</td>\n",
              "      <td>[27, 5787, 1768, 131, 1403, 5788, 2458, 1, 14, 5789, 2458]</td>\n",
              "      <td>CRIME</td>\n",
              "      <td>1</td>\n",
              "      <td>11</td>\n",
              "      <td>woman maced wendy employees serving stale fries police say beef fries</td>\n",
              "    </tr>\n",
              "  </tbody>\n",
              "</table>\n",
              "</div>"
            ],
            "text/plain": [
              "        date  ...                                                                                                     text\n",
              "0 2017-05-24  ...  uber vows repay nyc drivers tens millions tax snafu company says miscalculated commission several years\n",
              "1 2017-05-24  ...  woman maced wendy employees serving stale fries police say beef fries                                  \n",
              "\n",
              "[2 rows x 10 columns]"
            ]
          },
          "metadata": {
            "tags": []
          },
          "execution_count": 443
        }
      ]
    },
    {
      "cell_type": "code",
      "metadata": {
        "id": "PbAFu-AquoI1",
        "colab_type": "code",
        "colab": {
          "base_uri": "https://localhost:8080/",
          "height": 597
        },
        "outputId": "fb1010e0-2c99-4a95-9d71-834f7a8f883b"
      },
      "source": [
        "df_merge.tail(2)"
      ],
      "execution_count": 444,
      "outputs": [
        {
          "output_type": "execute_result",
          "data": {
            "text/html": [
              "<div>\n",
              "<style scoped>\n",
              "    .dataframe tbody tr th:only-of-type {\n",
              "        vertical-align: middle;\n",
              "    }\n",
              "\n",
              "    .dataframe tbody tr th {\n",
              "        vertical-align: top;\n",
              "    }\n",
              "\n",
              "    .dataframe thead th {\n",
              "        text-align: right;\n",
              "    }\n",
              "</style>\n",
              "<table border=\"1\" class=\"dataframe\">\n",
              "  <thead>\n",
              "    <tr style=\"text-align: right;\">\n",
              "      <th></th>\n",
              "      <th>date</th>\n",
              "      <th>diff_price</th>\n",
              "      <th>Open</th>\n",
              "      <th>scaled_price</th>\n",
              "      <th>sign</th>\n",
              "      <th>words</th>\n",
              "      <th>category</th>\n",
              "      <th>c2id</th>\n",
              "      <th>word_length</th>\n",
              "      <th>text</th>\n",
              "    </tr>\n",
              "  </thead>\n",
              "  <tbody>\n",
              "    <tr>\n",
              "      <th>552</th>\n",
              "      <td>2017-12-29</td>\n",
              "      <td>-0.21</td>\n",
              "      <td>112.58</td>\n",
              "      <td>-0.268176</td>\n",
              "      <td>2.0</td>\n",
              "      <td>[1187, 314, 1186, 577, 14, 8, 1337, 27, 754, 12, 31, 67, 233, 754, 1942, 996, 353, 235, 166]</td>\n",
              "      <td>CRIME</td>\n",
              "      <td>1</td>\n",
              "      <td>19</td>\n",
              "      <td>nypd officers suspended witnesses say nt check woman later found dead victim daughter later discovered crying near mother body</td>\n",
              "    </tr>\n",
              "    <tr>\n",
              "      <th>553</th>\n",
              "      <td>2017-12-29</td>\n",
              "      <td>-0.21</td>\n",
              "      <td>112.58</td>\n",
              "      <td>-0.268176</td>\n",
              "      <td>2.0</td>\n",
              "      <td>[579, 729, 1093, 382, 1978, 997, 53, 35, 150, 3516, 1979, 147]</td>\n",
              "      <td>IMPACT</td>\n",
              "      <td>2</td>\n",
              "      <td>12</td>\n",
              "      <td>big environmental stories watch lawsuits focused climate change another canadaus pipeline news</td>\n",
              "    </tr>\n",
              "  </tbody>\n",
              "</table>\n",
              "</div>"
            ],
            "text/plain": [
              "          date  ...                                                                                                                            text\n",
              "552 2017-12-29  ...  nypd officers suspended witnesses say nt check woman later found dead victim daughter later discovered crying near mother body\n",
              "553 2017-12-29  ...  big environmental stories watch lawsuits focused climate change another canadaus pipeline news                                \n",
              "\n",
              "[2 rows x 10 columns]"
            ]
          },
          "metadata": {
            "tags": []
          },
          "execution_count": 444
        }
      ]
    },
    {
      "cell_type": "code",
      "metadata": {
        "id": "oyMAjNBwuoI5",
        "colab_type": "code",
        "colab": {
          "base_uri": "https://localhost:8080/",
          "height": 34
        },
        "outputId": "71caa473-c9d0-4901-b99b-9f742f64a76d"
      },
      "source": [
        "df_merge[\"category\"].unique()"
      ],
      "execution_count": 445,
      "outputs": [
        {
          "output_type": "execute_result",
          "data": {
            "text/plain": [
              "array(['BUSINESS', 'CRIME', 'IMPACT'], dtype=object)"
            ]
          },
          "metadata": {
            "tags": []
          },
          "execution_count": 445
        }
      ]
    },
    {
      "cell_type": "code",
      "metadata": {
        "id": "ahDILt1GuoI7",
        "colab_type": "code",
        "colab": {
          "base_uri": "https://localhost:8080/",
          "height": 1000
        },
        "outputId": "b04de908-a061-41d4-fc4f-17fa7a78913b"
      },
      "source": [
        "pd.set_option('display.max_colwidth', -1)\n",
        "df_merge[[\"date\",\"sign\",\"text\"]].head(20)"
      ],
      "execution_count": 446,
      "outputs": [
        {
          "output_type": "execute_result",
          "data": {
            "text/html": [
              "<div>\n",
              "<style scoped>\n",
              "    .dataframe tbody tr th:only-of-type {\n",
              "        vertical-align: middle;\n",
              "    }\n",
              "\n",
              "    .dataframe tbody tr th {\n",
              "        vertical-align: top;\n",
              "    }\n",
              "\n",
              "    .dataframe thead th {\n",
              "        text-align: right;\n",
              "    }\n",
              "</style>\n",
              "<table border=\"1\" class=\"dataframe\">\n",
              "  <thead>\n",
              "    <tr style=\"text-align: right;\">\n",
              "      <th></th>\n",
              "      <th>date</th>\n",
              "      <th>sign</th>\n",
              "      <th>text</th>\n",
              "    </tr>\n",
              "  </thead>\n",
              "  <tbody>\n",
              "    <tr>\n",
              "      <th>0</th>\n",
              "      <td>2017-05-24</td>\n",
              "      <td>1.0</td>\n",
              "      <td>uber vows repay nyc drivers tens millions tax snafu company says miscalculated commission several years</td>\n",
              "    </tr>\n",
              "    <tr>\n",
              "      <th>1</th>\n",
              "      <td>2017-05-24</td>\n",
              "      <td>1.0</td>\n",
              "      <td>woman maced wendy employees serving stale fries police say beef fries</td>\n",
              "    </tr>\n",
              "    <tr>\n",
              "      <th>2</th>\n",
              "      <td>2017-05-24</td>\n",
              "      <td>1.0</td>\n",
              "      <td>food waste money drain benefits reducing food waste numerous</td>\n",
              "    </tr>\n",
              "    <tr>\n",
              "      <th>3</th>\n",
              "      <td>2017-05-24</td>\n",
              "      <td>1.0</td>\n",
              "      <td>expert conversation right luxury could constitute legitimate claim luxury exists human societies throughout world different forms gratisographypexels léa barreau</td>\n",
              "    </tr>\n",
              "    <tr>\n",
              "      <th>4</th>\n",
              "      <td>2017-05-24</td>\n",
              "      <td>1.0</td>\n",
              "      <td>behaviors highlight leadership ability based years experience new business advisor always find leadership important business success</td>\n",
              "    </tr>\n",
              "    <tr>\n",
              "      <th>5</th>\n",
              "      <td>2017-05-25</td>\n",
              "      <td>2.0</td>\n",
              "      <td>immigrant helped become better ceo america known land opportunity also center entrepreneurial innovation magnet talent</td>\n",
              "    </tr>\n",
              "    <tr>\n",
              "      <th>6</th>\n",
              "      <td>2017-05-25</td>\n",
              "      <td>2.0</td>\n",
              "      <td>pennsylvania drug counselors die opioid overdoses opioids monster slowly consuming population da says</td>\n",
              "    </tr>\n",
              "    <tr>\n",
              "      <th>7</th>\n",
              "      <td>2017-05-25</td>\n",
              "      <td>2.0</td>\n",
              "      <td>ways strategic influence different women miriam grobman almost four years thinking advancing women leadership talking hundreds individuals</td>\n",
              "    </tr>\n",
              "    <tr>\n",
              "      <th>8</th>\n",
              "      <td>2017-05-25</td>\n",
              "      <td>2.0</td>\n",
              "      <td>white house budget would increase hunger across america need find opportunities strengthen dismantle programs help lowincome families</td>\n",
              "    </tr>\n",
              "    <tr>\n",
              "      <th>9</th>\n",
              "      <td>2017-05-26</td>\n",
              "      <td>1.0</td>\n",
              "      <td>summer scams avoid weather gets warmer mosquitos ticks reenter lives along comes larger cousin scam</td>\n",
              "    </tr>\n",
              "    <tr>\n",
              "      <th>10</th>\n",
              "      <td>2017-05-26</td>\n",
              "      <td>1.0</td>\n",
              "      <td>britain growing bookmaking industry challenges ahead spectre brexit continues impact uk national industries continuing thrive</td>\n",
              "    </tr>\n",
              "    <tr>\n",
              "      <th>11</th>\n",
              "      <td>2017-05-26</td>\n",
              "      <td>1.0</td>\n",
              "      <td>lessons big business gladly taken home major corporations get bad rap media online hard understand many things</td>\n",
              "    </tr>\n",
              "    <tr>\n",
              "      <th>12</th>\n",
              "      <td>2017-05-26</td>\n",
              "      <td>1.0</td>\n",
              "      <td>get bus memorial day rushing around town yesterday morning days memorial day say rushing mean really rushing</td>\n",
              "    </tr>\n",
              "    <tr>\n",
              "      <th>13</th>\n",
              "      <td>2017-05-29</td>\n",
              "      <td>2.0</td>\n",
              "      <td>roses remember celebrate day take moment reflect reason behind summer kick</td>\n",
              "    </tr>\n",
              "    <tr>\n",
              "      <th>14</th>\n",
              "      <td>2017-05-29</td>\n",
              "      <td>2.0</td>\n",
              "      <td>teen targeted portland hate attack thanks men died defending without probably would dead right destinee mangum said</td>\n",
              "    </tr>\n",
              "    <tr>\n",
              "      <th>15</th>\n",
              "      <td>2017-05-29</td>\n",
              "      <td>2.0</td>\n",
              "      <td>stop feeding baby trendy little food pouches environmental nightmare</td>\n",
              "    </tr>\n",
              "    <tr>\n",
              "      <th>16</th>\n",
              "      <td>2017-05-30</td>\n",
              "      <td>2.0</td>\n",
              "      <td>missing louisiana teen sister heart want home jacquelyn daisy lynn landry vanished leaving home walk friend house last week</td>\n",
              "    </tr>\n",
              "    <tr>\n",
              "      <th>17</th>\n",
              "      <td>2017-05-30</td>\n",
              "      <td>2.0</td>\n",
              "      <td>poodle good health found locked inside discarded suitcase dog walker credited finding little animal since named donut</td>\n",
              "    </tr>\n",
              "    <tr>\n",
              "      <th>18</th>\n",
              "      <td>2017-05-30</td>\n",
              "      <td>2.0</td>\n",
              "      <td>open letter brokers come peace hard past times insensitive fact husbands wives</td>\n",
              "    </tr>\n",
              "    <tr>\n",
              "      <th>19</th>\n",
              "      <td>2017-05-30</td>\n",
              "      <td>2.0</td>\n",
              "      <td>great way commemorate future memorial days time us develop mechanism protect constitution us lives would sent fight wars</td>\n",
              "    </tr>\n",
              "  </tbody>\n",
              "</table>\n",
              "</div>"
            ],
            "text/plain": [
              "         date  ...                                                                                                                                                               text\n",
              "0  2017-05-24  ...  uber vows repay nyc drivers tens millions tax snafu company says miscalculated commission several years                                                          \n",
              "1  2017-05-24  ...  woman maced wendy employees serving stale fries police say beef fries                                                                                            \n",
              "2  2017-05-24  ...  food waste money drain benefits reducing food waste numerous                                                                                                     \n",
              "3  2017-05-24  ...  expert conversation right luxury could constitute legitimate claim luxury exists human societies throughout world different forms gratisographypexels léa barreau\n",
              "4  2017-05-24  ...  behaviors highlight leadership ability based years experience new business advisor always find leadership important business success                             \n",
              "5  2017-05-25  ...  immigrant helped become better ceo america known land opportunity also center entrepreneurial innovation magnet talent                                           \n",
              "6  2017-05-25  ...  pennsylvania drug counselors die opioid overdoses opioids monster slowly consuming population da says                                                            \n",
              "7  2017-05-25  ...  ways strategic influence different women miriam grobman almost four years thinking advancing women leadership talking hundreds individuals                       \n",
              "8  2017-05-25  ...  white house budget would increase hunger across america need find opportunities strengthen dismantle programs help lowincome families                            \n",
              "9  2017-05-26  ...  summer scams avoid weather gets warmer mosquitos ticks reenter lives along comes larger cousin scam                                                              \n",
              "10 2017-05-26  ...  britain growing bookmaking industry challenges ahead spectre brexit continues impact uk national industries continuing thrive                                    \n",
              "11 2017-05-26  ...  lessons big business gladly taken home major corporations get bad rap media online hard understand many things                                                   \n",
              "12 2017-05-26  ...  get bus memorial day rushing around town yesterday morning days memorial day say rushing mean really rushing                                                     \n",
              "13 2017-05-29  ...  roses remember celebrate day take moment reflect reason behind summer kick                                                                                       \n",
              "14 2017-05-29  ...  teen targeted portland hate attack thanks men died defending without probably would dead right destinee mangum said                                              \n",
              "15 2017-05-29  ...  stop feeding baby trendy little food pouches environmental nightmare                                                                                             \n",
              "16 2017-05-30  ...  missing louisiana teen sister heart want home jacquelyn daisy lynn landry vanished leaving home walk friend house last week                                      \n",
              "17 2017-05-30  ...  poodle good health found locked inside discarded suitcase dog walker credited finding little animal since named donut                                            \n",
              "18 2017-05-30  ...  open letter brokers come peace hard past times insensitive fact husbands wives                                                                                   \n",
              "19 2017-05-30  ...  great way commemorate future memorial days time us develop mechanism protect constitution us lives would sent fight wars                                         \n",
              "\n",
              "[20 rows x 3 columns]"
            ]
          },
          "metadata": {
            "tags": []
          },
          "execution_count": 446
        }
      ]
    },
    {
      "cell_type": "code",
      "metadata": {
        "id": "WhOknNk9uoI9",
        "colab_type": "code",
        "colab": {
          "base_uri": "https://localhost:8080/",
          "height": 94
        },
        "outputId": "15295bc5-69ae-4abe-edc5-d5ffb28bb3be"
      },
      "source": [
        "if calculation_mode == \"surprise\":\n",
        "    # df_merge = df_merge[[\"date\", \"sign\", \"words\",\"Open\",\"bpe\"]]\n",
        "    df_merge = df_merge[[\"date\", \"sign\", \"words\",\"Open\",\"diff_price\"]]\n",
        "elif calculation_mode == \"category\":\n",
        "    df_merge = df_merge[[\"date\", \"c2id\", \"words\",\"bpe\",\"text\"]]\n",
        "    df_merge[\"sign\"] = df_merge[\"c2id\"]\n",
        "df_merge.head(1)"
      ],
      "execution_count": 447,
      "outputs": [
        {
          "output_type": "execute_result",
          "data": {
            "text/html": [
              "<div>\n",
              "<style scoped>\n",
              "    .dataframe tbody tr th:only-of-type {\n",
              "        vertical-align: middle;\n",
              "    }\n",
              "\n",
              "    .dataframe tbody tr th {\n",
              "        vertical-align: top;\n",
              "    }\n",
              "\n",
              "    .dataframe thead th {\n",
              "        text-align: right;\n",
              "    }\n",
              "</style>\n",
              "<table border=\"1\" class=\"dataframe\">\n",
              "  <thead>\n",
              "    <tr style=\"text-align: right;\">\n",
              "      <th></th>\n",
              "      <th>date</th>\n",
              "      <th>sign</th>\n",
              "      <th>words</th>\n",
              "      <th>Open</th>\n",
              "      <th>diff_price</th>\n",
              "    </tr>\n",
              "  </thead>\n",
              "  <tbody>\n",
              "    <tr>\n",
              "      <th>0</th>\n",
              "      <td>2017-05-24</td>\n",
              "      <td>1.0</td>\n",
              "      <td>[18, 798, 5784, 1684, 454, 2394, 1034, 225, 5785, 10, 16, 5786, 1981, 163, 13]</td>\n",
              "      <td>111.8</td>\n",
              "      <td>0.06</td>\n",
              "    </tr>\n",
              "  </tbody>\n",
              "</table>\n",
              "</div>"
            ],
            "text/plain": [
              "        date  sign  ...   Open  diff_price\n",
              "0 2017-05-24  1.0   ...  111.8  0.06      \n",
              "\n",
              "[1 rows x 5 columns]"
            ]
          },
          "metadata": {
            "tags": []
          },
          "execution_count": 447
        }
      ]
    },
    {
      "cell_type": "code",
      "metadata": {
        "id": "CPU3kqfGuoI_",
        "colab_type": "code",
        "colab": {
          "base_uri": "https://localhost:8080/",
          "height": 122
        },
        "outputId": "f50e4988-6156-4e81-bdfe-07304debe236"
      },
      "source": [
        "df_merge.dtypes"
      ],
      "execution_count": 448,
      "outputs": [
        {
          "output_type": "execute_result",
          "data": {
            "text/plain": [
              "date          datetime64[ns]\n",
              "sign          float64       \n",
              "words         object        \n",
              "Open          float64       \n",
              "diff_price    float64       \n",
              "dtype: object"
            ]
          },
          "metadata": {
            "tags": []
          },
          "execution_count": 448
        }
      ]
    },
    {
      "cell_type": "code",
      "metadata": {
        "id": "C6_2rWleuoJC",
        "colab_type": "code",
        "colab": {}
      },
      "source": [
        "df_merge.to_csv(\"data/merge_data.csv\")"
      ],
      "execution_count": 0,
      "outputs": []
    },
    {
      "cell_type": "code",
      "metadata": {
        "id": "O-Y7aLYbuoJE",
        "colab_type": "code",
        "colab": {}
      },
      "source": [
        "# df_merge[\"c2id\"].unique()"
      ],
      "execution_count": 0,
      "outputs": []
    },
    {
      "cell_type": "markdown",
      "metadata": {
        "id": "mmxjncIHuoJG",
        "colab_type": "text"
      },
      "source": [
        "## split dataset"
      ]
    },
    {
      "cell_type": "code",
      "metadata": {
        "id": "v25yzz-1uoJG",
        "colab_type": "code",
        "colab": {}
      },
      "source": [
        "# split data \n",
        "if encoding_mode == \"tokenize\":\n",
        "    # x_train, x_test, y_train, y_test = train_test_split(\n",
        "    #     df_merge[\"words\"].values, df_merge[\"sign\"].values, test_size=0.33, random_state=42, shuffle=False)\n",
        "    # x_train, x_test0, y_train, y_test0 = train_test_split(\n",
        "    #     df_merge[\"words\"].apply(eval).values, df_merge[\"sign\"].values, test_size=0.30, random_state=42, shuffle=False)\n",
        "    # x_validate, x_test, y_validate, y_test = train_test_split(\n",
        "    #     x_test0,  y_test0, test_size=0.50, random_state=42, shuffle=False)\n",
        "    x_train, x_test0, y_train, y_test0 = train_test_split(\n",
        "        df_merge[\"words\"].values, df_merge[\"sign\"].values, test_size=0.30, random_state=42, shuffle=False)\n",
        "    x_validate, x_test, y_validate, y_test = train_test_split(\n",
        "        x_test0,  y_test0, test_size=0.50, random_state=42, shuffle=False)\n",
        "elif encoding_mode == \"bpe\":\n",
        "#     x_train, x_test, y_train, y_test = train_test_split(\n",
        "#         df_merge[\"bpe\"].values, df_merge[\"sign\"].values, test_size=0.33, random_state=42, shuffle=False)    \n",
        "    \n",
        "    encode_data = df_merge[\"bpe\"].values#apply(eval).values\n",
        "    x_train, x_test0, y_train, y_test0 = train_test_split(\n",
        "        encode_data, df_merge[\"sign\"].values, test_size=0.33, random_state=42, shuffle=False)  \n",
        "    x_validate, x_test, y_validate, y_test = train_test_split(\n",
        "        x_test0,  y_test0, test_size=0.50, random_state=42, shuffle=False)"
      ],
      "execution_count": 0,
      "outputs": []
    },
    {
      "cell_type": "code",
      "metadata": {
        "id": "YnxWB8GEuoJJ",
        "colab_type": "code",
        "colab": {}
      },
      "source": [
        "# print (x_train)\n",
        "# print (y_train)"
      ],
      "execution_count": 0,
      "outputs": []
    },
    {
      "cell_type": "code",
      "metadata": {
        "id": "i5uc8TsjuoJM",
        "colab_type": "code",
        "colab": {
          "base_uri": "https://localhost:8080/",
          "height": 34
        },
        "outputId": "9c957005-b239-4a09-eb91-cb1155fa204e"
      },
      "source": [
        "print (type(x_train), type(y_train))"
      ],
      "execution_count": 455,
      "outputs": [
        {
          "output_type": "stream",
          "text": [
            "<class 'numpy.ndarray'> <class 'numpy.ndarray'>\n"
          ],
          "name": "stdout"
        }
      ]
    },
    {
      "cell_type": "code",
      "metadata": {
        "id": "RFNaqxrzuoJO",
        "colab_type": "code",
        "colab": {
          "base_uri": "https://localhost:8080/",
          "height": 70
        },
        "outputId": "e5e670b7-a035-48d6-9121-51967ecf0531"
      },
      "source": [
        "print('Pad sequences (samples x time)')\n",
        "x_train = sequence.pad_sequences(x_train, maxlen=pad_maxlen)\n",
        "x_validate = sequence.pad_sequences(x_validate, maxlen=pad_maxlen)\n",
        "x_test = sequence.pad_sequences(x_test, maxlen=pad_maxlen)\n",
        "print('x_train shape:', x_train.shape)\n",
        "print('x_test shape:', x_test.shape)\n",
        "# print (x_train)\n",
        "# print (y_train)"
      ],
      "execution_count": 456,
      "outputs": [
        {
          "output_type": "stream",
          "text": [
            "Pad sequences (samples x time)\n",
            "x_train shape: (387, 50)\n",
            "x_test shape: (84, 50)\n"
          ],
          "name": "stdout"
        }
      ]
    },
    {
      "cell_type": "code",
      "metadata": {
        "id": "5zP6hbnDuoJQ",
        "colab_type": "code",
        "colab": {
          "base_uri": "https://localhost:8080/",
          "height": 52
        },
        "outputId": "2df96244-01cc-4b4b-fd9e-93088d8def93"
      },
      "source": [
        "from sklearn.preprocessing import LabelEncoder\n",
        "\n",
        "# Encode text to labels\n",
        "le = LabelEncoder()\n",
        "le.fit(y_train)\n",
        "train_labels_enc = le.transform(y_train)\n",
        "validation_labels_enc = le.transform(y_validate)\n",
        "test_labels_enc = le.transform(y_test)\n",
        "\n",
        "print (y_train[0:4], train_labels_enc[0:4])\n",
        "print (train_labels_enc.shape, test_labels_enc.shape)"
      ],
      "execution_count": 457,
      "outputs": [
        {
          "output_type": "stream",
          "text": [
            "[1. 1. 1. 1.] [0 0 0 0]\n",
            "(387,) (84,)\n"
          ],
          "name": "stdout"
        }
      ]
    },
    {
      "cell_type": "code",
      "metadata": {
        "id": "oaBMphy_uoJT",
        "colab_type": "code",
        "colab": {
          "base_uri": "https://localhost:8080/",
          "height": 34
        },
        "outputId": "88e69d57-2374-4e3c-a872-4359b0ba5b00"
      },
      "source": [
        "from keras.utils import to_categorical\n",
        "# Convert a vector label to matrix label\n",
        "y_train_ohe = to_categorical(train_labels_enc)\n",
        "y_validate_ohe = to_categorical(validation_labels_enc)\n",
        "y_test_ohe = to_categorical(test_labels_enc)\n",
        "print (y_train_ohe.shape,y_test_ohe.shape[0])"
      ],
      "execution_count": 458,
      "outputs": [
        {
          "output_type": "stream",
          "text": [
            "(387, 2) 84\n"
          ],
          "name": "stdout"
        }
      ]
    },
    {
      "cell_type": "markdown",
      "metadata": {
        "id": "cF__FlZ3uoJX",
        "colab_type": "text"
      },
      "source": [
        "## Run model"
      ]
    },
    {
      "cell_type": "code",
      "metadata": {
        "id": "nSdKQjpbuoJY",
        "colab_type": "code",
        "colab": {}
      },
      "source": [
        "from __future__ import print_function\n",
        "\n",
        "from keras.preprocessing import sequence\n",
        "from keras.models import Sequential\n",
        "from keras.layers import Dense, Embedding\n",
        "from keras.layers import LSTM\n",
        "\n",
        "max_features = 20000\n",
        "batch_size = 32"
      ],
      "execution_count": 0,
      "outputs": []
    },
    {
      "cell_type": "code",
      "metadata": {
        "id": "djdqtD5QuoJa",
        "colab_type": "code",
        "colab": {}
      },
      "source": [
        "print('Build model...')\n",
        "model = Sequential()\n",
        "model.add(Embedding(max_features, 128))\n",
        "model.add(LSTM(128, dropout=0.2, recurrent_dropout=0.2))\n",
        "model.add(Dense(y_train_ohe.shape[1], activation='sigmoid'))\n",
        "model.compile(loss='categorical_crossentropy',\n",
        "              optimizer='adam',\n",
        "              metrics=['accuracy'])\n",
        "model.summary()"
      ],
      "execution_count": 0,
      "outputs": []
    },
    {
      "cell_type": "code",
      "metadata": {
        "id": "n76UOXoruoJc",
        "colab_type": "code",
        "colab": {}
      },
      "source": [
        "print (x_train.shape, x_test.shape)\n",
        "print (y_train_ohe.shape, y_test_ohe.shape)"
      ],
      "execution_count": 0,
      "outputs": []
    },
    {
      "cell_type": "code",
      "metadata": {
        "id": "H3PbAHObuoJf",
        "colab_type": "code",
        "colab": {}
      },
      "source": [
        "print('Train...')\n",
        "model_history = model.fit(x_train, y_train_ohe,\n",
        "          batch_size=batch_size,\n",
        "          epochs=10,\n",
        "          validation_data=(x_validate, y_validate_ohe))\n",
        "score, acc = model.evaluate(x_validate, y_validate_ohe,\n",
        "                            batch_size=batch_size)\n",
        "print('Test score:', score)\n",
        "print('Test accuracy:', acc)"
      ],
      "execution_count": 0,
      "outputs": []
    },
    {
      "cell_type": "markdown",
      "metadata": {
        "id": "C-9sHQJHuoJh",
        "colab_type": "text"
      },
      "source": [
        "## plot accuracy"
      ]
    },
    {
      "cell_type": "code",
      "metadata": {
        "id": "F210u6QkuoJj",
        "colab_type": "code",
        "colab": {}
      },
      "source": [
        "def plot_accuracy(history):\n",
        "    f, (ax1, ax2) = plt.subplots(1, 2, figsize=(12, 4))\n",
        "    t = f.suptitle('Transfer Learning Performance', fontsize=12)\n",
        "    f.subplots_adjust(top=0.85, wspace=0.3)\n",
        "\n",
        "    epoch_lenght = len(history.history['accuracy'])+1\n",
        "    epoch_list = list(range(1,epoch_lenght))\n",
        "    \n",
        "    # Plot accuracy\n",
        "    ax1.plot(epoch_list, history.history['accuracy'], label='Train Accuracy')\n",
        "    ax1.plot(epoch_list, history.history['val_accuracy'], label='Validation Accuracy')\n",
        "    ax1.set_xticks(np.arange(0, epoch_lenght, 5))\n",
        "    ax1.set_ylabel('Accuracy Value')\n",
        "    ax1.set_xlabel('Epoch')\n",
        "    ax1.set_title('Accuracy')\n",
        "    l1 = ax1.legend(loc=\"best\")\n",
        "\n",
        "    # Plot loss\n",
        "    ax2.plot(epoch_list, history.history['loss'], label='Train Loss')\n",
        "    ax2.plot(epoch_list, history.history['val_loss'], label='Validation Loss')\n",
        "    ax2.set_xticks(np.arange(0, epoch_lenght, 5))\n",
        "    ax2.set_ylabel('Loss Value')\n",
        "    ax2.set_xlabel('Epoch')\n",
        "    ax2.set_title('Loss')\n",
        "    l2 = ax2.legend(loc=\"best\")\n",
        "plot_accuracy(model_history)"
      ],
      "execution_count": 0,
      "outputs": []
    },
    {
      "cell_type": "code",
      "metadata": {
        "id": "somppVrCuoJm",
        "colab_type": "code",
        "colab": {}
      },
      "source": [
        "test_model = model.predict_classes(x_train)\n",
        "print (set(y_train), set(test_model))"
      ],
      "execution_count": 0,
      "outputs": []
    },
    {
      "cell_type": "code",
      "metadata": {
        "id": "yr4jNscHuoJp",
        "colab_type": "code",
        "colab": {}
      },
      "source": [
        "from sklearn import metrics\n",
        "from sklearn.metrics import confusion_matrix\n",
        "\n",
        "def predict_model_confusion_matrix(x_train, y_train, model):\n",
        "    predicted_labels = model.predict_classes(x_train)\n",
        "\n",
        "    true_labels = y_train\n",
        "    # get_metrics\n",
        "    print('Accuracy:', metrics.accuracy_score(true_labels, predicted_labels))\n",
        "    print('Precision:', metrics.precision_score(true_labels, predicted_labels, average='weighted'))\n",
        "    print('Recall:', metrics.recall_score(true_labels, predicted_labels, average='weighted'))\n",
        "    print('F1 Score:', metrics.f1_score(true_labels, predicted_labels,average='weighted'))\n",
        "\n",
        "    # confusion matrix\n",
        "    labels = list(set(y_train))\n",
        "    cm = confusion_matrix(y_train, predicted_labels, labels=labels)\n",
        "    cm_labeled = pd.DataFrame(cm, columns=labels, index=labels)\n",
        "    sns.heatmap(cm_labeled, annot=True, cmap='Greens', fmt='g')\n",
        "    return\n",
        "predict_model_confusion_matrix(x_train, np.argmax(y_train_ohe,1), model)"
      ],
      "execution_count": 0,
      "outputs": []
    },
    {
      "cell_type": "code",
      "metadata": {
        "id": "9G18SmQTuoJr",
        "colab_type": "code",
        "colab": {}
      },
      "source": [
        "predict_model_confusion_matrix(x_validate, np.argmax(y_validate_ohe,1), model)"
      ],
      "execution_count": 0,
      "outputs": []
    },
    {
      "cell_type": "code",
      "metadata": {
        "id": "K4oq1mtYuoJu",
        "colab_type": "code",
        "colab": {}
      },
      "source": [
        "predict_model_confusion_matrix(x_test, np.argmax(y_test_ohe,1), model)"
      ],
      "execution_count": 0,
      "outputs": []
    },
    {
      "cell_type": "markdown",
      "metadata": {
        "id": "7T2RMdZ8uoJw",
        "colab_type": "text"
      },
      "source": [
        "## visualise data using shap"
      ]
    },
    {
      "cell_type": "code",
      "metadata": {
        "id": "doPN7BhBuoJx",
        "colab_type": "code",
        "colab": {}
      },
      "source": [
        "# import shap\n",
        "\n",
        "# # we use the first 100 training examples as our background dataset to integrate over\n",
        "# explainer = shap.DeepExplainer(model, x_train[:100])\n",
        "\n",
        "# # explain the first 10 predictions\n",
        "# # explaining each prediction requires 2 * background dataset size runs\n",
        "# shap_values = explainer.shap_values(x_test[:10])\n",
        "\n",
        "# # init the JS visualization code\n",
        "# shap.initjs()\n",
        "\n",
        "# # transform the indexes to words\n",
        "# words = word_index\n",
        "# num2word = {}\n",
        "# for w in words.keys():\n",
        "#     num2word[words[w]] = w\n",
        "# x_test_words = np.stack([np.array(list(map(lambda x: num2word.get(x, \"NONE\"), x_test[i]))) for i in range(10)])\n",
        "\n",
        "# # plot the explanation of the first prediction\n",
        "# # Note the model is \"multi-output\" because it is rank-2 but only has one column\n",
        "# shap.force_plot(explainer.expected_value[0], shap_values[0][0], x_test_words[0])"
      ],
      "execution_count": 0,
      "outputs": []
    },
    {
      "cell_type": "code",
      "metadata": {
        "id": "bentVcmGuoJz",
        "colab_type": "code",
        "colab": {}
      },
      "source": [
        ""
      ],
      "execution_count": 0,
      "outputs": []
    }
  ]
}