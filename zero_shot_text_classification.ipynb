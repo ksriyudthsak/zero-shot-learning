{
  "nbformat": 4,
  "nbformat_minor": 0,
  "metadata": {
    "colab": {
      "name": "zero-shot_text_classification.ipynb",
      "provenance": [],
      "collapsed_sections": []
    },
    "kernelspec": {
      "name": "python3",
      "display_name": "Python 3"
    },
    "accelerator": "GPU"
  },
  "cells": [
    {
      "cell_type": "markdown",
      "metadata": {
        "id": "dyrwYXncSsQz",
        "colab_type": "text"
      },
      "source": [
        "# Set up environment"
      ]
    },
    {
      "cell_type": "code",
      "metadata": {
        "id": "sm-Btr_-Sv9H",
        "colab_type": "code",
        "outputId": "2febd5e1-4384-4062-ff6a-f20cd44243f5",
        "colab": {
          "base_uri": "https://localhost:8080/",
          "height": 97
        }
      },
      "source": [
        "import os\n",
        "import numpy as np\n",
        "np.random.seed(1)\n",
        "import matplotlib.pyplot as plt\n",
        "import pandas as pd\n",
        "\n",
        "import gzip\n",
        "import _pickle as cPickle\n",
        "from collections import Counter\n",
        "\n",
        "from sklearn.preprocessing import LabelEncoder, normalize\n",
        "from sklearn.neighbors import KDTree\n",
        "\n",
        "from keras.models import Sequential, Model, model_from_json\n",
        "from keras.layers import Dense, Dropout\n",
        "from keras.layers import BatchNormalization\n",
        "from keras.optimizers import Adam\n",
        "from keras.utils import to_categorical"
      ],
      "execution_count": 0,
      "outputs": [
        {
          "output_type": "stream",
          "text": [
            "Using TensorFlow backend.\n"
          ],
          "name": "stderr"
        },
        {
          "output_type": "display_data",
          "data": {
            "text/html": [
              "<p style=\"color: red;\">\n",
              "The default version of TensorFlow in Colab will soon switch to TensorFlow 2.x.<br>\n",
              "We recommend you <a href=\"https://www.tensorflow.org/guide/migrate\" target=\"_blank\">upgrade</a> now \n",
              "or ensure your notebook will continue to use TensorFlow 1.x via the <code>%tensorflow_version 1.x</code> magic:\n",
              "<a href=\"https://colab.research.google.com/notebooks/tensorflow_version.ipynb\" target=\"_blank\">more info</a>.</p>\n"
            ],
            "text/plain": [
              "<IPython.core.display.HTML object>"
            ]
          },
          "metadata": {
            "tags": []
          }
        }
      ]
    },
    {
      "cell_type": "code",
      "metadata": {
        "id": "dUaqaDlhlw0R",
        "colab_type": "code",
        "outputId": "4b95858a-df52-403e-e1ba-f49493ffee64",
        "colab": {
          "base_uri": "https://localhost:8080/",
          "height": 17
        }
      },
      "source": [
        "import json\n",
        "import time\n",
        "import numpy as np\n",
        "import matplotlib.pyplot as plt\n",
        "import pandas as pd\n",
        "import tensorflow as tf\n",
        "import seaborn as sns\n",
        "from sklearn.model_selection import train_test_split\n",
        "from sklearn.preprocessing import scale, StandardScaler, MinMaxScaler\n",
        "from sklearn.metrics import confusion_matrix\n",
        "from keras.preprocessing import sequence\n",
        "from keras.preprocessing.text import Tokenizer, text_to_word_sequence\n",
        "from keras.utils import np_utils\n",
        "# from keras_gpt_2 import load_trained_model_from_checkpoint, get_bpe_from_files, generate\n",
        "from keras.models import Model\n",
        "from keras import layers\n",
        "from keras.utils import to_categorical\n",
        "from keras.callbacks import ModelCheckpoint\n",
        "# import shap\n",
        "\n",
        "from IPython.core.display import display, HTML\n",
        "display(HTML(\"<style>.container { width:100% !important; }</style>\"))\n"
      ],
      "execution_count": 0,
      "outputs": [
        {
          "output_type": "display_data",
          "data": {
            "text/html": [
              "<style>.container { width:100% !important; }</style>"
            ],
            "text/plain": [
              "<IPython.core.display.HTML object>"
            ]
          },
          "metadata": {
            "tags": []
          }
        }
      ]
    },
    {
      "cell_type": "code",
      "metadata": {
        "id": "bVXYKxAwlmg-",
        "colab_type": "code",
        "colab": {}
      },
      "source": [
        "pad_maxlen = 20\n",
        "encoding_mode = \"tokenize\" ## \"tokenize\", \"bpe\""
      ],
      "execution_count": 0,
      "outputs": []
    },
    {
      "cell_type": "markdown",
      "metadata": {
        "id": "xhsLp_RFSmzf",
        "colab_type": "text"
      },
      "source": [
        "# Get data"
      ]
    },
    {
      "cell_type": "code",
      "metadata": {
        "id": "em5zzK2vuY0W",
        "colab_type": "code",
        "outputId": "9de4479d-4044-406a-cf39-45080149ab7a",
        "colab": {
          "base_uri": "https://localhost:8080/",
          "height": 419
        }
      },
      "source": [
        "df_data = pd.read_csv(\"data/merge_data.csv\")\n",
        "print (df_data.dtypes)\n",
        "\n",
        "df_data.head()"
      ],
      "execution_count": 0,
      "outputs": [
        {
          "output_type": "stream",
          "text": [
            "Unnamed: 0      int64\n",
            "date           object\n",
            "sign          float64\n",
            "words          object\n",
            "Open          float64\n",
            "diff_price    float64\n",
            "dtype: object\n"
          ],
          "name": "stdout"
        },
        {
          "output_type": "execute_result",
          "data": {
            "text/html": [
              "<div>\n",
              "<style scoped>\n",
              "    .dataframe tbody tr th:only-of-type {\n",
              "        vertical-align: middle;\n",
              "    }\n",
              "\n",
              "    .dataframe tbody tr th {\n",
              "        vertical-align: top;\n",
              "    }\n",
              "\n",
              "    .dataframe thead th {\n",
              "        text-align: right;\n",
              "    }\n",
              "</style>\n",
              "<table border=\"1\" class=\"dataframe\">\n",
              "  <thead>\n",
              "    <tr style=\"text-align: right;\">\n",
              "      <th></th>\n",
              "      <th>Unnamed: 0</th>\n",
              "      <th>date</th>\n",
              "      <th>sign</th>\n",
              "      <th>words</th>\n",
              "      <th>Open</th>\n",
              "      <th>diff_price</th>\n",
              "    </tr>\n",
              "  </thead>\n",
              "  <tbody>\n",
              "    <tr>\n",
              "      <th>0</th>\n",
              "      <td>0</td>\n",
              "      <td>2017-05-24</td>\n",
              "      <td>1.0</td>\n",
              "      <td>[18, 798, 5784, 1684, 454, 2394, 1034, 225, 57...</td>\n",
              "      <td>111.8</td>\n",
              "      <td>0.06</td>\n",
              "    </tr>\n",
              "    <tr>\n",
              "      <th>1</th>\n",
              "      <td>1</td>\n",
              "      <td>2017-05-24</td>\n",
              "      <td>1.0</td>\n",
              "      <td>[27, 5787, 1768, 131, 1403, 5788, 2458, 1, 14,...</td>\n",
              "      <td>111.8</td>\n",
              "      <td>0.06</td>\n",
              "    </tr>\n",
              "    <tr>\n",
              "      <th>2</th>\n",
              "      <td>2</td>\n",
              "      <td>2017-05-24</td>\n",
              "      <td>1.0</td>\n",
              "      <td>[144, 737, 78, 5790, 1367, 5791, 144, 737, 5792]</td>\n",
              "      <td>111.8</td>\n",
              "      <td>0.06</td>\n",
              "    </tr>\n",
              "    <tr>\n",
              "      <th>3</th>\n",
              "      <td>3</td>\n",
              "      <td>2017-05-24</td>\n",
              "      <td>1.0</td>\n",
              "      <td>[2439, 1401, 319, 1310, 22, 5793, 1685, 942, 1...</td>\n",
              "      <td>111.8</td>\n",
              "      <td>0.06</td>\n",
              "    </tr>\n",
              "    <tr>\n",
              "      <th>4</th>\n",
              "      <td>4</td>\n",
              "      <td>2017-05-24</td>\n",
              "      <td>1.0</td>\n",
              "      <td>[5799, 5800, 433, 771, 1433, 13, 2126, 2, 46, ...</td>\n",
              "      <td>111.8</td>\n",
              "      <td>0.06</td>\n",
              "    </tr>\n",
              "  </tbody>\n",
              "</table>\n",
              "</div>"
            ],
            "text/plain": [
              "   Unnamed: 0        date  ...   Open diff_price\n",
              "0           0  2017-05-24  ...  111.8       0.06\n",
              "1           1  2017-05-24  ...  111.8       0.06\n",
              "2           2  2017-05-24  ...  111.8       0.06\n",
              "3           3  2017-05-24  ...  111.8       0.06\n",
              "4           4  2017-05-24  ...  111.8       0.06\n",
              "\n",
              "[5 rows x 6 columns]"
            ]
          },
          "metadata": {
            "tags": []
          },
          "execution_count": 4
        }
      ]
    },
    {
      "cell_type": "code",
      "metadata": {
        "id": "XgjsWNXew0gz",
        "colab_type": "code",
        "outputId": "ed974a3b-59d9-481d-ade0-f10f18c366fd",
        "colab": {
          "base_uri": "https://localhost:8080/",
          "height": 34
        }
      },
      "source": [
        "df_data[\"sign\"].unique()"
      ],
      "execution_count": 0,
      "outputs": [
        {
          "output_type": "execute_result",
          "data": {
            "text/plain": [
              "array([1., 2.])"
            ]
          },
          "metadata": {
            "tags": []
          },
          "execution_count": 5
        }
      ]
    },
    {
      "cell_type": "code",
      "metadata": {
        "id": "l_sFQbjJsxlX",
        "colab_type": "code",
        "outputId": "7e500846-0547-4f8d-c160-7b1e17d73b12",
        "colab": {
          "base_uri": "https://localhost:8080/",
          "height": 529
        }
      },
      "source": [
        "df_data[\"item\"] = 0\n",
        "df_data[\"item\"] = df_data.groupby([\"date\"])[\"item\"].transform(\"count\")\n",
        "df_data.head(10)"
      ],
      "execution_count": 0,
      "outputs": [
        {
          "output_type": "execute_result",
          "data": {
            "text/html": [
              "<div>\n",
              "<style scoped>\n",
              "    .dataframe tbody tr th:only-of-type {\n",
              "        vertical-align: middle;\n",
              "    }\n",
              "\n",
              "    .dataframe tbody tr th {\n",
              "        vertical-align: top;\n",
              "    }\n",
              "\n",
              "    .dataframe thead th {\n",
              "        text-align: right;\n",
              "    }\n",
              "</style>\n",
              "<table border=\"1\" class=\"dataframe\">\n",
              "  <thead>\n",
              "    <tr style=\"text-align: right;\">\n",
              "      <th></th>\n",
              "      <th>Unnamed: 0</th>\n",
              "      <th>date</th>\n",
              "      <th>sign</th>\n",
              "      <th>words</th>\n",
              "      <th>Open</th>\n",
              "      <th>diff_price</th>\n",
              "      <th>item</th>\n",
              "    </tr>\n",
              "  </thead>\n",
              "  <tbody>\n",
              "    <tr>\n",
              "      <th>0</th>\n",
              "      <td>0</td>\n",
              "      <td>2017-05-24</td>\n",
              "      <td>1.0</td>\n",
              "      <td>[18, 798, 5784, 1684, 454, 2394, 1034, 225, 57...</td>\n",
              "      <td>111.80</td>\n",
              "      <td>0.06</td>\n",
              "      <td>5</td>\n",
              "    </tr>\n",
              "    <tr>\n",
              "      <th>1</th>\n",
              "      <td>1</td>\n",
              "      <td>2017-05-24</td>\n",
              "      <td>1.0</td>\n",
              "      <td>[27, 5787, 1768, 131, 1403, 5788, 2458, 1, 14,...</td>\n",
              "      <td>111.80</td>\n",
              "      <td>0.06</td>\n",
              "      <td>5</td>\n",
              "    </tr>\n",
              "    <tr>\n",
              "      <th>2</th>\n",
              "      <td>2</td>\n",
              "      <td>2017-05-24</td>\n",
              "      <td>1.0</td>\n",
              "      <td>[144, 737, 78, 5790, 1367, 5791, 144, 737, 5792]</td>\n",
              "      <td>111.80</td>\n",
              "      <td>0.06</td>\n",
              "      <td>5</td>\n",
              "    </tr>\n",
              "    <tr>\n",
              "      <th>3</th>\n",
              "      <td>3</td>\n",
              "      <td>2017-05-24</td>\n",
              "      <td>1.0</td>\n",
              "      <td>[2439, 1401, 319, 1310, 22, 5793, 1685, 942, 1...</td>\n",
              "      <td>111.80</td>\n",
              "      <td>0.06</td>\n",
              "      <td>5</td>\n",
              "    </tr>\n",
              "    <tr>\n",
              "      <th>4</th>\n",
              "      <td>4</td>\n",
              "      <td>2017-05-24</td>\n",
              "      <td>1.0</td>\n",
              "      <td>[5799, 5800, 433, 771, 1433, 13, 2126, 2, 46, ...</td>\n",
              "      <td>111.80</td>\n",
              "      <td>0.06</td>\n",
              "      <td>5</td>\n",
              "    </tr>\n",
              "    <tr>\n",
              "      <th>5</th>\n",
              "      <td>5</td>\n",
              "      <td>2017-05-25</td>\n",
              "      <td>2.0</td>\n",
              "      <td>[505, 857, 356, 866, 41, 60, 555, 611, 1056, 4...</td>\n",
              "      <td>111.86</td>\n",
              "      <td>-0.94</td>\n",
              "      <td>4</td>\n",
              "    </tr>\n",
              "    <tr>\n",
              "      <th>6</th>\n",
              "      <td>6</td>\n",
              "      <td>2017-05-25</td>\n",
              "      <td>2.0</td>\n",
              "      <td>[733, 315, 5774, 290, 761, 5775, 2270, 908, 14...</td>\n",
              "      <td>111.86</td>\n",
              "      <td>-0.94</td>\n",
              "      <td>4</td>\n",
              "    </tr>\n",
              "    <tr>\n",
              "      <th>7</th>\n",
              "      <td>7</td>\n",
              "      <td>2017-05-25</td>\n",
              "      <td>2.0</td>\n",
              "      <td>[155, 5778, 1517, 704, 11, 5779, 5780, 481, 20...</td>\n",
              "      <td>111.86</td>\n",
              "      <td>-0.94</td>\n",
              "      <td>4</td>\n",
              "    </tr>\n",
              "    <tr>\n",
              "      <th>8</th>\n",
              "      <td>8</td>\n",
              "      <td>2017-05-25</td>\n",
              "      <td>2.0</td>\n",
              "      <td>[105, 232, 1392, 87, 1456, 1448, 584, 60, 64, ...</td>\n",
              "      <td>111.86</td>\n",
              "      <td>-0.94</td>\n",
              "      <td>4</td>\n",
              "    </tr>\n",
              "    <tr>\n",
              "      <th>9</th>\n",
              "      <td>9</td>\n",
              "      <td>2017-05-26</td>\n",
              "      <td>1.0</td>\n",
              "      <td>[387, 2429, 765, 2327, 239, 5757, 5758, 5759, ...</td>\n",
              "      <td>110.92</td>\n",
              "      <td>0.41</td>\n",
              "      <td>4</td>\n",
              "    </tr>\n",
              "  </tbody>\n",
              "</table>\n",
              "</div>"
            ],
            "text/plain": [
              "   Unnamed: 0        date  sign  ...    Open  diff_price  item\n",
              "0           0  2017-05-24   1.0  ...  111.80        0.06     5\n",
              "1           1  2017-05-24   1.0  ...  111.80        0.06     5\n",
              "2           2  2017-05-24   1.0  ...  111.80        0.06     5\n",
              "3           3  2017-05-24   1.0  ...  111.80        0.06     5\n",
              "4           4  2017-05-24   1.0  ...  111.80        0.06     5\n",
              "5           5  2017-05-25   2.0  ...  111.86       -0.94     4\n",
              "6           6  2017-05-25   2.0  ...  111.86       -0.94     4\n",
              "7           7  2017-05-25   2.0  ...  111.86       -0.94     4\n",
              "8           8  2017-05-25   2.0  ...  111.86       -0.94     4\n",
              "9           9  2017-05-26   1.0  ...  110.92        0.41     4\n",
              "\n",
              "[10 rows x 7 columns]"
            ]
          },
          "metadata": {
            "tags": []
          },
          "execution_count": 6
        }
      ]
    },
    {
      "cell_type": "code",
      "metadata": {
        "id": "We0BUcqtJ5dd",
        "colab_type": "code",
        "outputId": "a23eca97-8011-45f9-ad7c-b811335cd25e",
        "colab": {
          "base_uri": "https://localhost:8080/",
          "height": 121
        }
      },
      "source": [
        "# seperate train, validate, test datasets\n",
        "if encoding_mode == \"tokenize\":\n",
        "    x_train, x_test0, y_train, y_test0 = train_test_split(\n",
        "        df_data[\"words\"].apply(eval).values, df_data[\"sign\"].values, test_size=0.30, random_state=42, shuffle=False)\n",
        "    print (len(df_data[\"words\"].apply(eval).values))    \n",
        "    x_validate, x_test, y_validate, y_test = train_test_split(\n",
        "        x_test0,  y_test0, test_size=0.50, random_state=42, shuffle=False)\n",
        "    print('Pad sequences (samples x time)')\n",
        "    # pad sequences\n",
        "    x_train = sequence.pad_sequences(x_train, maxlen=pad_maxlen)\n",
        "    x_validate = sequence.pad_sequences(x_validate, maxlen=pad_maxlen)\n",
        "    x_test = sequence.pad_sequences(x_test, maxlen=pad_maxlen)\n",
        "    print('x_train shape:', x_train.shape)\n",
        "    print('x_validate shape:', x_validate.shape)\n",
        "    print('x_test shape:', x_test.shape)    \n",
        "elif encoding_mode == \"bpe\":\n",
        "    encode_data = df_data[\"bpe\"].apply(eval).values\n",
        "    x_train, x_test0, y_train, y_test0 = train_test_split(\n",
        "        encode_data, df_data[\"sign\"].values, test_size=0.33, random_state=42, shuffle=False)  \n",
        "    print (len(df_data[\"bpe\"].apply(eval).values))    \n",
        "    x_validate, x_test, y_validate, y_test = train_test_split(\n",
        "        x_test0,  y_test0, test_size=0.50, random_state=42, shuffle=False)\n",
        "    text_lens = [len(encode) for encode in x_train]\n",
        "    max_len = max(text_lens)\n",
        "    print (\"maxlen\", max_len)  \n",
        "    # pad sequence\n",
        "    x_train =  np.array([encode + [0] * (max_len - len(encode)) for encode in x_train])\n",
        "    x_validate =  np.array([encode + [0] * (max_len - len(encode)) for encode in x_validate])\n",
        "    x_test =  np.array([encode + [0] * (max_len - len(encode)) for encode in x_test])\n",
        "elif encoding_mode == \"text\":\n",
        "    encode_data = df_data[\"bpe\"].apply(eval).values\n",
        "    x_train, x_test0, y_train, y_test0 = train_test_split(\n",
        "        encode_data, df_data[\"sign\"].values, test_size=0.33, random_state=42, shuffle=False)  \n",
        "    print (len(df_data[\"bpe\"].apply(eval).values))    \n",
        "    x_validate, x_test, y_validate, y_test = train_test_split(\n",
        "        x_test0,  y_test0, test_size=0.50, random_state=42, shuffle=False)\n",
        "    text_lens = [len(encode) for encode in x_train]\n",
        "    max_len = max(text_lens)\n",
        "    print (\"maxlen\", max_len)  \n",
        "    # pad sequence\n",
        "    x_train =  np.array([encode + [0] * (max_len - len(encode)) for encode in x_train])\n",
        "    x_validate =  np.array([encode + [0] * (max_len - len(encode)) for encode in x_validate])\n",
        "    x_test =  np.array([encode + [0] * (max_len - len(encode)) for encode in x_test])\n",
        "    \n",
        "print (x_train.shape, x_validate.shape, x_test.shape)"
      ],
      "execution_count": 0,
      "outputs": [
        {
          "output_type": "stream",
          "text": [
            "554\n",
            "Pad sequences (samples x time)\n",
            "x_train shape: (387, 20)\n",
            "x_validate shape: (83, 20)\n",
            "x_test shape: (84, 20)\n",
            "(387, 20) (83, 20) (84, 20)\n"
          ],
          "name": "stdout"
        }
      ]
    },
    {
      "cell_type": "code",
      "metadata": {
        "id": "M_zfdJCoKeTc",
        "colab_type": "code",
        "outputId": "85f43613-6d10-4c93-a7ac-62839ea7e8f3",
        "colab": {
          "base_uri": "https://localhost:8080/",
          "height": 139
        }
      },
      "source": [
        "x_train"
      ],
      "execution_count": 0,
      "outputs": [
        {
          "output_type": "execute_result",
          "data": {
            "text/plain": [
              "array([[   0,    0,    0, ..., 1981,  163,   13],\n",
              "       [   0,    0,    0, ...,   14, 5789, 2458],\n",
              "       [   0,    0,    0, ...,  144,  737, 5792],\n",
              "       ...,\n",
              "       [   0,    0,    0, ...,   63,  190, 2186],\n",
              "       [   0,    0,    0, ...,  956, 4131, 4132],\n",
              "       [   0,    0,    0, ..., 4134,  988, 4135]], dtype=int32)"
            ]
          },
          "metadata": {
            "tags": []
          },
          "execution_count": 8
        }
      ]
    },
    {
      "cell_type": "code",
      "metadata": {
        "id": "4X9Joh8jo5AN",
        "colab_type": "code",
        "outputId": "7ec06b5e-f885-43b3-e9de-1f4af334fa5a",
        "colab": {
          "base_uri": "https://localhost:8080/",
          "height": 261
        }
      },
      "source": [
        "class_vectors = df_data[\"diff_price\"].unique()\n",
        "len(class_vectors), class_vectors"
      ],
      "execution_count": 0,
      "outputs": [
        {
          "output_type": "execute_result",
          "data": {
            "text/plain": [
              "(119, array([ 0.06, -0.94,  0.41, -0.28,  0.28,  0.39, -0.49,  0.93,  0.26,\n",
              "        -0.48,  0.18,  0.13, -0.45,  1.55, -0.35,  0.57, -0.44,  0.02,\n",
              "         0.09,  0.48,  0.04,  0.45,  0.25, -0.47, -0.17,  0.55,  0.1 ,\n",
              "        -0.89, -0.76, -0.25, -0.29, -0.74, -0.9 ,  0.73,  0.43, -0.68,\n",
              "        -0.2 ,  0.42, -0.54,  0.78, -0.3 ,  0.08, -0.81,  0.65,  0.67,\n",
              "        -0.97, -0.11,  0.29,  0.03,  0.19, -0.33, -0.65,  1.3 ,  0.76,\n",
              "        -0.53, -0.56, -0.16, -0.63,  0.11, -1.17,  0.79,  1.21,  0.37,\n",
              "         0.35,  0.81,  0.05, -0.34,  1.12, -0.47,  0.08, -0.38,  1.16,\n",
              "        -0.09,  0.38,  0.14, -0.51,  0.34, -0.35, -0.22, -0.15, -0.31,\n",
              "         0.36,  0.58, -0.08,  0.71,  0.57, -0.3 ,  0.56, -0.55,  0.37,\n",
              "        -0.41, -0.43,  0.78, -0.01,  0.07, -0.43, -0.26,  0.01,  0.44,\n",
              "        -1.03, -0.45, -0.51, -0.74,  0.02,  1.  ,  0.4 , -0.27,  0.49,\n",
              "         0.87, -0.12, -0.1 , -0.54, -0.63,  0.51, -0.14, -0.09, -0.41,\n",
              "        -0.18, -0.21]))"
            ]
          },
          "metadata": {
            "tags": []
          },
          "execution_count": 9
        }
      ]
    },
    {
      "cell_type": "markdown",
      "metadata": {
        "id": "voUUMbyvKkF8",
        "colab_type": "text"
      },
      "source": [
        "## Label encoder"
      ]
    },
    {
      "cell_type": "code",
      "metadata": {
        "id": "BNi972GBKhsD",
        "colab_type": "code",
        "outputId": "af58ff8d-31e2-4779-8e73-cc3d260015e8",
        "colab": {
          "base_uri": "https://localhost:8080/",
          "height": 52
        }
      },
      "source": [
        "from sklearn.preprocessing import LabelEncoder\n",
        "\n",
        "# Encode text to labels\n",
        "le = LabelEncoder()\n",
        "le.fit(y_train)\n",
        "train_labels_enc = le.transform(y_train)\n",
        "validation_labels_enc = le.transform(y_validate)\n",
        "test_labels_enc = le.transform(y_test)\n",
        "\n",
        "print (y_train[0:4], train_labels_enc[0:4])\n",
        "print (train_labels_enc.shape, test_labels_enc.shape)"
      ],
      "execution_count": 0,
      "outputs": [
        {
          "output_type": "stream",
          "text": [
            "[1. 1. 1. 1.] [0 0 0 0]\n",
            "(387,) (84,)\n"
          ],
          "name": "stdout"
        }
      ]
    },
    {
      "cell_type": "code",
      "metadata": {
        "id": "XUPB32hjlBN_",
        "colab_type": "code",
        "outputId": "d21573ec-6247-4c8a-c7f3-9837e6ccbde2",
        "colab": {
          "base_uri": "https://localhost:8080/",
          "height": 34
        }
      },
      "source": [
        "from keras.utils import to_categorical\n",
        "\n",
        "# Convert a vector label to matrix label\n",
        "y_train_ohe = to_categorical(train_labels_enc)\n",
        "y_validation_ohe = to_categorical(validation_labels_enc)\n",
        "y_test_ohe = to_categorical(test_labels_enc)\n",
        "print (y_train_ohe.shape,y_test_ohe.shape[0])"
      ],
      "execution_count": 0,
      "outputs": [
        {
          "output_type": "stream",
          "text": [
            "(387, 2) 84\n"
          ],
          "name": "stdout"
        }
      ]
    },
    {
      "cell_type": "code",
      "metadata": {
        "id": "b4QZ2CPMlC24",
        "colab_type": "code",
        "outputId": "ff03b7fd-cb72-4040-dc18-264e5f1882f8",
        "colab": {
          "base_uri": "https://localhost:8080/",
          "height": 1000
        }
      },
      "source": [
        "set(y_train), y_train_ohe"
      ],
      "execution_count": 0,
      "outputs": [
        {
          "output_type": "execute_result",
          "data": {
            "text/plain": [
              "({1.0, 2.0}, array([[1., 0.],\n",
              "        [1., 0.],\n",
              "        [1., 0.],\n",
              "        [1., 0.],\n",
              "        [1., 0.],\n",
              "        [0., 1.],\n",
              "        [0., 1.],\n",
              "        [0., 1.],\n",
              "        [0., 1.],\n",
              "        [1., 0.],\n",
              "        [1., 0.],\n",
              "        [1., 0.],\n",
              "        [1., 0.],\n",
              "        [0., 1.],\n",
              "        [0., 1.],\n",
              "        [0., 1.],\n",
              "        [0., 1.],\n",
              "        [0., 1.],\n",
              "        [0., 1.],\n",
              "        [0., 1.],\n",
              "        [0., 1.],\n",
              "        [0., 1.],\n",
              "        [1., 0.],\n",
              "        [1., 0.],\n",
              "        [1., 0.],\n",
              "        [1., 0.],\n",
              "        [1., 0.],\n",
              "        [1., 0.],\n",
              "        [1., 0.],\n",
              "        [1., 0.],\n",
              "        [1., 0.],\n",
              "        [1., 0.],\n",
              "        [0., 1.],\n",
              "        [0., 1.],\n",
              "        [0., 1.],\n",
              "        [0., 1.],\n",
              "        [0., 1.],\n",
              "        [0., 1.],\n",
              "        [0., 1.],\n",
              "        [0., 1.],\n",
              "        [0., 1.],\n",
              "        [1., 0.],\n",
              "        [1., 0.],\n",
              "        [1., 0.],\n",
              "        [1., 0.],\n",
              "        [0., 1.],\n",
              "        [0., 1.],\n",
              "        [0., 1.],\n",
              "        [1., 0.],\n",
              "        [1., 0.],\n",
              "        [1., 0.],\n",
              "        [1., 0.],\n",
              "        [1., 0.],\n",
              "        [1., 0.],\n",
              "        [1., 0.],\n",
              "        [1., 0.],\n",
              "        [0., 1.],\n",
              "        [1., 0.],\n",
              "        [1., 0.],\n",
              "        [1., 0.],\n",
              "        [1., 0.],\n",
              "        [0., 1.],\n",
              "        [1., 0.],\n",
              "        [1., 0.],\n",
              "        [0., 1.],\n",
              "        [0., 1.],\n",
              "        [0., 1.],\n",
              "        [0., 1.],\n",
              "        [0., 1.],\n",
              "        [0., 1.],\n",
              "        [1., 0.],\n",
              "        [1., 0.],\n",
              "        [1., 0.],\n",
              "        [1., 0.],\n",
              "        [1., 0.],\n",
              "        [1., 0.],\n",
              "        [1., 0.],\n",
              "        [1., 0.],\n",
              "        [1., 0.],\n",
              "        [1., 0.],\n",
              "        [1., 0.],\n",
              "        [1., 0.],\n",
              "        [1., 0.],\n",
              "        [1., 0.],\n",
              "        [1., 0.],\n",
              "        [1., 0.],\n",
              "        [1., 0.],\n",
              "        [0., 1.],\n",
              "        [0., 1.],\n",
              "        [0., 1.],\n",
              "        [0., 1.],\n",
              "        [0., 1.],\n",
              "        [1., 0.],\n",
              "        [1., 0.],\n",
              "        [1., 0.],\n",
              "        [1., 0.],\n",
              "        [1., 0.],\n",
              "        [1., 0.],\n",
              "        [1., 0.],\n",
              "        [1., 0.],\n",
              "        [0., 1.],\n",
              "        [1., 0.],\n",
              "        [1., 0.],\n",
              "        [1., 0.],\n",
              "        [1., 0.],\n",
              "        [1., 0.],\n",
              "        [1., 0.],\n",
              "        [1., 0.],\n",
              "        [1., 0.],\n",
              "        [1., 0.],\n",
              "        [1., 0.],\n",
              "        [1., 0.],\n",
              "        [1., 0.],\n",
              "        [0., 1.],\n",
              "        [0., 1.],\n",
              "        [0., 1.],\n",
              "        [1., 0.],\n",
              "        [0., 1.],\n",
              "        [0., 1.],\n",
              "        [0., 1.],\n",
              "        [0., 1.],\n",
              "        [0., 1.],\n",
              "        [0., 1.],\n",
              "        [0., 1.],\n",
              "        [0., 1.],\n",
              "        [0., 1.],\n",
              "        [0., 1.],\n",
              "        [0., 1.],\n",
              "        [0., 1.],\n",
              "        [0., 1.],\n",
              "        [1., 0.],\n",
              "        [0., 1.],\n",
              "        [0., 1.],\n",
              "        [0., 1.],\n",
              "        [0., 1.],\n",
              "        [1., 0.],\n",
              "        [1., 0.],\n",
              "        [1., 0.],\n",
              "        [1., 0.],\n",
              "        [1., 0.],\n",
              "        [0., 1.],\n",
              "        [0., 1.],\n",
              "        [0., 1.],\n",
              "        [1., 0.],\n",
              "        [1., 0.],\n",
              "        [1., 0.],\n",
              "        [1., 0.],\n",
              "        [0., 1.],\n",
              "        [0., 1.],\n",
              "        [0., 1.],\n",
              "        [0., 1.],\n",
              "        [0., 1.],\n",
              "        [0., 1.],\n",
              "        [0., 1.],\n",
              "        [0., 1.],\n",
              "        [1., 0.],\n",
              "        [1., 0.],\n",
              "        [1., 0.],\n",
              "        [0., 1.],\n",
              "        [0., 1.],\n",
              "        [0., 1.],\n",
              "        [0., 1.],\n",
              "        [0., 1.],\n",
              "        [0., 1.],\n",
              "        [1., 0.],\n",
              "        [0., 1.],\n",
              "        [0., 1.],\n",
              "        [0., 1.],\n",
              "        [0., 1.],\n",
              "        [1., 0.],\n",
              "        [1., 0.],\n",
              "        [1., 0.],\n",
              "        [1., 0.],\n",
              "        [1., 0.],\n",
              "        [1., 0.],\n",
              "        [0., 1.],\n",
              "        [0., 1.],\n",
              "        [0., 1.],\n",
              "        [0., 1.],\n",
              "        [1., 0.],\n",
              "        [1., 0.],\n",
              "        [1., 0.],\n",
              "        [1., 0.],\n",
              "        [1., 0.],\n",
              "        [1., 0.],\n",
              "        [1., 0.],\n",
              "        [1., 0.],\n",
              "        [1., 0.],\n",
              "        [1., 0.],\n",
              "        [1., 0.],\n",
              "        [1., 0.],\n",
              "        [1., 0.],\n",
              "        [1., 0.],\n",
              "        [1., 0.],\n",
              "        [0., 1.],\n",
              "        [0., 1.],\n",
              "        [0., 1.],\n",
              "        [0., 1.],\n",
              "        [0., 1.],\n",
              "        [0., 1.],\n",
              "        [0., 1.],\n",
              "        [0., 1.],\n",
              "        [1., 0.],\n",
              "        [1., 0.],\n",
              "        [1., 0.],\n",
              "        [1., 0.],\n",
              "        [1., 0.],\n",
              "        [1., 0.],\n",
              "        [1., 0.],\n",
              "        [1., 0.],\n",
              "        [1., 0.],\n",
              "        [1., 0.],\n",
              "        [1., 0.],\n",
              "        [0., 1.],\n",
              "        [0., 1.],\n",
              "        [0., 1.],\n",
              "        [0., 1.],\n",
              "        [0., 1.],\n",
              "        [0., 1.],\n",
              "        [0., 1.],\n",
              "        [0., 1.],\n",
              "        [0., 1.],\n",
              "        [0., 1.],\n",
              "        [0., 1.],\n",
              "        [0., 1.],\n",
              "        [0., 1.],\n",
              "        [0., 1.],\n",
              "        [0., 1.],\n",
              "        [0., 1.],\n",
              "        [0., 1.],\n",
              "        [1., 0.],\n",
              "        [1., 0.],\n",
              "        [1., 0.],\n",
              "        [1., 0.],\n",
              "        [1., 0.],\n",
              "        [1., 0.],\n",
              "        [1., 0.],\n",
              "        [0., 1.],\n",
              "        [0., 1.],\n",
              "        [1., 0.],\n",
              "        [1., 0.],\n",
              "        [1., 0.],\n",
              "        [1., 0.],\n",
              "        [1., 0.],\n",
              "        [1., 0.],\n",
              "        [1., 0.],\n",
              "        [1., 0.],\n",
              "        [1., 0.],\n",
              "        [1., 0.],\n",
              "        [1., 0.],\n",
              "        [1., 0.],\n",
              "        [1., 0.],\n",
              "        [1., 0.],\n",
              "        [1., 0.],\n",
              "        [1., 0.],\n",
              "        [1., 0.],\n",
              "        [1., 0.],\n",
              "        [1., 0.],\n",
              "        [1., 0.],\n",
              "        [1., 0.],\n",
              "        [1., 0.],\n",
              "        [0., 1.],\n",
              "        [0., 1.],\n",
              "        [1., 0.],\n",
              "        [1., 0.],\n",
              "        [1., 0.],\n",
              "        [0., 1.],\n",
              "        [0., 1.],\n",
              "        [0., 1.],\n",
              "        [1., 0.],\n",
              "        [1., 0.],\n",
              "        [1., 0.],\n",
              "        [1., 0.],\n",
              "        [1., 0.],\n",
              "        [0., 1.],\n",
              "        [0., 1.],\n",
              "        [0., 1.],\n",
              "        [0., 1.],\n",
              "        [1., 0.],\n",
              "        [1., 0.],\n",
              "        [0., 1.],\n",
              "        [0., 1.],\n",
              "        [0., 1.],\n",
              "        [0., 1.],\n",
              "        [0., 1.],\n",
              "        [1., 0.],\n",
              "        [1., 0.],\n",
              "        [1., 0.],\n",
              "        [1., 0.],\n",
              "        [1., 0.],\n",
              "        [1., 0.],\n",
              "        [1., 0.],\n",
              "        [1., 0.],\n",
              "        [1., 0.],\n",
              "        [1., 0.],\n",
              "        [1., 0.],\n",
              "        [1., 0.],\n",
              "        [1., 0.],\n",
              "        [1., 0.],\n",
              "        [1., 0.],\n",
              "        [1., 0.],\n",
              "        [1., 0.],\n",
              "        [1., 0.],\n",
              "        [0., 1.],\n",
              "        [0., 1.],\n",
              "        [0., 1.],\n",
              "        [0., 1.],\n",
              "        [0., 1.],\n",
              "        [1., 0.],\n",
              "        [1., 0.],\n",
              "        [1., 0.],\n",
              "        [1., 0.],\n",
              "        [1., 0.],\n",
              "        [1., 0.],\n",
              "        [1., 0.],\n",
              "        [1., 0.],\n",
              "        [1., 0.],\n",
              "        [1., 0.],\n",
              "        [1., 0.],\n",
              "        [0., 1.],\n",
              "        [0., 1.],\n",
              "        [0., 1.],\n",
              "        [0., 1.],\n",
              "        [0., 1.],\n",
              "        [0., 1.],\n",
              "        [0., 1.],\n",
              "        [0., 1.],\n",
              "        [0., 1.],\n",
              "        [0., 1.],\n",
              "        [0., 1.],\n",
              "        [0., 1.],\n",
              "        [0., 1.],\n",
              "        [1., 0.],\n",
              "        [1., 0.],\n",
              "        [1., 0.],\n",
              "        [1., 0.],\n",
              "        [1., 0.],\n",
              "        [0., 1.],\n",
              "        [0., 1.],\n",
              "        [0., 1.],\n",
              "        [0., 1.],\n",
              "        [0., 1.],\n",
              "        [0., 1.],\n",
              "        [0., 1.],\n",
              "        [1., 0.],\n",
              "        [1., 0.],\n",
              "        [1., 0.],\n",
              "        [1., 0.],\n",
              "        [1., 0.],\n",
              "        [1., 0.],\n",
              "        [1., 0.],\n",
              "        [1., 0.],\n",
              "        [0., 1.],\n",
              "        [0., 1.],\n",
              "        [1., 0.],\n",
              "        [1., 0.],\n",
              "        [1., 0.],\n",
              "        [1., 0.],\n",
              "        [1., 0.],\n",
              "        [1., 0.],\n",
              "        [1., 0.],\n",
              "        [1., 0.],\n",
              "        [0., 1.],\n",
              "        [0., 1.],\n",
              "        [0., 1.],\n",
              "        [0., 1.],\n",
              "        [0., 1.],\n",
              "        [0., 1.],\n",
              "        [0., 1.],\n",
              "        [1., 0.],\n",
              "        [1., 0.],\n",
              "        [1., 0.],\n",
              "        [1., 0.],\n",
              "        [0., 1.],\n",
              "        [0., 1.],\n",
              "        [0., 1.],\n",
              "        [0., 1.],\n",
              "        [0., 1.],\n",
              "        [0., 1.],\n",
              "        [1., 0.],\n",
              "        [1., 0.],\n",
              "        [1., 0.],\n",
              "        [1., 0.],\n",
              "        [1., 0.],\n",
              "        [0., 1.],\n",
              "        [0., 1.],\n",
              "        [0., 1.]], dtype=float32))"
            ]
          },
          "metadata": {
            "tags": []
          },
          "execution_count": 12
        }
      ]
    },
    {
      "cell_type": "markdown",
      "metadata": {
        "id": "RyEC7-0alJMY",
        "colab_type": "text"
      },
      "source": [
        "# Common functions"
      ]
    },
    {
      "cell_type": "code",
      "metadata": {
        "id": "JTwYGXVtlIVG",
        "colab_type": "code",
        "colab": {}
      },
      "source": [
        "from sklearn import metrics\n",
        "from sklearn.metrics import confusion_matrix\n",
        "def predict_model_confusion_matrix(x_train, y_train, model):\n",
        "    \n",
        "    # load best model weights\n",
        "#     model.load_weights(\"output/fx_model.hdf5\")\n",
        "    \n",
        "    # predict \n",
        "    predicted_labels = model.predict_classes(x_train)\n",
        "    print (\"predicted_labels\", set(predicted_labels))\n",
        "    \n",
        "    true_labels = y_train\n",
        "    \n",
        "    # get_metrics\n",
        "    print('Accuracy:', metrics.accuracy_score(true_labels, predicted_labels))\n",
        "    print('Precision:', metrics.precision_score(true_labels, predicted_labels, average='weighted'))\n",
        "    print('Recall:', metrics.recall_score(true_labels, predicted_labels, average='weighted'))\n",
        "    print('F1 Score:', metrics.f1_score(true_labels, predicted_labels,average='weighted'))\n",
        "\n",
        "    # confusion matrix\n",
        "    labels = list(set(y_train))\n",
        "    cm = confusion_matrix(y_train, predicted_labels, labels=labels)\n",
        "    cm_labeled = pd.DataFrame(cm, columns=labels, index=labels)\n",
        "    sns.heatmap(cm_labeled, annot=True, cmap='Greens', fmt='g')\n",
        "    return true_labels, predicted_labels\n",
        "\n",
        "def plot_confusion_matrix(true_labels, predicted_labels):\n",
        "    # get_metrics\n",
        "    print('Accuracy:', metrics.accuracy_score(true_labels, predicted_labels))\n",
        "    print('Precision:', metrics.precision_score(true_labels, predicted_labels, average='weighted'))\n",
        "    print('Recall:', metrics.recall_score(true_labels, predicted_labels, average='weighted'))\n",
        "    print('F1 Score:', metrics.f1_score(true_labels, predicted_labels,average='weighted'))\n",
        "\n",
        "    # confusion matrix\n",
        "    labels = list(set(true_labels))\n",
        "    cm = confusion_matrix(true_labels, predicted_labels, labels=labels)\n",
        "    cm_labeled = pd.DataFrame(cm, columns=labels, index=labels)\n",
        "    sns.heatmap(cm_labeled, annot=True, cmap='Greens', fmt='g')\n",
        "    return"
      ],
      "execution_count": 0,
      "outputs": []
    },
    {
      "cell_type": "code",
      "metadata": {
        "id": "BHxE-uGJlQ4t",
        "colab_type": "code",
        "colab": {}
      },
      "source": [
        "def plot_accuracy(history):\n",
        "    f, (ax1, ax2) = plt.subplots(1, 2, figsize=(12, 4))\n",
        "    t = f.suptitle('Transfer Learning Performance', fontsize=12)\n",
        "    f.subplots_adjust(top=0.85, wspace=0.3)\n",
        "\n",
        "    epoch_lenght = len(history.history['acc'])+1\n",
        "    epoch_list = list(range(1,epoch_lenght))\n",
        "    \n",
        "    # Plot accuracy\n",
        "    ax1.plot(epoch_list, history.history['acc'], label='Train Accuracy')\n",
        "    ax1.plot(epoch_list, history.history['val_acc'], label='Validation Accuracy')\n",
        "    ax1.set_xticks(np.arange(0, epoch_lenght, 5))\n",
        "    ax1.set_ylabel('Accuracy Value')\n",
        "    ax1.set_xlabel('Epoch')\n",
        "    ax1.set_title('Accuracy')\n",
        "    l1 = ax1.legend(loc=\"best\")\n",
        "\n",
        "    # Plot loss\n",
        "    ax2.plot(epoch_list, history.history['loss'], label='Train Loss')\n",
        "    ax2.plot(epoch_list, history.history['val_loss'], label='Validation Loss')\n",
        "    ax2.set_xticks(np.arange(0, epoch_lenght, 5))\n",
        "    ax2.set_ylabel('Loss Value')\n",
        "    ax2.set_xlabel('Epoch')\n",
        "    ax2.set_title('Loss')\n",
        "    l2 = ax2.legend(loc=\"best\")"
      ],
      "execution_count": 0,
      "outputs": []
    },
    {
      "cell_type": "markdown",
      "metadata": {
        "id": "hXgVs4KlTC6q",
        "colab_type": "text"
      },
      "source": [
        "# Run model"
      ]
    },
    {
      "cell_type": "code",
      "metadata": {
        "id": "k8NKVySBTDvX",
        "colab_type": "code",
        "colab": {}
      },
      "source": [
        "from __future__ import print_function\n",
        "\n",
        "from keras.preprocessing import sequence\n",
        "from keras.models import Sequential\n",
        "from keras.layers import Dense, Embedding\n",
        "from keras.layers import LSTM\n",
        "\n",
        "max_features = 20000\n",
        "batch_size = 32"
      ],
      "execution_count": 0,
      "outputs": []
    },
    {
      "cell_type": "code",
      "metadata": {
        "id": "C02YibzFTJCb",
        "colab_type": "code",
        "outputId": "bc3c3b5f-33bc-4c7a-84f4-8a0bdec5a0d4",
        "colab": {
          "base_uri": "https://localhost:8080/",
          "height": 313
        }
      },
      "source": [
        "print('Build model...')\n",
        "model = Sequential()\n",
        "model.add(Embedding(max_features, 128))\n",
        "model.add(LSTM(128, dropout=0.2, recurrent_dropout=0.2))\n",
        "model.add(Dense(2, activation='tanh'))\n",
        "model.add(Dense(y_train_ohe.shape[1], activation='sigmoid'))\n",
        "model.compile(loss='categorical_crossentropy',\n",
        "              optimizer='adam',\n",
        "              metrics=['accuracy'])\n",
        "model.summary()"
      ],
      "execution_count": 0,
      "outputs": [
        {
          "output_type": "stream",
          "text": [
            "Build model...\n",
            "Model: \"sequential_3\"\n",
            "_________________________________________________________________\n",
            "Layer (type)                 Output Shape              Param #   \n",
            "=================================================================\n",
            "embedding_3 (Embedding)      (None, None, 128)         2560000   \n",
            "_________________________________________________________________\n",
            "lstm_3 (LSTM)                (None, 128)               131584    \n",
            "_________________________________________________________________\n",
            "dense_4 (Dense)              (None, 2)                 258       \n",
            "_________________________________________________________________\n",
            "dense_5 (Dense)              (None, 2)                 6         \n",
            "=================================================================\n",
            "Total params: 2,691,848\n",
            "Trainable params: 2,691,848\n",
            "Non-trainable params: 0\n",
            "_________________________________________________________________\n"
          ],
          "name": "stdout"
        }
      ]
    },
    {
      "cell_type": "code",
      "metadata": {
        "id": "iHsKgpEmUFPi",
        "colab_type": "code",
        "outputId": "081722ed-bbd0-4297-c854-8f0cebe24a5d",
        "colab": {
          "base_uri": "https://localhost:8080/",
          "height": 52
        }
      },
      "source": [
        "print (x_train.shape, x_test.shape)\n",
        "print (y_train_ohe.shape, y_test_ohe.shape)"
      ],
      "execution_count": 0,
      "outputs": [
        {
          "output_type": "stream",
          "text": [
            "(387, 20) (84, 20)\n",
            "(387, 2) (84, 2)\n"
          ],
          "name": "stdout"
        }
      ]
    },
    {
      "cell_type": "code",
      "metadata": {
        "id": "jota-H5bUGT4",
        "colab_type": "code",
        "outputId": "bec618c6-46be-4a10-af9f-1ef270eaa56e",
        "colab": {
          "base_uri": "https://localhost:8080/",
          "height": 473
        }
      },
      "source": [
        "print('Train...')\n",
        "# checkpoint = ModelCheckpoint(\n",
        "#     filepath,\n",
        "#     monitor='val_accuracy',\n",
        "#     verbose=1,\n",
        "#     save_best_only=True,\n",
        "#     mode='max'\n",
        "# )\n",
        "# callbacks_list = [checkpoint]\n",
        "\n",
        "model_history = model.fit(x_train, y_train_ohe,\n",
        "          batch_size=batch_size,\n",
        "          epochs=10,\n",
        "          validation_data=(x_validate, y_validation_ohe)\n",
        "          )\n",
        "score, acc = model.evaluate(x_validate, y_validation_ohe,\n",
        "                            batch_size=batch_size)\n",
        "print('Test score:', score)\n",
        "print('Test accuracy:', acc)"
      ],
      "execution_count": 0,
      "outputs": [
        {
          "output_type": "stream",
          "text": [
            "Train...\n",
            "Train on 387 samples, validate on 83 samples\n",
            "Epoch 1/10\n",
            "387/387 [==============================] - 2s 4ms/step - loss: 0.6918 - acc: 0.5401 - val_loss: 0.6940 - val_acc: 0.5060\n",
            "Epoch 2/10\n",
            "387/387 [==============================] - 1s 1ms/step - loss: 0.6675 - acc: 0.5659 - val_loss: 0.7260 - val_acc: 0.5060\n",
            "Epoch 3/10\n",
            "387/387 [==============================] - 1s 1ms/step - loss: 0.6107 - acc: 0.6744 - val_loss: 0.7123 - val_acc: 0.4819\n",
            "Epoch 4/10\n",
            "387/387 [==============================] - 0s 1ms/step - loss: 0.4384 - acc: 0.9612 - val_loss: 0.7573 - val_acc: 0.4699\n",
            "Epoch 5/10\n",
            "387/387 [==============================] - 0s 1ms/step - loss: 0.3642 - acc: 0.9871 - val_loss: 0.7349 - val_acc: 0.4819\n",
            "Epoch 6/10\n",
            "387/387 [==============================] - 0s 1ms/step - loss: 0.3302 - acc: 1.0000 - val_loss: 0.7979 - val_acc: 0.4819\n",
            "Epoch 7/10\n",
            "387/387 [==============================] - 0s 1ms/step - loss: 0.3181 - acc: 0.9922 - val_loss: 0.7975 - val_acc: 0.4699\n",
            "Epoch 8/10\n",
            "387/387 [==============================] - 0s 1ms/step - loss: 0.3038 - acc: 1.0000 - val_loss: 0.7799 - val_acc: 0.5060\n",
            "Epoch 9/10\n",
            "387/387 [==============================] - 0s 1ms/step - loss: 0.2909 - acc: 1.0000 - val_loss: 0.8349 - val_acc: 0.4819\n",
            "Epoch 10/10\n",
            "387/387 [==============================] - 0s 1ms/step - loss: 0.2814 - acc: 1.0000 - val_loss: 0.8044 - val_acc: 0.5060\n",
            "83/83 [==============================] - 0s 308us/step\n",
            "Test score: 0.8044449047869947\n",
            "Test accuracy: 0.5060241006943117\n"
          ],
          "name": "stdout"
        }
      ]
    },
    {
      "cell_type": "code",
      "metadata": {
        "id": "KvnBVcwnmE6V",
        "colab_type": "code",
        "outputId": "f8b92ffb-f24d-48dd-f4a3-0465cc763e0d",
        "colab": {
          "base_uri": "https://localhost:8080/",
          "height": 328
        }
      },
      "source": [
        "plot_accuracy(model_history)"
      ],
      "execution_count": 0,
      "outputs": [
        {
          "output_type": "display_data",
          "data": {
            "image/png": "[encoded data removed]",
            "text/plain": [
              "<Figure size 864x288 with 2 Axes>"
            ]
          },
          "metadata": {
            "tags": []
          }
        }
      ]
    },
    {
      "cell_type": "code",
      "metadata": {
        "id": "8NiVi7yQjy4k",
        "colab_type": "code",
        "outputId": "5e0654ce-7240-4be9-9488-3c738deb6678",
        "colab": {
          "base_uri": "https://localhost:8080/",
          "height": 334
        }
      },
      "source": [
        "pred_train_model = model.predict_classes(x_train)\n",
        "pred_train_model_adjust = [x if x == 1 else 2 for x in pred_train_model]\n",
        "plot_confusion_matrix(y_train, pred_train_model_adjust)"
      ],
      "execution_count": 0,
      "outputs": [
        {
          "output_type": "stream",
          "text": [
            "Accuracy: 0.0\n",
            "Precision: 0.0\n",
            "Recall: 0.0\n",
            "F1 Score: 0.0\n"
          ],
          "name": "stdout"
        },
        {
          "output_type": "display_data",
          "data": {
            "image/png": "[encoded data removed]",
            "text/plain": [
              "<Figure size 432x288 with 2 Axes>"
            ]
          },
          "metadata": {
            "tags": []
          }
        }
      ]
    },
    {
      "cell_type": "code",
      "metadata": {
        "id": "qEBVFGlwhCQo",
        "colab_type": "code",
        "outputId": "d01ff8ec-db84-446c-d791-4341e092accf",
        "colab": {
          "base_uri": "https://localhost:8080/",
          "height": 334
        }
      },
      "source": [
        "pred_model = model.predict_classes(x_test)\n",
        "pred_model_adjust = [x if x == 1 else 2 for x in pred_model]\n",
        "plot_confusion_matrix(y_test, pred_model_adjust)"
      ],
      "execution_count": 0,
      "outputs": [
        {
          "output_type": "stream",
          "text": [
            "Accuracy: 0.42857142857142855\n",
            "Precision: 0.4471363594170612\n",
            "Recall: 0.42857142857142855\n",
            "F1 Score: 0.4121416249075824\n"
          ],
          "name": "stdout"
        },
        {
          "output_type": "display_data",
          "data": {
            "image/png": "[encoded data removed]",
            "text/plain": [
              "<Figure size 432x288 with 2 Axes>"
            ]
          },
          "metadata": {
            "tags": []
          }
        }
      ]
    },
    {
      "cell_type": "markdown",
      "metadata": {
        "id": "JX2cvRAen3nY",
        "colab_type": "text"
      },
      "source": [
        "# Create ZSL model"
      ]
    },
    {
      "cell_type": "code",
      "metadata": {
        "id": "OWQUVPf8mZtu",
        "colab_type": "code",
        "outputId": "d28be741-8885-4be6-9f7c-7f0833ae6121",
        "colab": {
          "base_uri": "https://localhost:8080/",
          "height": 313
        }
      },
      "source": [
        "# CREATE AND SAVE ZSL MODEL\n",
        "inp         = model.input\n",
        "out         = model.layers[-2].output\n",
        "zsl_model   = Model(inp, out)\n",
        "print(zsl_model.summary())\n",
        "# save_keras_model(zsl_model, model_path=MODELPATH)"
      ],
      "execution_count": 0,
      "outputs": [
        {
          "output_type": "stream",
          "text": [
            "Model: \"model_2\"\n",
            "_________________________________________________________________\n",
            "Layer (type)                 Output Shape              Param #   \n",
            "=================================================================\n",
            "embedding_3_input (InputLaye (None, None)              0         \n",
            "_________________________________________________________________\n",
            "embedding_3 (Embedding)      (None, None, 128)         2560000   \n",
            "_________________________________________________________________\n",
            "lstm_3 (LSTM)                (None, 128)               131584    \n",
            "_________________________________________________________________\n",
            "dense_4 (Dense)              (None, 2)                 258       \n",
            "=================================================================\n",
            "Total params: 2,691,842\n",
            "Trainable params: 2,691,842\n",
            "Non-trainable params: 0\n",
            "_________________________________________________________________\n",
            "None\n"
          ],
          "name": "stdout"
        }
      ]
    },
    {
      "cell_type": "markdown",
      "metadata": {
        "id": "v3euEqmTmRQu",
        "colab_type": "text"
      },
      "source": [
        "## Process zero-shot model"
      ]
    },
    {
      "cell_type": "code",
      "metadata": {
        "id": "2kx8YlYutxr8",
        "colab_type": "code",
        "outputId": "f5934ded-beb4-4943-9151-aaaba130b0f9",
        "colab": {
          "base_uri": "https://localhost:8080/",
          "height": 34
        }
      },
      "source": [
        "price_vectors = np.array(df_data[[\"diff_price\",\"item\"]])\n",
        "vectors = np.unique(price_vectors, axis=0)\n",
        "price_vectors.shape, vectors.shape"
      ],
      "execution_count": 0,
      "outputs": [
        {
          "output_type": "execute_result",
          "data": {
            "text/plain": [
              "((554, 2), (143, 2))"
            ]
          },
          "metadata": {
            "tags": []
          },
          "execution_count": 127
        }
      ]
    },
    {
      "cell_type": "code",
      "metadata": {
        "id": "8GBxczllytzT",
        "colab_type": "code",
        "outputId": "e40cecec-88ec-4c51-cb87-8aa4f642a7a5",
        "colab": {
          "base_uri": "https://localhost:8080/",
          "height": 139
        }
      },
      "source": [
        "price_vectors"
      ],
      "execution_count": 0,
      "outputs": [
        {
          "output_type": "execute_result",
          "data": {
            "text/plain": [
              "array([[ 0.06,  5.  ],\n",
              "       [ 0.06,  5.  ],\n",
              "       [ 0.06,  5.  ],\n",
              "       ...,\n",
              "       [-0.21,  4.  ],\n",
              "       [-0.21,  4.  ],\n",
              "       [-0.21,  4.  ]])"
            ]
          },
          "metadata": {
            "tags": []
          },
          "execution_count": 128
        }
      ]
    },
    {
      "cell_type": "code",
      "metadata": {
        "id": "Lh_uJO5uvdw5",
        "colab_type": "code",
        "outputId": "6501631e-a019-42f9-a64c-8edb89b85f48",
        "colab": {
          "base_uri": "https://localhost:8080/",
          "height": 34
        }
      },
      "source": [
        "class_names = [1 if vectors.T[0][i]>0 else 2 for i in range(len(vectors.T[0])) ]\n",
        "price_class_names = [1 if price_vectors.T[0][i]>0 else 2 for i in range(len(price_vectors.T[0])) ]\n",
        "print (\"class_name: {}, price_class_name: {}\".format(len(class_names), len(price_class_names)))"
      ],
      "execution_count": 0,
      "outputs": [
        {
          "output_type": "stream",
          "text": [
            "class_name: 143, price_class_name: 554\n"
          ],
          "name": "stdout"
        }
      ]
    },
    {
      "cell_type": "code",
      "metadata": {
        "id": "5ciyauEtvdnT",
        "colab_type": "code",
        "outputId": "5a430774-6abb-479f-ed81-6a5e2078a6e6",
        "colab": {
          "base_uri": "https://localhost:8080/",
          "height": 34
        }
      },
      "source": [
        "price_class_names[0:10]"
      ],
      "execution_count": 0,
      "outputs": [
        {
          "output_type": "execute_result",
          "data": {
            "text/plain": [
              "[1, 1, 1, 1, 1, 2, 2, 2, 2, 1]"
            ]
          },
          "metadata": {
            "tags": []
          },
          "execution_count": 130
        }
      ]
    },
    {
      "cell_type": "code",
      "metadata": {
        "id": "Vq7D2LvAojk7",
        "colab_type": "code",
        "colab": {}
      },
      "source": [
        "tree = KDTree(price_vectors)"
      ],
      "execution_count": 0,
      "outputs": []
    },
    {
      "cell_type": "code",
      "metadata": {
        "id": "SXoCrlt0oA54",
        "colab_type": "code",
        "outputId": "7ca6a979-57ca-4dc6-b0d3-ab618e5f2aff",
        "colab": {
          "base_uri": "https://localhost:8080/",
          "height": 52
        }
      },
      "source": [
        "pred_model_original = model.predict_classes(x_test)\n",
        "# pred_zsl_original = zsl_model.predict(x_test)\n",
        "pred_model = [x if x == 1 else 2 for x in pred_model_original]\n",
        "# pred_zsl = [x if x == 1 else 2 for x in pred_zsl_original.T[0]]\n",
        "pred_zsl = zsl_model.predict(x_test)\n",
        "print (\"pred_model\", len(pred_model))\n",
        "print (\"pred_zsl\", len(pred_zsl))\n"
      ],
      "execution_count": 0,
      "outputs": [
        {
          "output_type": "stream",
          "text": [
            "pred_model 84\n",
            "pred_zsl 84\n"
          ],
          "name": "stdout"
        }
      ]
    },
    {
      "cell_type": "code",
      "metadata": {
        "id": "vGnWdZiMpFVp",
        "colab_type": "code",
        "outputId": "a4947dfd-8f00-4d78-aad9-a15babc3f90b",
        "colab": {
          "base_uri": "https://localhost:8080/",
          "height": 52
        }
      },
      "source": [
        "pred_zsl[0], pred_zsl_original[0]"
      ],
      "execution_count": 0,
      "outputs": [
        {
          "output_type": "execute_result",
          "data": {
            "text/plain": [
              "(array([ 0.9963972, -0.9978589], dtype=float32),\n",
              " array([0.01085162, 0.9931613 ], dtype=float32))"
            ]
          },
          "metadata": {
            "tags": []
          },
          "execution_count": 155
        }
      ]
    },
    {
      "cell_type": "code",
      "metadata": {
        "id": "ws8nz6_IwBSM",
        "colab_type": "code",
        "outputId": "10b3d323-898c-448d-e847-90fd3ae70418",
        "colab": {
          "base_uri": "https://localhost:8080/",
          "height": 52
        }
      },
      "source": [
        "print (np.expand_dims(pred_zsl[0], axis=0).shape)\n",
        "print (np.expand_dims(pred_zsl[10], axis=0).shape)"
      ],
      "execution_count": 0,
      "outputs": [
        {
          "output_type": "stream",
          "text": [
            "(1, 2)\n",
            "(1, 2)\n"
          ],
          "name": "stdout"
        }
      ]
    },
    {
      "cell_type": "code",
      "metadata": {
        "id": "2DI0hZlyywzX",
        "colab_type": "code",
        "outputId": "a959d761-a423-44c7-9fe0-f4b20abd01f9",
        "colab": {
          "base_uri": "https://localhost:8080/",
          "height": 52
        }
      },
      "source": [
        "tree.query(np.expand_dims(pred_zsl[1], axis=0), k=5)"
      ],
      "execution_count": 0,
      "outputs": [
        {
          "output_type": "execute_result",
          "data": {
            "text/plain": [
              "(array([[1.87927983, 1.89350586, 1.89350586, 1.91685347, 1.91890117]]),\n",
              " array([[354, 530, 104, 130, 486]]))"
            ]
          },
          "metadata": {
            "tags": []
          },
          "execution_count": 157
        }
      ]
    },
    {
      "cell_type": "code",
      "metadata": {
        "id": "-xSKi83Fx_Bf",
        "colab_type": "code",
        "outputId": "225c58ed-ddf3-4e20-d7c8-518a880b3fb9",
        "colab": {
          "base_uri": "https://localhost:8080/",
          "height": 34
        }
      },
      "source": [
        "price_class_names[354], price_class_names[486]"
      ],
      "execution_count": 0,
      "outputs": [
        {
          "output_type": "execute_result",
          "data": {
            "text/plain": [
              "(1, 1)"
            ]
          },
          "metadata": {
            "tags": []
          },
          "execution_count": 158
        }
      ]
    },
    {
      "cell_type": "code",
      "metadata": {
        "id": "WSnxfBGh1pzD",
        "colab_type": "code",
        "outputId": "51385503-87a0-41d5-8a3d-fd69a6cb4004",
        "colab": {
          "base_uri": "https://localhost:8080/",
          "height": 34
        }
      },
      "source": [
        "set(y_test)"
      ],
      "execution_count": 0,
      "outputs": [
        {
          "output_type": "execute_result",
          "data": {
            "text/plain": [
              "{1.0, 2.0}"
            ]
          },
          "metadata": {
            "tags": []
          },
          "execution_count": 159
        }
      ]
    },
    {
      "cell_type": "code",
      "metadata": {
        "id": "_AzTqEkqoEuw",
        "colab_type": "code",
        "outputId": "43d5ed7c-e70a-4859-8c3a-cd9f96469e5a",
        "colab": {
          "base_uri": "https://localhost:8080/",
          "height": 141
        }
      },
      "source": [
        "count_zsl = 0\n",
        "count_lstm = 0\n",
        "zsl_prediction = []\n",
        "lstm_prediction = []\n",
        "for i, pred in enumerate(pred_zsl):\n",
        "    dist_5, index_5 = tree.query(np.expand_dims(pred, axis=0), k=5)\n",
        "    zsl_label     = [price_class_names[index] for index in index_5[0]][0]\n",
        "    true_label      = int(y_test[i])\n",
        "\n",
        "    zsl_label = zsl_label if zsl_label==1 else 2\n",
        "    lstm_label = pred_model[i] if pred_model[i]==1 else 2\n",
        "\n",
        "    # intregate predicted data\n",
        "    zsl_prediction.append(zsl_label)\n",
        "    lstm_prediction.append(lstm_label)\n",
        "    # print (true_label, pred_labels, pred_lstm)\n",
        "\n",
        "    if (i==1) :\n",
        "        print (\"dist, index\", dist_5, index_5)\n",
        "        print (\"i:{}, true:{}, zsl:{}, lstm:{}\".format(i, true_label, zsl_label, lstm_label))\n",
        "    if true_label == zsl_label:\n",
        "        count_zsl += 1\n",
        "    if true_label == lstm_label:\n",
        "        count_lstm += 1\n",
        "\n",
        "print(\"\\n==== Compare zsl and lstm\")\n",
        "print(\"-> zsl : %.2f\" % (count_zsl / float(len(x_test))))\n",
        "print(\"-> lstm: %.2f\" % (count_lstm / float(len(x_test))))"
      ],
      "execution_count": 0,
      "outputs": [
        {
          "output_type": "stream",
          "text": [
            "dist, index [[1.87927983 1.89350586 1.89350586 1.91685347 1.91890117]] [[354 530 104 130 486]]\n",
            "i:1, true:1, zsl:1, lstm:1\n",
            "\n",
            "==== Compare zsl and lstm\n",
            "-> zsl : 0.44\n",
            "-> lstm: 0.43\n"
          ],
          "name": "stdout"
        }
      ]
    },
    {
      "cell_type": "code",
      "metadata": {
        "id": "Fwi3SFmVeXjy",
        "colab_type": "code",
        "outputId": "8f84d5ac-fb65-49ab-9321-9b3c04a74ec5",
        "colab": {
          "base_uri": "https://localhost:8080/",
          "height": 334
        }
      },
      "source": [
        "plot_confusion_matrix(y_test, zsl_prediction)"
      ],
      "execution_count": 0,
      "outputs": [
        {
          "output_type": "stream",
          "text": [
            "Accuracy: 0.44047619047619047\n",
            "Precision: 0.46447772657450076\n",
            "Recall: 0.44047619047619047\n",
            "F1 Score: 0.4097601271514315\n"
          ],
          "name": "stdout"
        },
        {
          "output_type": "display_data",
          "data": {
            "image/png": "[encoded data removed]",
            "text/plain": [
              "<Figure size 432x288 with 2 Axes>"
            ]
          },
          "metadata": {
            "tags": []
          }
        }
      ]
    },
    {
      "cell_type": "code",
      "metadata": {
        "id": "m6E8zALW4IkP",
        "colab_type": "code",
        "outputId": "f4d714e5-066c-4c7a-9384-bb23924daf57",
        "colab": {
          "base_uri": "https://localhost:8080/",
          "height": 334
        }
      },
      "source": [
        "plot_confusion_matrix(y_test, lstm_prediction)"
      ],
      "execution_count": 0,
      "outputs": [
        {
          "output_type": "stream",
          "text": [
            "Accuracy: 0.42857142857142855\n",
            "Precision: 0.4471363594170612\n",
            "Recall: 0.42857142857142855\n",
            "F1 Score: 0.4121416249075824\n"
          ],
          "name": "stdout"
        },
        {
          "output_type": "display_data",
          "data": {
            "image/png": "[encoded data removed]",
            "text/plain": [
              "<Figure size 432x288 with 2 Axes>"
            ]
          },
          "metadata": {
            "tags": []
          }
        }
      ]
    },
    {
      "cell_type": "code",
      "metadata": {
        "id": "V0p2TwCl4Mzx",
        "colab_type": "code",
        "colab": {}
      },
      "source": [
        ""
      ],
      "execution_count": 0,
      "outputs": []
    }
  ]
}